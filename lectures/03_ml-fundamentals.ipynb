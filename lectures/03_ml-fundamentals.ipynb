{
 "cells": [
  {
   "cell_type": "markdown",
   "metadata": {},
   "source": [
    "![](img/330-banner.png)"
   ]
  },
  {
   "cell_type": "markdown",
   "metadata": {
    "slideshow": {
     "slide_type": "slide"
    }
   },
   "source": [
    "# Lecture 3: Machine Learning Fundamentals \n",
    "\n",
    "UBC 2020-21\n",
    "\n",
    "Instructor: Varada Kolhatkar"
   ]
  },
  {
   "cell_type": "markdown",
   "metadata": {
    "slideshow": {
     "slide_type": "skip"
    }
   },
   "source": [
    "## Imports"
   ]
  },
  {
   "cell_type": "code",
   "execution_count": 1,
   "metadata": {
    "slideshow": {
     "slide_type": "skip"
    }
   },
   "outputs": [],
   "source": [
    "# import the libraries\n",
    "import os\n",
    "import sys\n",
    "\n",
    "import graphviz\n",
    "import IPython\n",
    "import matplotlib.pyplot as plt\n",
    "import numpy as np\n",
    "import pandas as pd\n",
    "from IPython.display import HTML\n",
    "from sklearn.model_selection import train_test_split\n",
    "\n",
    "sys.path.append(\"code/.\")\n",
    "from plotting_functions import *\n",
    "\n",
    "# Classifiers\n",
    "from sklearn.tree import DecisionTreeClassifier, export_graphviz\n",
    "from utils import *\n",
    "\n",
    "%matplotlib inline\n",
    "\n",
    "pd.set_option(\"display.max_colwidth\", 200)"
   ]
  },
  {
   "cell_type": "markdown",
   "metadata": {
    "slideshow": {
     "slide_type": "slide"
    }
   },
   "source": [
    "## Lecture plan for today\n",
    "\n",
    "- Announcements and intro (~5 mins)\n",
    "- Exercises and Q&A on pre-watched videos (~10 mins) \n",
    "- Watch [cross-validation video](https://youtu.be/4cv8VYonepA) (~11 mins)\n",
    "- Exercises and Q&A on cross validation (~5 mins)\n",
    "- Break \n",
    "- Watch [the fundamental tradeoff video](https://youtu.be/Ihay8yE5KTI) (~20 mins)  \n",
    "- Exercises and Q&A on the fundamental tradeoff (~15 mins)\n",
    "- Summary and wrap up (~5 mins)"
   ]
  },
  {
   "cell_type": "markdown",
   "metadata": {
    "slideshow": {
     "slide_type": "skip"
    }
   },
   "source": [
    "<br><br>"
   ]
  },
  {
   "cell_type": "markdown",
   "metadata": {
    "slideshow": {
     "slide_type": "slide"
    }
   },
   "source": [
    "## Announcements\n",
    "\n",
    "- Extension for hw1\n",
    "    - Check [@69 on Piazza](https://piazza.com/class/kt60nrdhu53454?cid=69). \n",
    "- hw2 released. (Due next week Monday at 11:59pm.)\n",
    "    - You are welcome to broadly discuss it with your classmates but final answers and submissions must be your own. \n",
    "- Advice on keeping up with the material \n",
    "    - Practice! You will find some practice questions [here](https://ml-learn.mds.ubc.ca/). \n",
    "    - Start early on homework assignments.     \n",
    "- If you are still on the waitlist, it's your responsibility to keep up with the material and submit assignments. \n",
    "- Try to avoid asking questions in the break. If you have specific questions and you want to talk to me in person, we can do it outside after the class. \n",
    "- Last day to withdraw without a W standing:\tSeptember 20, 2021"
   ]
  },
  {
   "cell_type": "markdown",
   "metadata": {
    "slideshow": {
     "slide_type": "skip"
    }
   },
   "source": [
    "<br><br>"
   ]
  },
  {
   "cell_type": "markdown",
   "metadata": {
    "slideshow": {
     "slide_type": "slide"
    }
   },
   "source": [
    "## Lecture learning objectives\n",
    "\n",
    "From this lecture, you will be able to \n",
    "\n",
    "- explain how decision boundaries change with the `max_depth` hyperparameter;\n",
    "- explain the concept of generalization;\n",
    "- appropriately split a dataset into train and test sets using `train_test_split` function;\n",
    "- explain the difference between train, validation, test, and \"deployment\" data;\n",
    "- identify the difference between training error, validation error, and test error;\n",
    "- explain cross-validation and use `cross_val_score` and `cross_validate` to calculate cross-validation error;\n",
    "- recognize overfitting and/or underfitting by looking at train and test scores;\n",
    "- explain why it is generally not possible to get a perfect test score (zero test error) on a supervised learning problem;\n",
    "- describe the fundamental tradeoff between training score and the train-test gap;\n",
    "- state the golden rule;\n",
    "- start to build a standard recipe for supervised learning: train/test split, hyperparameter tuning with cross-validation, test on test set."
   ]
  },
  {
   "cell_type": "markdown",
   "metadata": {
    "slideshow": {
     "slide_type": "skip"
    }
   },
   "source": [
    "<br><br><br><br>"
   ]
  },
  {
   "cell_type": "markdown",
   "metadata": {
    "slideshow": {
     "slide_type": "slide"
    }
   },
   "source": [
    "## Generalization [[video](https://youtu.be/iS2hsRRlc2M)]"
   ]
  },
  {
   "cell_type": "markdown",
   "metadata": {
    "slideshow": {
     "slide_type": "-"
    }
   },
   "source": [
    "### Big picture and motivation \n",
    "\n",
    "In machine learning, we want to glean information from labeled data so that we can label **new unlabeled** data. For example, suppose we want to build a spam filtering system.  We will take a large number of spam/non-spam messages from the past, learn patterns associated with spam/non-spam from them, and predict whether **a new incoming message** in someone's inbox is spam or non-spam based on these patterns. \n",
    "\n",
    "So we want to learn from the past but ultimately we want to apply it on the future email messages. "
   ]
  },
  {
   "cell_type": "markdown",
   "metadata": {
    "slideshow": {
     "slide_type": "slide"
    }
   },
   "source": [
    "![](img/eva-think.png)\n",
    "\n",
    "**How can we generalize from what we've seen to what we haven't seen?** \n",
    "\n",
    "In this lecture, we'll see how machine learning tackles this question. "
   ]
  },
  {
   "cell_type": "markdown",
   "metadata": {
    "slideshow": {
     "slide_type": "slide"
    }
   },
   "source": [
    "### Model complexity and training error\n",
    "\n",
    "In the last lecture, we looked at decision boundaries, a way to visualize what sort of examples will be classified as positive and negative. \n",
    "\n",
    "Let's examine how does the decision boundary change for different tree depths. "
   ]
  },
  {
   "cell_type": "code",
   "execution_count": 2,
   "metadata": {
    "slideshow": {
     "slide_type": "slide"
    }
   },
   "outputs": [
    {
     "data": {
      "text/html": [
       "<div>\n",
       "<style scoped>\n",
       "    .dataframe tbody tr th:only-of-type {\n",
       "        vertical-align: middle;\n",
       "    }\n",
       "\n",
       "    .dataframe tbody tr th {\n",
       "        vertical-align: top;\n",
       "    }\n",
       "\n",
       "    .dataframe thead th {\n",
       "        text-align: right;\n",
       "    }\n",
       "</style>\n",
       "<table border=\"1\" class=\"dataframe\">\n",
       "  <thead>\n",
       "    <tr style=\"text-align: right;\">\n",
       "      <th></th>\n",
       "      <th>ml_experience</th>\n",
       "      <th>class_attendance</th>\n",
       "      <th>lab1</th>\n",
       "      <th>lab2</th>\n",
       "      <th>lab3</th>\n",
       "      <th>lab4</th>\n",
       "      <th>quiz1</th>\n",
       "      <th>quiz2</th>\n",
       "    </tr>\n",
       "  </thead>\n",
       "  <tbody>\n",
       "    <tr>\n",
       "      <th>0</th>\n",
       "      <td>1</td>\n",
       "      <td>1</td>\n",
       "      <td>92</td>\n",
       "      <td>93</td>\n",
       "      <td>84</td>\n",
       "      <td>91</td>\n",
       "      <td>92</td>\n",
       "      <td>A+</td>\n",
       "    </tr>\n",
       "    <tr>\n",
       "      <th>1</th>\n",
       "      <td>1</td>\n",
       "      <td>0</td>\n",
       "      <td>94</td>\n",
       "      <td>90</td>\n",
       "      <td>80</td>\n",
       "      <td>83</td>\n",
       "      <td>91</td>\n",
       "      <td>not A+</td>\n",
       "    </tr>\n",
       "    <tr>\n",
       "      <th>2</th>\n",
       "      <td>0</td>\n",
       "      <td>0</td>\n",
       "      <td>78</td>\n",
       "      <td>85</td>\n",
       "      <td>83</td>\n",
       "      <td>80</td>\n",
       "      <td>80</td>\n",
       "      <td>not A+</td>\n",
       "    </tr>\n",
       "    <tr>\n",
       "      <th>3</th>\n",
       "      <td>0</td>\n",
       "      <td>1</td>\n",
       "      <td>91</td>\n",
       "      <td>94</td>\n",
       "      <td>92</td>\n",
       "      <td>91</td>\n",
       "      <td>89</td>\n",
       "      <td>A+</td>\n",
       "    </tr>\n",
       "    <tr>\n",
       "      <th>4</th>\n",
       "      <td>0</td>\n",
       "      <td>1</td>\n",
       "      <td>77</td>\n",
       "      <td>83</td>\n",
       "      <td>90</td>\n",
       "      <td>92</td>\n",
       "      <td>85</td>\n",
       "      <td>A+</td>\n",
       "    </tr>\n",
       "    <tr>\n",
       "      <th>5</th>\n",
       "      <td>1</td>\n",
       "      <td>0</td>\n",
       "      <td>70</td>\n",
       "      <td>73</td>\n",
       "      <td>68</td>\n",
       "      <td>74</td>\n",
       "      <td>71</td>\n",
       "      <td>not A+</td>\n",
       "    </tr>\n",
       "    <tr>\n",
       "      <th>6</th>\n",
       "      <td>1</td>\n",
       "      <td>0</td>\n",
       "      <td>80</td>\n",
       "      <td>88</td>\n",
       "      <td>89</td>\n",
       "      <td>88</td>\n",
       "      <td>91</td>\n",
       "      <td>A+</td>\n",
       "    </tr>\n",
       "    <tr>\n",
       "      <th>7</th>\n",
       "      <td>0</td>\n",
       "      <td>1</td>\n",
       "      <td>95</td>\n",
       "      <td>93</td>\n",
       "      <td>69</td>\n",
       "      <td>79</td>\n",
       "      <td>75</td>\n",
       "      <td>not A+</td>\n",
       "    </tr>\n",
       "    <tr>\n",
       "      <th>8</th>\n",
       "      <td>0</td>\n",
       "      <td>0</td>\n",
       "      <td>97</td>\n",
       "      <td>90</td>\n",
       "      <td>94</td>\n",
       "      <td>99</td>\n",
       "      <td>80</td>\n",
       "      <td>not A+</td>\n",
       "    </tr>\n",
       "    <tr>\n",
       "      <th>9</th>\n",
       "      <td>1</td>\n",
       "      <td>1</td>\n",
       "      <td>95</td>\n",
       "      <td>95</td>\n",
       "      <td>94</td>\n",
       "      <td>94</td>\n",
       "      <td>85</td>\n",
       "      <td>not A+</td>\n",
       "    </tr>\n",
       "  </tbody>\n",
       "</table>\n",
       "</div>"
      ],
      "text/plain": [
       "   ml_experience  class_attendance  lab1  lab2  lab3  lab4  quiz1   quiz2\n",
       "0              1                 1    92    93    84    91     92      A+\n",
       "1              1                 0    94    90    80    83     91  not A+\n",
       "2              0                 0    78    85    83    80     80  not A+\n",
       "3              0                 1    91    94    92    91     89      A+\n",
       "4              0                 1    77    83    90    92     85      A+\n",
       "5              1                 0    70    73    68    74     71  not A+\n",
       "6              1                 0    80    88    89    88     91      A+\n",
       "7              0                 1    95    93    69    79     75  not A+\n",
       "8              0                 0    97    90    94    99     80  not A+\n",
       "9              1                 1    95    95    94    94     85  not A+"
      ]
     },
     "execution_count": 2,
     "metadata": {},
     "output_type": "execute_result"
    }
   ],
   "source": [
    "# Toy quiz2 grade data\n",
    "classification_df = pd.read_csv(\"data/quiz2-grade-toy-classification.csv\")\n",
    "classification_df.head(10)"
   ]
  },
  {
   "cell_type": "code",
   "execution_count": 3,
   "metadata": {
    "slideshow": {
     "slide_type": "slide"
    }
   },
   "outputs": [],
   "source": [
    "X = classification_df.drop([\"quiz2\"], axis=1)\n",
    "y = classification_df[\"quiz2\"]"
   ]
  },
  {
   "cell_type": "code",
   "execution_count": 4,
   "metadata": {
    "slideshow": {
     "slide_type": "-"
    }
   },
   "outputs": [
    {
     "data": {
      "text/html": [
       "<div>\n",
       "<style scoped>\n",
       "    .dataframe tbody tr th:only-of-type {\n",
       "        vertical-align: middle;\n",
       "    }\n",
       "\n",
       "    .dataframe tbody tr th {\n",
       "        vertical-align: top;\n",
       "    }\n",
       "\n",
       "    .dataframe thead th {\n",
       "        text-align: right;\n",
       "    }\n",
       "</style>\n",
       "<table border=\"1\" class=\"dataframe\">\n",
       "  <thead>\n",
       "    <tr style=\"text-align: right;\">\n",
       "      <th></th>\n",
       "      <th>lab4</th>\n",
       "      <th>quiz1</th>\n",
       "    </tr>\n",
       "  </thead>\n",
       "  <tbody>\n",
       "    <tr>\n",
       "      <th>0</th>\n",
       "      <td>91</td>\n",
       "      <td>92</td>\n",
       "    </tr>\n",
       "    <tr>\n",
       "      <th>1</th>\n",
       "      <td>83</td>\n",
       "      <td>91</td>\n",
       "    </tr>\n",
       "    <tr>\n",
       "      <th>2</th>\n",
       "      <td>80</td>\n",
       "      <td>80</td>\n",
       "    </tr>\n",
       "    <tr>\n",
       "      <th>3</th>\n",
       "      <td>91</td>\n",
       "      <td>89</td>\n",
       "    </tr>\n",
       "    <tr>\n",
       "      <th>4</th>\n",
       "      <td>92</td>\n",
       "      <td>85</td>\n",
       "    </tr>\n",
       "  </tbody>\n",
       "</table>\n",
       "</div>"
      ],
      "text/plain": [
       "   lab4  quiz1\n",
       "0    91     92\n",
       "1    83     91\n",
       "2    80     80\n",
       "3    91     89\n",
       "4    92     85"
      ]
     },
     "execution_count": 4,
     "metadata": {},
     "output_type": "execute_result"
    }
   ],
   "source": [
    "X_subset = X[[\"lab4\", \"quiz1\"]]  # Let's consider a subset of the data for visualization\n",
    "X_subset.head()"
   ]
  },
  {
   "cell_type": "markdown",
   "metadata": {
    "slideshow": {
     "slide_type": "slide"
    }
   },
   "source": [
    "In the following model, this decision boundary is created by asking one question. "
   ]
  },
  {
   "cell_type": "code",
   "execution_count": 5,
   "metadata": {
    "scrolled": true
   },
   "outputs": [
    {
     "name": "stdout",
     "output_type": "stream",
     "text": [
      "Error:   0.286\n"
     ]
    },
    {
     "data": {
      "image/png": "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\n",
      "text/plain": [
       "<Figure size 1152x432 with 2 Axes>"
      ]
     },
     "metadata": {},
     "output_type": "display_data"
    }
   ],
   "source": [
    "depth = 1\n",
    "model = DecisionTreeClassifier(max_depth=depth)\n",
    "model.fit(X_subset, y)\n",
    "model.score(X_subset, y)\n",
    "print(\"Error:   %0.3f\" % (1 - model.score(X_subset, y)))\n",
    "plot_tree_decision_boundary_and_tree(\n",
    "    model, X_subset, y, x_label=\"lab4\", y_label=\"quiz1\"\n",
    ")"
   ]
  },
  {
   "cell_type": "markdown",
   "metadata": {
    "slideshow": {
     "slide_type": "slide"
    }
   },
   "source": [
    "In the following model, this decision boundary is created by asking two questions. "
   ]
  },
  {
   "cell_type": "code",
   "execution_count": 6,
   "metadata": {},
   "outputs": [
    {
     "name": "stdout",
     "output_type": "stream",
     "text": [
      "Error:   0.190\n"
     ]
    },
    {
     "data": {
      "image/png": "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\n",
      "text/plain": [
       "<Figure size 1152x432 with 2 Axes>"
      ]
     },
     "metadata": {},
     "output_type": "display_data"
    }
   ],
   "source": [
    "depth = 2\n",
    "model = DecisionTreeClassifier(max_depth=depth)\n",
    "model.fit(X_subset, y)\n",
    "model.score(X_subset, y)\n",
    "print(\"Error:   %0.3f\" % (1 - model.score(X_subset, y)))\n",
    "plot_tree_decision_boundary_and_tree(\n",
    "    model, X_subset, y, x_label=\"lab4\", y_label=\"quiz1\"\n",
    ")"
   ]
  },
  {
   "cell_type": "markdown",
   "metadata": {
    "slideshow": {
     "slide_type": "slide"
    }
   },
   "source": [
    "Let's look at the decision boundary with depth = 4. "
   ]
  },
  {
   "cell_type": "code",
   "execution_count": 7,
   "metadata": {
    "slideshow": {
     "slide_type": "-"
    }
   },
   "outputs": [
    {
     "name": "stdout",
     "output_type": "stream",
     "text": [
      "Error:   0.048\n"
     ]
    },
    {
     "data": {
      "image/png": "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\n",
      "text/plain": [
       "<Figure size 1152x432 with 2 Axes>"
      ]
     },
     "metadata": {},
     "output_type": "display_data"
    }
   ],
   "source": [
    "depth = 4\n",
    "model = DecisionTreeClassifier(max_depth=depth)\n",
    "model.fit(X_subset, y)\n",
    "model.score(X_subset, y)\n",
    "print(\"Error:   %0.3f\" % (1 - model.score(X_subset, y)))\n",
    "plot_tree_decision_boundary_and_tree(\n",
    "    model, X_subset, y, x_label=\"lab4\", y_label=\"quiz1\"\n",
    ")"
   ]
  },
  {
   "cell_type": "markdown",
   "metadata": {
    "slideshow": {
     "slide_type": "slide"
    }
   },
   "source": [
    "Let's look at the decision boundary with depth = 6. "
   ]
  },
  {
   "cell_type": "code",
   "execution_count": 8,
   "metadata": {
    "slideshow": {
     "slide_type": "-"
    }
   },
   "outputs": [
    {
     "name": "stdout",
     "output_type": "stream",
     "text": [
      "Error:   0.000\n"
     ]
    },
    {
     "data": {
      "image/png": "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\n",
      "text/plain": [
       "<Figure size 1152x432 with 2 Axes>"
      ]
     },
     "metadata": {},
     "output_type": "display_data"
    }
   ],
   "source": [
    "depth = 6\n",
    "model = DecisionTreeClassifier(max_depth=depth)\n",
    "model.fit(X_subset, y)\n",
    "model.score(X_subset, y)\n",
    "print(\"Error:   %0.3f\" % (1 - model.score(X_subset, y)))\n",
    "plot_tree_decision_boundary_and_tree(\n",
    "    model, X_subset, y, x_label=\"lab4\", y_label=\"quiz1\"\n",
    ")"
   ]
  },
  {
   "cell_type": "code",
   "execution_count": 9,
   "metadata": {
    "slideshow": {
     "slide_type": "slide"
    }
   },
   "outputs": [
    {
     "data": {
      "image/png": "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\n",
      "text/plain": [
       "<Figure size 432x288 with 1 Axes>"
      ]
     },
     "metadata": {
      "needs_background": "light"
     },
     "output_type": "display_data"
    }
   ],
   "source": [
    "max_depths = np.arange(1, 18)\n",
    "errors = []\n",
    "for max_depth in max_depths:\n",
    "    error = 1 - DecisionTreeClassifier(max_depth=max_depth).fit(X_subset, y).score(\n",
    "        X_subset, y\n",
    "    )\n",
    "    errors.append(error)\n",
    "plt.plot(max_depths, errors)\n",
    "plt.xlabel(\"max depth\")\n",
    "plt.ylabel(\"error\");"
   ]
  },
  {
   "cell_type": "markdown",
   "metadata": {
    "slideshow": {
     "slide_type": "-"
    }
   },
   "source": [
    "- Our model has 0% error for depths >= 6!! \n",
    "- But it's also becoming more and more specific and sensitive to the training data.  \n",
    "- Is it good or bad?"
   ]
  },
  {
   "cell_type": "markdown",
   "metadata": {},
   "source": [
    "```{admonition} Note \n",
    ":class: note\n",
    "Although the plot above (complexity hyperparameter vs error) is more popular, we could also look at the same plot flip the $y$-axis, i.e., consider accuracy instead of error. \n",
    "```"
   ]
  },
  {
   "cell_type": "code",
   "execution_count": 10,
   "metadata": {},
   "outputs": [
    {
     "data": {
      "image/png": "iVBORw0KGgoAAAANSUhEUgAAAYgAAAEGCAYAAAB/+QKOAAAAOXRFWHRTb2Z0d2FyZQBNYXRwbG90bGliIHZlcnNpb24zLjQuMywgaHR0cHM6Ly9tYXRwbG90bGliLm9yZy/MnkTPAAAACXBIWXMAAAsTAAALEwEAmpwYAAAfo0lEQVR4nO3de3SddZ3v8fenSe9N72mBttDSll5AUYiVoSMXEQUFkVmOA+OMijqIRxwvxwvqjM46Lo8ccUadkWNlOYCODniDsUcrF7GFsSBQtEBTmlJLoekuJL2Q9ELaJvmeP/YT2ISddifZT5505/NaKyv7ue18e0k+eX6/3/P7KSIwMzPrbljWBZiZ2eDkgDAzs6IcEGZmVpQDwszMinJAmJlZUdVZF1BOU6dOjdmzZ2ddhpnZUeORRx7ZERG1xY5VVEDMnj2bNWvWZF2GmdlRQ9LTPR1zE5OZmRXlgDAzs6IcEGZmVpQDwszMinJAmJlZUakFhKQbJTVJWtfDcUn6V0mbJD0m6bSCYxdIakiOXZNWjWZm1rM07yBuBi44zPELgfnJx5XAdwAkVQHXJ8cXA5dLWpxinWZmVkRqz0FExH2SZh/mlEuAH0R+vvHfS5oo6VhgNrApIjYDSLo1OXd9WrVadlZv2sGDm3dmXYbZUW3MyGquOntu2d83ywflZgBbC7Ybk33F9r++pzeRdCX5OxCOP/748ldpqdmyYx9X3PQwBzs6kbKuxuzoNXXcyIoLiGI/EuIw+4uKiBuAGwDq6uq8+tFR5CsrnmB4lfjdZ89j2vhRWZdjZt1kGRCNwKyC7ZlADhjRw36rIP/9ZDN3r3+Oz1ywwOFgNkhlOcx1OfCeZDTTGUBLRGwHHgbmS5ojaQRwWXKuVYj2jk6+/Mv1HD95DO9fOifrcsysB6ndQUi6BTgHmCqpEfgSMBwgIpYBK4C3ApuA/cAVybF2SVcDdwJVwI0RUZ9WnTbw/vOhZ9j43F6++7enM2p4VdblmFkP0hzFdPkRjgfwkR6OrSAfIFZhdu87yD/ftZGl86bw5sXTsy7HzA7DT1LbgPrmbzayp+0Q/3jRYuShS2aDmgPCBkzDs3v44YPP8O7Xn8DCY8ZnXY6ZHYEDwgZERPC/flnPuJHVfPL8k7Iux8xK4ICwAXH3+udYvWknn3jTfCaNHZF1OWZWAgeEpe5AewdfWfEE86eN491nnJB1OWZWIgeEpe6m1Vt4eud+/vGixQyv8n85s6OFv1stVU172vi3e57kTYumcdZJtVmXY2a94ICwVF13RwMHOzr5wts8Y7vZ0cYBYal5dOvz/PSRRt6/dA5zpo7Nuhwz6yUHhKUiP6x1PVPHjeDqN87Luhwz6wMHhKVi+aM5Hnl6N595y0JqRg3Puhwz6wMHhJXd/oPtXPvrDZwyYzzvPH1m1uWYWR85IKzslt27me0tbXzp4pMZNszzLZkdrRwQVlaNu/fz3Xv/xMWnHsfrZk/Ouhwz6wcHhJXVV3+9AQmuuXBh1qWYWT85IKxsHty8k189tp2rzp7LjImjsy7HzPrJAWFl0dGZH9Z63IRRfOisuVmXY2Zl4ICwsvjpmq3U51q55q2LGD3Cy4iaVQIHhPVba9shrruzgboTJnHxq4/NuhwzK5PU1qS2oePf7nmSXfsPcvPFS7yMqFkF8R2E9cufmvdy0+otvOv0Wbxq5oSsyzGzMnJAWL985VdPMGp4FZ96y4KsSzGzMnNAWJ+tamjitxua+Ogb51FbMzLrcsyszBwQ1ieHOjr58i/XM3vKGN63dHbW5ZhZChwQ1if/8cDT/Kl5H//wtsWMrPawVrNK5ICwXtu59wDf+M1G3jB/KuctmpZ1OWaWklSHuUq6APgWUAV8LyKu7XZ8EnAjMBdoA94fEeuSY1uAPUAH0B4RdWnWWul+sXYba7c+X5b3Wp9rZf/BDr540WIPazWrYKkFhKQq4HrgfKAReFjS8ohYX3Da54G1EXGppIXJ+ecVHD83InakVeNQ0dEZfO62x2nvDEZW9/+mUcAnzz+J+dNr+l+cmQ1aad5BLAE2RcRmAEm3ApcAhQGxGPgqQERskDRb0vSIeC7Fuoacp3bsY//BDr7+l6d6AR8zK1mafRAzgK0F243JvkKPAn8BIGkJcALQ9RMsgLskPSLpyp6+iKQrJa2RtKa5ublsxVeS+lwLACcfNz7jSszsaJJmQBRrnI5u29cCkyStBT4K/BFoT44tjYjTgAuBj0g6q9gXiYgbIqIuIupqa2vLU3mFqc+1MqJ6GPOmjcu6FDM7iqTZxNQIzCrYngnkCk+IiFbgCgDlezufSj6IiFzyuUnS7eSbrO5Lsd6KVZ9rYeExNQyv8qA1Mytdmj8xHgbmS5ojaQRwGbC88ARJE5NjAB8E7ouIVkljJdUk54wF3gysS7HWihURrNvW6uYlM+u11O4gIqJd0tXAneSHud4YEfWSrkqOLwMWAT+Q1EG+8/oDyeXTgduTIZTVwH9GxB1p1VrJtj3/Ai0vHGLxcZ5Iz8x6J9XnICJiBbCi275lBa8fAOYXuW4zcGqatQ0V9blWwB3UZtZ7bpSucPW5VoYJFh3jgDCz3nFAVLj6bS3MrR3nZUDNrNccEBWuPucOajPrGwdEBdu59wDPtrZxygx3UJtZ7zkgKlhXB/Vi30GYWR84ICrYuq4pNo71HYSZ9Z4DooLV51qZOWk0E8YMz7oUMzsKOSAq2PpcK6f4ATkz6yMHRIXa03aIp3bs8wgmM+szB0SFemL7HgBOnuGAMLO+cUBUqJfWgHATk5n1jQOiQtXnWpk6biTTakZmXYqZHaUcEBVq3bYWTj5uPMmMuGZmveaAqEAH2jvY1LTXHdRm1i8OiAq08dm9tHeGp9gws35xQFSglzqofQdhZn3ngKhA63It1IysZtakMVmXYmZHMQdEBarPtbLouPEMG+YOajPrOwdEhenoDJ7Y7ik2zKz/HBAVZnPzXtoOdbr/wcz6zQFRYbrWgPAUG2bWXw6IClOfa2FE9TDm1o7LuhQzO8o5ICpMfa6VRcfUMLzK/7Rm1j/+KVJBIoJ121pY7A5qMysDB0QFadz9Aq1t7e6gNrOySDUgJF0gqUHSJknXFDk+SdLtkh6T9JCkU0q91l6pq4PaU2yYWTmkFhCSqoDrgQuBxcDlkhZ3O+3zwNqIeDXwHuBbvbjWulmfa6FqmFh4TE3WpZhZBUjzDmIJsCkiNkfEQeBW4JJu5ywG7gGIiA3AbEnTS7zWulmXa2Vu7VhGDa/KuhQzqwBpBsQMYGvBdmOyr9CjwF8ASFoCnADMLPFakuuulLRG0prm5uYylX50qs+1eAU5MyubNAOi2ERA0W37WmCSpLXAR4E/Au0lXpvfGXFDRNRFRF1tbW0/yj26Ne85wHOtB9xBbWZlU53iezcCswq2ZwK5whMiohW4AkD5pc+eSj7GHOlaezmvQW1m5ZbmHcTDwHxJcySNAC4DlheeIGlicgzgg8B9SWgc8Vp7ua4RTIt9B2FmZZLaHUREtEu6GrgTqAJujIh6SVclx5cBi4AfSOoA1gMfONy1adVaCdbnWpk1eTQTRg/PuhQzqxBpNjERESuAFd32LSt4/QAwv9RrrWf1uRZP8W1mZeUnqStAa9shtuzc7w5qMysrB0QFeKJrim/fQZhZGTkgKoDXgDCzNDggKkB9rpXampFMqxmVdSlmVkFKCghJP5f0NkkOlEEo/wS17x7MrLxK/YH/HeCvgSclXStpYYo1WS+0Hergyaa9DggzK7uSAiIifhMR7wZOA7YAd0u6X9IVkjzwPkMbn9tDR2d4iKuZlV3JTUaSpgDvI//E8x/JT819GnB3KpVZSdZt8wgmM0tHSQ/KSboNWAj8B3BxRGxPDv1Y0pq0irMjq8+1UDOqmlmTR2ddiplVmFKfpP52RPy22IGIqCtjPdZL9blWFh87nvxch2Zm5VNqE9MiSRO7NpKlQv9HOiVZqdo7OtnwbKuXGDWzVJQaEH8XEc93bUTEbuDvUqnISrZ5xz7aDnV6BJOZpaLUgBimgjaMZM3oEYc53waA14AwszSV2gdxJ/ATScvIr+x2FXBHalVZSeq3tTKyehhza8dmXYqZVaBSA+KzwIeAD5NfDvQu4HtpFWWlqc+1svDY8VRX+QF3Myu/kgIiIjrJP039nXTLsVJFBPW5Fi469bisSzGzClXqcxDzga8Ci4EXZ4SLiBNTqsuOoHH3C7S2tbuD2sxSU2rbxE3k7x7agXOBH5B/aM4y0tVB7Sk2zCwtpQbE6Ii4B1BEPB0R/wS8Mb2y7EjWbWulaphYcExN1qWYWYUqtZO6LZnq+0lJVwPbgGnplWVHUp9rYV7tOEYNr8q6FDOrUKXeQXwcGAP8PXA68DfAe1OqyUpQn2t1/4OZpeqIdxDJQ3HviohPA3uBK1Kvyg6raU8bTXsOcLKn2DCzFB3xDiIiOoDT5dngBo0X16D2HYSZpajUPog/Ar+Q9FNgX9fOiLgtlarssNYnAbHYAWFmKSo1ICYDO3n5yKUAHBAZqM+1cMKUMYwf5cX8zCw9pT5J7X6HQcQd1GY2EEp9kvom8ncMLxMR7z/CdReQX5q0CvheRFzb7fgE4IfA8UktX4+Im5JjW4A9QAfQ7oWJ8lrbDvH0zv28q25W1qWYWYUrtYnplwWvRwGXArnDXZCMfroeOB9oBB6WtDwi1hec9hFgfURcLKkWaJD0o4g4mBw/NyJ2lFjjkOD+BzMbKKU2Mf28cFvSLcBvjnDZEmBTRGxOrrkVuAQoDIgAapIRUuOAXeSn87AedI1g8hQbZpa2vs4TPZ98s9DhzAC2Fmw3JvsKfRtYRP5u5HHgY8nMsZAPj7skPSLpyp6+iKQrJa2RtKa5ubk3f4ajUn2uhWk1I6mtGZl1KWZW4Urtg9jDy/sgniW/RsRhLyuyr3s/xluAteRHR80F7pb03xHRCiyNiJykacn+DRFx3yveMOIG4AaAurq6V/STVJr6be6gNrOBUdIdRETURMT4go+Tujc7FdEIFPakzuSV/RZXALdF3ibgKWBh8jVzyecm4HbyTVZDWtuhDjY17/USo2Y2IEoKCEmXJiOOurYnSnrHES57GJgvaY6kEcBlwPJu5zwDnJe853RgAbBZ0lhJNcn+scCbgXWl1FrJGp7dQ0dncMoM30GYWfpK7YP4UkS0dG1ExPPAlw53QUS0A1eTX8/6CeAnEVEv6SpJVyWnfRk4U9LjwD3AZ5NRS9OB30l6FHgI+FVEDPk1sNcla0D4DsLMBkKpw1yLBckRr42IFcCKbvuWFbzOkb876H7dZuDUEmsbMupzrYwfVc3MSaOzLsXMhoBS7yDWSPoXSXMlnSjpG8AjaRZmr5R/gnoCnjfRzAZCqQHxUeAg8GPgJ8AL5B9yswHS3tHJhu0ewWRmA6fUB+X2AdekXIsdxp+a93GgvZOT3UFtZgOk1FFMd0uaWLA9SdKdqVVlr1DvDmozG2ClNjFNTUYuARARu/Ga1AOqPtfKqOHDOHHq2KxLMbMhotSA6JT04tQakmZTZHZXS099roWFx4ynuqqvs6OYmfVOqcNcv0D+uYR7k+2zgB7nR7Lyigjqc628/dTjsi7FzIaQUjup75BURz4U1gK/ID+SyQbA1l0vsKet3f0PZjagSp2s74PAx8jPp7QWOAN4gJcvQWop6eqg9hQbZjaQSm3Q/hjwOuDpiDgXeC1Q+XNrDxLrci1UDRMnTa/JuhQzG0JKDYi2iGgDkDQyIjaQn1jPBkB9rpX508YxanhV1qWY2RBSaid1Y/IcxH+RX5thN0dYctTKpz7Xylnza7Muw8yGmFI7qS9NXv6TpJXABGDIz646EJpa22jec8BTbJjZgCv1DuJFEXHvkc+yculag9oBYWYDzU9dDXJdI5gWOyDMbIA5IAa5+lwrs6eMoWbU8KxLMbMhxgExyHWtAWFmNtAcEINYywuHeGbXfjcvmVkmHBCD2Hp3UJtZhhwQg5jXgDCzLDkgBrH6XCvTx4+ktmZk1qWY2RDU6+cg7PC++usnXmwa6q9Htz5P3ezJZXkvM7PeckCU0faWF/juvZuZPWUMk8aO6Pf7zZs2jr963awyVGZm1nsOiDJa1ZCf4PaG99R55lUzO+q5D6KMVm5oYsbE0cyfNi7rUszM+i3VgJB0gaQGSZskXVPk+ARJ/0/So5LqJV1R6rWDzYH2DlZv2sE5C2qRlHU5Zmb9llpASKoCrgcuBBYDl0ta3O20jwDrI+JU4BzgnyWNKPHaQWXNlt3sO9jBuQumZV2KmVlZpHkHsQTYFBGbI+IgcCtwSbdzAqhR/lfuccAuoL3EaweVlRuaGFE1jDPnTcm6FDOzskgzIGYAWwu2G5N9hb4NLCK/+NDjwMciorPEaweVVRubef2Jkxkzwv3+ZlYZ0gyIYg3x0W37LcBa4DjgNcC3JY0v8dr8F5GulLRG0prm5myWyd66az+bmvZyjpuXzKyCpBkQjUDhIP6ZvHKZ0iuA2yJvE/AUsLDEawGIiBsioi4i6mprs1mWc1VDEwDnLvCyoGZWOdIMiIeB+ZLmSBoBXAYs73bOM8B5AJKmAwuAzSVeO2isbGjmhCljmDN1bNalmJmVTWoN5hHRLulq4E6gCrgxIuolXZUcXwZ8GbhZ0uPkm5U+GxE7AIpdm1at/dF2qIP7/7SDy153vIe3mllFSbVHNSJWACu67VtW8DoHvLnUawej32/eSduhTs5x85KZVRg/Sd1PqxqaGTV8GGec6OGtZlZZHBD9EBH8dkMTZ86dyqjhVVmXY2ZWVg6Ifnhqxz6e2bXfo5fMrCI5IPphZTJ7q59/MLNK5IDoh1UNTcybNo5Zk8dkXYqZWdk5IPpo/8F2Hty8i3NOcvOSmVUmB0Qf3b9pJwc7Ojl3oZuXzKwyOSD6aGVDE2NHVFE3e1LWpZiZpcIB0QcRwaqGZpbOm8rIag9vNbPK5IDogyeb9rLt+RfcvGRmFc0B0QcrN+Rnb/X0GmZWyRwQfbCyoYmFx9Rw7ITRWZdiZpYaB0QvtbYdYs2W3W5eMrOK54DopdVP7qC9MzjXT0+bWYVzQPTSyoYmakZVc9rxE7MuxcwsVQ6IXuga3nrWSbVUV/mvzswqm3/K9cL67a007Tng6TXMbEhwQPTCqmT21rM9vNXMhgAHRC+s3NDEq2ZMYFrNqKxLMTNLnQOiRM/vP8gfntntxYHMbMhwQJTovid30Blwjp9/MLMhwgFRolUbmpg0ZjinzpyYdSlmZgPCAVGCzs5g1cZmzj6plqphyrocM7MB4YAowWPbWti176Cn1zCzIcUBUYKVG5qQ4Kz57qA2s6HDAVGCVQ1NvHbWRCaNHZF1KWZmAybVgJB0gaQGSZskXVPk+KclrU0+1knqkDQ5ObZF0uPJsTVp1nk4O/Ye4LFtLZ6cz8yGnOq03lhSFXA9cD7QCDwsaXlErO86JyKuA65Lzr8Y+ERE7Cp4m3MjYkdaNZbivo3NRMA5DggzG2LSvINYAmyKiM0RcRC4FbjkMOdfDtySYj19srKhmanjRnLyceOzLsXMbEClGRAzgK0F243JvleQNAa4APh5we4A7pL0iKQre/oikq6UtEbSmubm5jKU/ZL2jk7u29jMOQtqGebhrWY2xKQZEMV+okYP514MrO7WvLQ0Ik4DLgQ+IumsYhdGxA0RURcRdbW15R1ltHbr87S8cMj9D2Y2JKUZEI3ArILtmUCuh3Mvo1vzUkTkks9NwO3km6wG1MqGJqqGiT+fP3Wgv7SZWebSDIiHgfmS5kgaQT4Elnc/SdIE4GzgFwX7xkqq6XoNvBlYl2KtRa3c0MzpJ0xiwujhA/2lzcwyl1pAREQ7cDVwJ/AE8JOIqJd0laSrCk69FLgrIvYV7JsO/E7So8BDwK8i4o60ai3m2ZY21m9vdfOSmQ1ZqQ1zBYiIFcCKbvuWddu+Gbi5277NwKlp1nYk925sAuDchX562syGJj9J3YOVG5o5dsIoFkyvyboUM7NMOCCKONTRye827eCcBdOQPLzVzIYmB0QRa7bsZu+Bdq8eZ2ZDmgOiiFUNTQyvEmfO8/BWMxu6HBBFrGxoYsmcyYwbmWofvpnZoOaA6KZx9342PrfXw1vNbMhzQHSzqiE/n5NnbzWzoc4B0c2qhiZmTR7N3NqxWZdiZpYpB0SBtkMdrN60k3M9vNXMzAFR6KGndvHCoQ73P5iZ4YB4mZUNTYysHsYZJ07JuhQzs8w5IAqsamjmz+ZOYfSIqqxLMTPLnAMisWXHPp7asc/NS2ZmCQdEYlVDMnurA8LMDHBAvGhlQzMnTh3L8VPGZF2Kmdmg4IAAXjjYwQObd/rhODOzAg4I4IHNOzjY3unFgczMCjggyC8ONHp4FUvmTM66FDOzQWPIB0REsLKhiaXzpjKy2sNbzcy6DPn5rNsOdXLm3Cks9doPZmYvM+QDYvSIKr72zlOzLsPMbNAZ8k1MZmZWnAPCzMyKckCYmVlRDggzMyvKAWFmZkWlGhCSLpDUIGmTpGuKHP+0pLXJxzpJHZIml3KtmZmlK7WAkFQFXA9cCCwGLpe0uPCciLguIl4TEa8BPgfcGxG7SrnWzMzSleYdxBJgU0RsjoiDwK3AJYc5/3Lglj5ea2ZmZZbmg3IzgK0F243A64udKGkMcAFwdR+uvRK4MtncK6mhHzWXy1RgR9ZFFOG6esd19Y7r6p3BUtcJPR1IMyBUZF/0cO7FwOqI2NXbayPiBuCG3peXHklrIqIu6zq6c12947p6x3X1zmCtq1CaTUyNwKyC7ZlArodzL+Ol5qXeXmtmZilIMyAeBuZLmiNpBPkQWN79JEkTgLOBX/T2WjMzS09qTUwR0S7pauBOoAq4MSLqJV2VHF+WnHopcFdE7DvStWnVmoJB1eRVwHX1juvqHdfVO4O1rhcpoqduATMzG8r8JLWZmRXlgDAzs6IcEGUiaZaklZKekFQv6WNZ11RIUpWkP0r6Zda1dJE0UdLPJG1I/t7+LOuaACR9Ivk3XCfpFkmjMqzlRklNktYV7Jss6W5JTyafJw2Suq5L/i0fk3S7pImDoa6CY5+SFJIGfPnInuqS9NFkSqF6SV8b6LqOxAFRPu3A/4yIRcAZwEcG2fQgHwOeyLqIbr4F3BERC4FTGQT1SZoB/D1QFxGnkB8kcVmGJd1M/iHSQtcA90TEfOCeZHug3cwr67obOCUiXg1sJD99zkC7mVfWhaRZwPnAMwNdUOJmutUl6VzyM0S8OiJOBr6eQV2H5YAok4jYHhF/SF7vIf/Dbka2VeVJmgm8Dfhe1rV0kTQeOAv4d4CIOBgRz2da1EuqgdGSqoExZPgMTkTcB+zqtvsS4PvJ6+8D7xjImqB4XRFxV0S0J5u/J//8UuZ1Jb4BfIaeH9ZNVQ91fRi4NiIOJOc0DXhhR+CASIGk2cBrgQczLqXLN8l/c3RmXEehE4Fm4Kak6et7ksZmXVREbCP/m9wzwHagJSLuyraqV5geEdsh/4sJMC3jeop5P/DrrIsAkPR2YFtEPJp1Ld2cBLxB0oOS7pX0uqwL6s4BUWaSxgE/Bz4eEa2DoJ6LgKaIeCTrWrqpBk4DvhMRrwX2kU1Tycsk7fmXAHOA44Cxkv4m26qOLpK+QL7J9UeDoJYxwBeAL2ZdSxHVwCTyTdKfBn4iqdg0Q5lxQJSRpOHkw+FHEXFb1vUklgJvl7SF/Ky4b5T0w2xLAvLTqTRGRNdd1s/IB0bW3gQ8FRHNEXEIuA04M+OauntO0rEAyedB0zQh6b3ARcC7Y3A8ZDWXfNg/mnwPzAT+IOmYTKvKawRui7yHyN/hD3gH+uE4IMokSf5/B56IiH/Jup4uEfG5iJgZEbPJd7b+NiIy/404Ip4FtkpakOw6D1ifYUldngHOkDQm+Tc9j0HQed7NcuC9yev38vJpajIj6QLgs8DbI2J/1vUARMTjETEtImYn3wONwGnJ/7+s/RfwRgBJJwEjGByzu77IAVE+S4G/Jf8betcqeW/NuqhB7qPAjyQ9BrwG+N/ZlgPJHc3PgD8Aj5P/HslsSgRJtwAPAAskNUr6AHAtcL6kJ8mPzLl2kNT1baAGuDv5/7/ssG8ycHVlroe6bgROTIa+3gq8d5Dcdb3IU22YmVlRvoMwM7OiHBBmZlaUA8LMzIpyQJiZWVEOCDMzK8oBYTaAJK2S1KeF6iW9o3ACyP68l1kpHBBmR493AINphmCrcA4IG7IkzU7WL/hesvbDjyS9SdLqZK2FJcl5SyTdn0wqeH/X09+SPinpxuT1q5L3GNPta4yWdGuyRsKPgdEFx94s6QFJf5D002QeLyRtkfR/JD2UfMyTdCbwduC65CG0ucnb/GVyzkZJb0j/b82GEgeEDXXzyK9L8WpgIfDXwJ8DnwI+n5yzATgrmVTwi7z0xPc3gXmSLgVuAj5UZIqJDwP7kzUSvgKcDpAsWvMPwJsi4jRgDfDJgutaI2IJ+aeTvxkR95OfYuPTEfGaiPhTcl51ct7HgS/18+/C7GWqsy7ALGNPRcTjAJLqyS/EE5IeB2Yn50wAvi9pPvn1BIYDRESnpPcBjwHfjYjVRd7/LOBfk/MfS6YVgfwMnouB1ckEniPIT8XQ5ZaCz984TP1dk0I+UlCvWVk4IGyoO1DwurNgu5OXvj++DKyMiEuTtT5WFVwzH9hLfmrwnhSbz0bA3RFxeQnXHG4+nK56O/D3s5WZm5jMjmwCsC15/b6unZImkG+eOguYIumdRa69D3h3cv4p5JuyIL/i2lJJ85JjY5IZPbv8VcHnrjuLPeQnwzMbEA4IsyP7GvBVSavJr1Hd5RvA/42IjcAHgGsldV/d7TvAuKRp6TPAQwAR0Uw+bG5Jjv2efB9Il5GSHiS/lvgnkn23Ap9OOsvnYpYyz+ZqNsgkC9vURcSgWhvAhh7fQZiZWVG+gzAzs6J8B2FmZkU5IMzMrCgHhJmZFeWAMDOzohwQZmZW1P8Ht+TtZGpEOLUAAAAASUVORK5CYII=\n",
      "text/plain": [
       "<Figure size 432x288 with 1 Axes>"
      ]
     },
     "metadata": {
      "needs_background": "light"
     },
     "output_type": "display_data"
    }
   ],
   "source": [
    "max_depths = np.arange(1, 18)\n",
    "accuracies = []\n",
    "for max_depth in max_depths:\n",
    "    accuracy = (\n",
    "        DecisionTreeClassifier(max_depth=max_depth).fit(X_subset, y).score(X_subset, y)\n",
    "    )\n",
    "    accuracies.append(accuracy)\n",
    "plt.plot(max_depths, accuracies)\n",
    "plt.xlabel(\"max depth\")\n",
    "plt.ylabel(\"accuracy\");"
   ]
  },
  {
   "cell_type": "markdown",
   "metadata": {
    "slideshow": {
     "slide_type": "slide"
    }
   },
   "source": [
    "### 🤔 Eva's questions\n",
    "\n",
    "![](img/eva-think.png)\n"
   ]
  },
  {
   "cell_type": "markdown",
   "metadata": {
    "slideshow": {
     "slide_type": "slide"
    }
   },
   "source": [
    "At this point Eva is wondering about the following questions. \n",
    "\n",
    "- How to pick the best depth? \n",
    "- How can we make sure that the model we have built would do reasonably well on new data in the wild when it's deployed? \n",
    "- Which of the following rules learned by the decision tree algorithm are likely to generalize better to new data? \n",
    "\n",
    "> Rule 1: If class_attendance == 1 then grade is A+. \n",
    "\n",
    "> Rule 2: If lab3 > 83.5 and quiz1 <= 83.5 and lab2 <= 88 then quiz2 grade is A+\n",
    "\n",
    "To better understand the material in the next sections, think about these questions on your own or discuss them with your friend/neighbour before proceeding. "
   ]
  },
  {
   "cell_type": "markdown",
   "metadata": {
    "slideshow": {
     "slide_type": "skip"
    }
   },
   "source": [
    "<br><br><br><br>"
   ]
  },
  {
   "cell_type": "markdown",
   "metadata": {
    "slideshow": {
     "slide_type": "slide"
    }
   },
   "source": [
    "### Generalization: Fundamental goal of ML\n",
    "\n",
    "> **To generalize beyond what we see in the training examples**\n",
    "\n",
    "We only have access to limited amount of training data and we want to learn a mapping function which would predict targets reasonably well for examples beyond this training data. "
   ]
  },
  {
   "cell_type": "markdown",
   "metadata": {
    "slideshow": {
     "slide_type": "slide"
    }
   },
   "source": [
    "- Example: Imagine that a learner sees the following images and corresponding labels. \n",
    "\n",
    "![](img/generalization-train.png)\n",
    "<!-- <center>\n",
    "<img src='img/generalization-train.png' width=\"600\" height=\"600\" />\n",
    "</center>     -->"
   ]
  },
  {
   "cell_type": "markdown",
   "metadata": {
    "slideshow": {
     "slide_type": "slide"
    }
   },
   "source": [
    "### Generalizing to unseen data\n",
    "\n",
    "- Now the learner is presented with new images (1 to 4) for prediction. \n",
    "- What prediction would you expect for each image?   \n",
    "\n",
    "![](img/generalization-predict.png)\n",
    "\n",
    "<!-- <center>\n",
    "<img src='img/generalization-predict.png' width=\"1000\" height=\"1000\" />\n",
    "</center>     -->"
   ]
  },
  {
   "cell_type": "markdown",
   "metadata": {
    "slideshow": {
     "slide_type": "slide"
    }
   },
   "source": [
    "- Goal: We want the learner to be able to generalize beyond what it has seen in the training data.\n",
    "- But these new examples should be representative of the training data. That is they should have the same characteristics as the training data. \n",
    "- In this example, we would like the leaner to be able to predict labels for test examples 1, 2, and 3 accurately. Although 2, 3 don't exactly occur in the training data, they are very much similar to the images in the training data. That said, is it fair to expect the learner to label image 4 correctly? "
   ]
  },
  {
   "cell_type": "markdown",
   "metadata": {
    "slideshow": {
     "slide_type": "slide"
    }
   },
   "source": [
    "### Training error vs. Generalization error \n",
    "\n",
    "- Given a model $M$, in ML, people usually talk about two kinds of errors of $M$. \n",
    "    1. Error on the training data: $error_{training}(M)$ \n",
    "    2. Error on the entire distribution $D$ of data: $error_{D}(M)$\n",
    "- We are interested in the error on the entire distribution     \n",
    "    - ... But we do not have access to the entire distribution 😞"
   ]
  },
  {
   "cell_type": "markdown",
   "metadata": {},
   "source": [
    "<br><br><br><br>"
   ]
  },
  {
   "cell_type": "markdown",
   "metadata": {
    "slideshow": {
     "slide_type": "slide"
    }
   },
   "source": [
    "## Data Splitting [[video](https://youtu.be/h2AEobwcUQw)]"
   ]
  },
  {
   "cell_type": "markdown",
   "metadata": {
    "slideshow": {
     "slide_type": "slide"
    }
   },
   "source": [
    "### How to approximate generalization error? \n",
    "\n",
    "A common way is **data splitting**. \n",
    "- Keep aside some randomly selected portion from the training data.\n",
    "- `fit` (train) a model on the training portion only. \n",
    "- `score` (assess) the trained model on this set aside data to get a sense of how well the model would be able to generalize.\n",
    "- Pretend that the kept aside data is representative of the real distribution $D$ of data. "
   ]
  },
  {
   "cell_type": "markdown",
   "metadata": {
    "slideshow": {
     "slide_type": "slide"
    }
   },
   "source": [
    "![](img/eva-good-idea.png)"
   ]
  },
  {
   "cell_type": "code",
   "execution_count": 11,
   "metadata": {
    "scrolled": true,
    "slideshow": {
     "slide_type": "slide"
    }
   },
   "outputs": [
    {
     "name": "stderr",
     "output_type": "stream",
     "text": [
      "C:\\Users\\Johnn\\miniconda3\\envs\\cpsc330\\lib\\site-packages\\IPython\\core\\display.py:724: UserWarning: Consider using IPython.display.IFrame instead\n",
      "  warnings.warn(\"Consider using IPython.display.IFrame instead\")\n"
     ]
    },
    {
     "data": {
      "text/html": [
       "<iframe src=https://scikit-learn.org/stable/modules/generated/sklearn.model_selection.train_test_split.html width=1000 height=800></iframe>"
      ],
      "text/plain": [
       "<IPython.core.display.HTML object>"
      ]
     },
     "execution_count": 11,
     "metadata": {},
     "output_type": "execute_result"
    }
   ],
   "source": [
    "# scikit-learn train_test_split\n",
    "url = \"https://scikit-learn.org/stable/modules/generated/sklearn.model_selection.train_test_split.html\"\n",
    "HTML(\"<iframe src=%s width=1000 height=800></iframe>\" % url)"
   ]
  },
  {
   "cell_type": "markdown",
   "metadata": {
    "slideshow": {
     "slide_type": "-"
    }
   },
   "source": [
    "- We can pass `X` and `y` or a dataframe with both `X` and `y` in it. \n",
    "- We can also specify the train or test split sizes. "
   ]
  },
  {
   "cell_type": "markdown",
   "metadata": {
    "slideshow": {
     "slide_type": "slide"
    },
    "tags": []
   },
   "source": [
    "### Simple train/test split \n",
    "\n",
    "- The picture shows an 80%-20% split of a toy dataset with 10 examples. \n",
    "- The data is shuffled before splitting. \n",
    "- Usually when we do machine learning we split the data before doing anything and put the test data in an imaginary chest lock. \n",
    "\n",
    "![](img/train-test-split.png)\n",
    "\n",
    "<!-- <img src='img/train-test-split.png' width=\"1500\" height=\"1500\" /> -->"
   ]
  },
  {
   "cell_type": "code",
   "execution_count": 12,
   "metadata": {
    "slideshow": {
     "slide_type": "slide"
    }
   },
   "outputs": [],
   "source": [
    "# Let's demonstrate this with the canada usa cities data\n",
    "# The data is available in the data directory\n",
    "df = pd.read_csv(\"data/canada_usa_cities.csv\")\n",
    "X = df.drop(columns=[\"country\"])\n",
    "y = df[\"country\"]"
   ]
  },
  {
   "cell_type": "code",
   "execution_count": 13,
   "metadata": {
    "slideshow": {
     "slide_type": "slide"
    }
   },
   "outputs": [
    {
     "data": {
      "text/html": [
       "<div>\n",
       "<style scoped>\n",
       "    .dataframe tbody tr th:only-of-type {\n",
       "        vertical-align: middle;\n",
       "    }\n",
       "\n",
       "    .dataframe tbody tr th {\n",
       "        vertical-align: top;\n",
       "    }\n",
       "\n",
       "    .dataframe thead th {\n",
       "        text-align: right;\n",
       "    }\n",
       "</style>\n",
       "<table border=\"1\" class=\"dataframe\">\n",
       "  <thead>\n",
       "    <tr style=\"text-align: right;\">\n",
       "      <th></th>\n",
       "      <th>longitude</th>\n",
       "      <th>latitude</th>\n",
       "    </tr>\n",
       "  </thead>\n",
       "  <tbody>\n",
       "    <tr>\n",
       "      <th>0</th>\n",
       "      <td>-130.0437</td>\n",
       "      <td>55.9773</td>\n",
       "    </tr>\n",
       "    <tr>\n",
       "      <th>1</th>\n",
       "      <td>-134.4197</td>\n",
       "      <td>58.3019</td>\n",
       "    </tr>\n",
       "    <tr>\n",
       "      <th>2</th>\n",
       "      <td>-123.0780</td>\n",
       "      <td>48.9854</td>\n",
       "    </tr>\n",
       "    <tr>\n",
       "      <th>3</th>\n",
       "      <td>-122.7436</td>\n",
       "      <td>48.9881</td>\n",
       "    </tr>\n",
       "    <tr>\n",
       "      <th>4</th>\n",
       "      <td>-122.2691</td>\n",
       "      <td>48.9951</td>\n",
       "    </tr>\n",
       "    <tr>\n",
       "      <th>...</th>\n",
       "      <td>...</td>\n",
       "      <td>...</td>\n",
       "    </tr>\n",
       "    <tr>\n",
       "      <th>204</th>\n",
       "      <td>-72.7218</td>\n",
       "      <td>45.3990</td>\n",
       "    </tr>\n",
       "    <tr>\n",
       "      <th>205</th>\n",
       "      <td>-66.6458</td>\n",
       "      <td>45.9664</td>\n",
       "    </tr>\n",
       "    <tr>\n",
       "      <th>206</th>\n",
       "      <td>-79.2506</td>\n",
       "      <td>42.9931</td>\n",
       "    </tr>\n",
       "    <tr>\n",
       "      <th>207</th>\n",
       "      <td>-72.9406</td>\n",
       "      <td>45.6275</td>\n",
       "    </tr>\n",
       "    <tr>\n",
       "      <th>208</th>\n",
       "      <td>-79.4608</td>\n",
       "      <td>46.3092</td>\n",
       "    </tr>\n",
       "  </tbody>\n",
       "</table>\n",
       "<p>209 rows × 2 columns</p>\n",
       "</div>"
      ],
      "text/plain": [
       "     longitude  latitude\n",
       "0    -130.0437   55.9773\n",
       "1    -134.4197   58.3019\n",
       "2    -123.0780   48.9854\n",
       "3    -122.7436   48.9881\n",
       "4    -122.2691   48.9951\n",
       "..         ...       ...\n",
       "204   -72.7218   45.3990\n",
       "205   -66.6458   45.9664\n",
       "206   -79.2506   42.9931\n",
       "207   -72.9406   45.6275\n",
       "208   -79.4608   46.3092\n",
       "\n",
       "[209 rows x 2 columns]"
      ]
     },
     "execution_count": 13,
     "metadata": {},
     "output_type": "execute_result"
    }
   ],
   "source": [
    "X"
   ]
  },
  {
   "cell_type": "code",
   "execution_count": 14,
   "metadata": {},
   "outputs": [
    {
     "data": {
      "text/plain": [
       "0         USA\n",
       "1         USA\n",
       "2         USA\n",
       "3         USA\n",
       "4         USA\n",
       "        ...  \n",
       "204    Canada\n",
       "205    Canada\n",
       "206    Canada\n",
       "207    Canada\n",
       "208    Canada\n",
       "Name: country, Length: 209, dtype: object"
      ]
     },
     "execution_count": 14,
     "metadata": {},
     "output_type": "execute_result"
    }
   ],
   "source": [
    "y"
   ]
  },
  {
   "cell_type": "code",
   "execution_count": 15,
   "metadata": {
    "slideshow": {
     "slide_type": "slide"
    }
   },
   "outputs": [
    {
     "data": {
      "text/html": [
       "<table border=\"1\" class=\"dataframe\">\n",
       "  <thead>\n",
       "    <tr style=\"text-align: right;\">\n",
       "      <th>Data portion</th>\n",
       "      <th>Shape</th>\n",
       "    </tr>\n",
       "  </thead>\n",
       "  <tbody>\n",
       "    <tr>\n",
       "      <td>X</td>\n",
       "      <td>(209, 2)</td>\n",
       "    </tr>\n",
       "    <tr>\n",
       "      <td>y</td>\n",
       "      <td>(209,)</td>\n",
       "    </tr>\n",
       "    <tr>\n",
       "      <td>X_train</td>\n",
       "      <td>(167, 2)</td>\n",
       "    </tr>\n",
       "    <tr>\n",
       "      <td>y_train</td>\n",
       "      <td>(167,)</td>\n",
       "    </tr>\n",
       "    <tr>\n",
       "      <td>X_test</td>\n",
       "      <td>(42, 2)</td>\n",
       "    </tr>\n",
       "    <tr>\n",
       "      <td>y_test</td>\n",
       "      <td>(42,)</td>\n",
       "    </tr>\n",
       "  </tbody>\n",
       "</table>"
      ],
      "text/plain": [
       "<IPython.core.display.HTML object>"
      ]
     },
     "execution_count": 15,
     "metadata": {},
     "output_type": "execute_result"
    }
   ],
   "source": [
    "from sklearn.model_selection import train_test_split\n",
    "\n",
    "X_train, X_test, y_train, y_test = train_test_split(\n",
    "    X, y, test_size=0.2, random_state=123\n",
    ")  # 80%-20% train test split on X and y\n",
    "\n",
    "# Print shapes\n",
    "shape_dict = {\n",
    "    \"Data portion\": [\"X\", \"y\", \"X_train\", \"y_train\", \"X_test\", \"y_test\"],\n",
    "    \"Shape\": [\n",
    "        X.shape,\n",
    "        y.shape,\n",
    "        X_train.shape,\n",
    "        y_train.shape,\n",
    "        X_test.shape,\n",
    "        y_test.shape,\n",
    "    ],\n",
    "}\n",
    "\n",
    "shape_df = pd.DataFrame(shape_dict)\n",
    "HTML(shape_df.to_html(index=False))"
   ]
  },
  {
   "cell_type": "markdown",
   "metadata": {
    "slideshow": {
     "slide_type": "slide"
    }
   },
   "source": [
    "#### Creating `train_df` and `test_df`\n",
    "\n",
    "- Sometimes we want to keep the target in the train split for EDA or for visualization. "
   ]
  },
  {
   "cell_type": "code",
   "execution_count": 16,
   "metadata": {},
   "outputs": [
    {
     "data": {
      "text/html": [
       "<div>\n",
       "<style scoped>\n",
       "    .dataframe tbody tr th:only-of-type {\n",
       "        vertical-align: middle;\n",
       "    }\n",
       "\n",
       "    .dataframe tbody tr th {\n",
       "        vertical-align: top;\n",
       "    }\n",
       "\n",
       "    .dataframe thead th {\n",
       "        text-align: right;\n",
       "    }\n",
       "</style>\n",
       "<table border=\"1\" class=\"dataframe\">\n",
       "  <thead>\n",
       "    <tr style=\"text-align: right;\">\n",
       "      <th></th>\n",
       "      <th>longitude</th>\n",
       "      <th>latitude</th>\n",
       "      <th>country</th>\n",
       "    </tr>\n",
       "  </thead>\n",
       "  <tbody>\n",
       "    <tr>\n",
       "      <th>160</th>\n",
       "      <td>-76.4813</td>\n",
       "      <td>44.2307</td>\n",
       "      <td>Canada</td>\n",
       "    </tr>\n",
       "    <tr>\n",
       "      <th>127</th>\n",
       "      <td>-81.2496</td>\n",
       "      <td>42.9837</td>\n",
       "      <td>Canada</td>\n",
       "    </tr>\n",
       "    <tr>\n",
       "      <th>169</th>\n",
       "      <td>-66.0580</td>\n",
       "      <td>45.2788</td>\n",
       "      <td>Canada</td>\n",
       "    </tr>\n",
       "    <tr>\n",
       "      <th>188</th>\n",
       "      <td>-73.2533</td>\n",
       "      <td>45.3057</td>\n",
       "      <td>Canada</td>\n",
       "    </tr>\n",
       "    <tr>\n",
       "      <th>187</th>\n",
       "      <td>-67.9245</td>\n",
       "      <td>47.1652</td>\n",
       "      <td>Canada</td>\n",
       "    </tr>\n",
       "  </tbody>\n",
       "</table>\n",
       "</div>"
      ],
      "text/plain": [
       "     longitude  latitude country\n",
       "160   -76.4813   44.2307  Canada\n",
       "127   -81.2496   42.9837  Canada\n",
       "169   -66.0580   45.2788  Canada\n",
       "188   -73.2533   45.3057  Canada\n",
       "187   -67.9245   47.1652  Canada"
      ]
     },
     "execution_count": 16,
     "metadata": {},
     "output_type": "execute_result"
    }
   ],
   "source": [
    "train_df, test_df = train_test_split(\n",
    "    df, test_size=0.2, random_state=123\n",
    ")  # 80%-20% train test split on df\n",
    "X_train, y_train = train_df.drop(columns=[\"country\"]), train_df[\"country\"]\n",
    "X_test, y_test = test_df.drop(columns=[\"country\"]), test_df[\"country\"]\n",
    "train_df.head()"
   ]
  },
  {
   "cell_type": "code",
   "execution_count": 17,
   "metadata": {
    "slideshow": {
     "slide_type": "slide"
    }
   },
   "outputs": [
    {
     "data": {
      "image/png": "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\n",
      "text/plain": [
       "<Figure size 432x288 with 1 Axes>"
      ]
     },
     "metadata": {
      "needs_background": "light"
     },
     "output_type": "display_data"
    }
   ],
   "source": [
    "mglearn.discrete_scatter(X.iloc[:, 0], X.iloc[:, 1], y, s=12)\n",
    "plt.xlabel(\"longitude\")\n",
    "plt.ylabel(\"latitude\");"
   ]
  },
  {
   "cell_type": "code",
   "execution_count": 18,
   "metadata": {
    "slideshow": {
     "slide_type": "slide"
    }
   },
   "outputs": [
    {
     "data": {
      "image/svg+xml": [
       "<?xml version=\"1.0\" encoding=\"UTF-8\" standalone=\"no\"?>\r\n",
       "<!DOCTYPE svg PUBLIC \"-//W3C//DTD SVG 1.1//EN\"\r\n",
       " \"http://www.w3.org/Graphics/SVG/1.1/DTD/svg11.dtd\">\r\n",
       "<!-- Generated by graphviz version 2.49.0 (0)\r\n",
       " -->\r\n",
       "<!-- Title: Tree Pages: 1 -->\r\n",
       "<svg width=\"1315pt\" height=\"932pt\"\r\n",
       " viewBox=\"0.00 0.00 1315.00 932.00\" xmlns=\"http://www.w3.org/2000/svg\" xmlns:xlink=\"http://www.w3.org/1999/xlink\">\r\n",
       "<g id=\"graph0\" class=\"graph\" transform=\"scale(1 1) rotate(0) translate(4 928)\">\r\n",
       "<title>Tree</title>\r\n",
       "<polygon fill=\"white\" stroke=\"transparent\" points=\"-4,4 -4,-928 1311,-928 1311,4 -4,4\"/>\r\n",
       "<!-- 0 -->\r\n",
       "<g id=\"node1\" class=\"node\">\r\n",
       "<title>0</title>\r\n",
       "<polygon fill=\"none\" stroke=\"black\" points=\"287.5,-924 181.5,-924 181.5,-886 287.5,-886 287.5,-924\"/>\r\n",
       "<text text-anchor=\"middle\" x=\"234.5\" y=\"-908.8\" font-family=\"Times New Roman,serif\" font-size=\"14.00\">latitude &lt;= 42.9</text>\r\n",
       "<text text-anchor=\"middle\" x=\"234.5\" y=\"-893.8\" font-family=\"Times New Roman,serif\" font-size=\"14.00\">class = Canada</text>\r\n",
       "</g>\r\n",
       "<!-- 1 -->\r\n",
       "<g id=\"node2\" class=\"node\">\r\n",
       "<title>1</title>\r\n",
       "<polygon fill=\"none\" stroke=\"black\" points=\"220.5,-850 100.5,-850 100.5,-812 220.5,-812 220.5,-850\"/>\r\n",
       "<text text-anchor=\"middle\" x=\"160.5\" y=\"-834.8\" font-family=\"Times New Roman,serif\" font-size=\"14.00\">latitude &lt;= 42.096</text>\r\n",
       "<text text-anchor=\"middle\" x=\"160.5\" y=\"-819.8\" font-family=\"Times New Roman,serif\" font-size=\"14.00\">class = USA</text>\r\n",
       "</g>\r\n",
       "<!-- 0&#45;&gt;1 -->\r\n",
       "<g id=\"edge1\" class=\"edge\">\r\n",
       "<title>0&#45;&gt;1</title>\r\n",
       "<path fill=\"none\" stroke=\"black\" d=\"M215.83,-885.83C206.98,-877.22 196.25,-866.79 186.61,-857.4\"/>\r\n",
       "<polygon fill=\"black\" stroke=\"black\" points=\"188.78,-854.63 179.17,-850.16 183.89,-859.64 188.78,-854.63\"/>\r\n",
       "<text text-anchor=\"middle\" x=\"179.51\" y=\"-871.46\" font-family=\"Times New Roman,serif\" font-size=\"14.00\">True</text>\r\n",
       "</g>\r\n",
       "<!-- 6 -->\r\n",
       "<g id=\"node7\" class=\"node\">\r\n",
       "<title>6</title>\r\n",
       "<polygon fill=\"none\" stroke=\"black\" points=\"380.5,-850 238.5,-850 238.5,-812 380.5,-812 380.5,-850\"/>\r\n",
       "<text text-anchor=\"middle\" x=\"309.5\" y=\"-834.8\" font-family=\"Times New Roman,serif\" font-size=\"14.00\">longitude &lt;= &#45;130.017</text>\r\n",
       "<text text-anchor=\"middle\" x=\"309.5\" y=\"-819.8\" font-family=\"Times New Roman,serif\" font-size=\"14.00\">class = Canada</text>\r\n",
       "</g>\r\n",
       "<!-- 0&#45;&gt;6 -->\r\n",
       "<g id=\"edge6\" class=\"edge\">\r\n",
       "<title>0&#45;&gt;6</title>\r\n",
       "<path fill=\"none\" stroke=\"black\" d=\"M253.43,-885.83C262.49,-877.13 273.48,-866.58 283.33,-857.13\"/>\r\n",
       "<polygon fill=\"black\" stroke=\"black\" points=\"285.79,-859.61 290.58,-850.16 280.94,-854.56 285.79,-859.61\"/>\r\n",
       "<text text-anchor=\"middle\" x=\"290.07\" y=\"-871.46\" font-family=\"Times New Roman,serif\" font-size=\"14.00\">False</text>\r\n",
       "</g>\r\n",
       "<!-- 2 -->\r\n",
       "<g id=\"node3\" class=\"node\">\r\n",
       "<title>2</title>\r\n",
       "<polygon fill=\"none\" stroke=\"black\" points=\"87,-775 0,-775 0,-739 87,-739 87,-775\"/>\r\n",
       "<text text-anchor=\"middle\" x=\"43.5\" y=\"-753.3\" font-family=\"Times New Roman,serif\" font-size=\"14.00\">class = USA</text>\r\n",
       "</g>\r\n",
       "<!-- 1&#45;&gt;2 -->\r\n",
       "<g id=\"edge2\" class=\"edge\">\r\n",
       "<title>1&#45;&gt;2</title>\r\n",
       "<path fill=\"none\" stroke=\"black\" d=\"M130.98,-811.83C115.55,-802.34 96.54,-790.64 80.18,-780.57\"/>\r\n",
       "<polygon fill=\"black\" stroke=\"black\" points=\"81.75,-777.43 71.4,-775.17 78.09,-783.39 81.75,-777.43\"/>\r\n",
       "</g>\r\n",
       "<!-- 3 -->\r\n",
       "<g id=\"node4\" class=\"node\">\r\n",
       "<title>3</title>\r\n",
       "<polygon fill=\"none\" stroke=\"black\" points=\"225.5,-776 105.5,-776 105.5,-738 225.5,-738 225.5,-776\"/>\r\n",
       "<text text-anchor=\"middle\" x=\"165.5\" y=\"-760.8\" font-family=\"Times New Roman,serif\" font-size=\"14.00\">latitude &lt;= 42.324</text>\r\n",
       "<text text-anchor=\"middle\" x=\"165.5\" y=\"-745.8\" font-family=\"Times New Roman,serif\" font-size=\"14.00\">class = USA</text>\r\n",
       "</g>\r\n",
       "<!-- 1&#45;&gt;3 -->\r\n",
       "<g id=\"edge3\" class=\"edge\">\r\n",
       "<title>1&#45;&gt;3</title>\r\n",
       "<path fill=\"none\" stroke=\"black\" d=\"M161.76,-811.83C162.3,-804.13 162.93,-794.97 163.53,-786.42\"/>\r\n",
       "<polygon fill=\"black\" stroke=\"black\" points=\"167.02,-786.63 164.22,-776.41 160.04,-786.15 167.02,-786.63\"/>\r\n",
       "</g>\r\n",
       "<!-- 4 -->\r\n",
       "<g id=\"node5\" class=\"node\">\r\n",
       "<title>4</title>\r\n",
       "<polygon fill=\"none\" stroke=\"black\" points=\"209,-701 108,-701 108,-665 209,-665 209,-701\"/>\r\n",
       "<text text-anchor=\"middle\" x=\"158.5\" y=\"-679.3\" font-family=\"Times New Roman,serif\" font-size=\"14.00\">class = Canada</text>\r\n",
       "</g>\r\n",
       "<!-- 3&#45;&gt;4 -->\r\n",
       "<g id=\"edge4\" class=\"edge\">\r\n",
       "<title>3&#45;&gt;4</title>\r\n",
       "<path fill=\"none\" stroke=\"black\" d=\"M163.73,-737.83C162.96,-729.89 162.04,-720.41 161.19,-711.63\"/>\r\n",
       "<polygon fill=\"black\" stroke=\"black\" points=\"164.64,-711.03 160.19,-701.42 157.68,-711.71 164.64,-711.03\"/>\r\n",
       "</g>\r\n",
       "<!-- 5 -->\r\n",
       "<g id=\"node6\" class=\"node\">\r\n",
       "<title>5</title>\r\n",
       "<polygon fill=\"none\" stroke=\"black\" points=\"314,-701 227,-701 227,-665 314,-665 314,-701\"/>\r\n",
       "<text text-anchor=\"middle\" x=\"270.5\" y=\"-679.3\" font-family=\"Times New Roman,serif\" font-size=\"14.00\">class = USA</text>\r\n",
       "</g>\r\n",
       "<!-- 3&#45;&gt;5 -->\r\n",
       "<g id=\"edge5\" class=\"edge\">\r\n",
       "<title>3&#45;&gt;5</title>\r\n",
       "<path fill=\"none\" stroke=\"black\" d=\"M192,-737.83C205.71,-728.43 222.59,-716.86 237.17,-706.85\"/>\r\n",
       "<polygon fill=\"black\" stroke=\"black\" points=\"239.19,-709.71 245.46,-701.17 235.23,-703.94 239.19,-709.71\"/>\r\n",
       "</g>\r\n",
       "<!-- 7 -->\r\n",
       "<g id=\"node8\" class=\"node\">\r\n",
       "<title>7</title>\r\n",
       "<polygon fill=\"none\" stroke=\"black\" points=\"344,-775 257,-775 257,-739 344,-739 344,-775\"/>\r\n",
       "<text text-anchor=\"middle\" x=\"300.5\" y=\"-753.3\" font-family=\"Times New Roman,serif\" font-size=\"14.00\">class = USA</text>\r\n",
       "</g>\r\n",
       "<!-- 6&#45;&gt;7 -->\r\n",
       "<g id=\"edge7\" class=\"edge\">\r\n",
       "<title>6&#45;&gt;7</title>\r\n",
       "<path fill=\"none\" stroke=\"black\" d=\"M307.23,-811.83C306.24,-803.89 305.05,-794.41 303.95,-785.63\"/>\r\n",
       "<polygon fill=\"black\" stroke=\"black\" points=\"307.39,-784.91 302.68,-775.42 300.44,-785.77 307.39,-784.91\"/>\r\n",
       "</g>\r\n",
       "<!-- 8 -->\r\n",
       "<g id=\"node9\" class=\"node\">\r\n",
       "<title>8</title>\r\n",
       "<polygon fill=\"none\" stroke=\"black\" points=\"468.5,-776 362.5,-776 362.5,-738 468.5,-738 468.5,-776\"/>\r\n",
       "<text text-anchor=\"middle\" x=\"415.5\" y=\"-760.8\" font-family=\"Times New Roman,serif\" font-size=\"14.00\">latitude &lt;= 49.0</text>\r\n",
       "<text text-anchor=\"middle\" x=\"415.5\" y=\"-745.8\" font-family=\"Times New Roman,serif\" font-size=\"14.00\">class = Canada</text>\r\n",
       "</g>\r\n",
       "<!-- 6&#45;&gt;8 -->\r\n",
       "<g id=\"edge8\" class=\"edge\">\r\n",
       "<title>6&#45;&gt;8</title>\r\n",
       "<path fill=\"none\" stroke=\"black\" d=\"M336.25,-811.83C349.56,-802.79 365.82,-791.75 380.14,-782.02\"/>\r\n",
       "<polygon fill=\"black\" stroke=\"black\" points=\"382.45,-784.68 388.76,-776.16 378.52,-778.89 382.45,-784.68\"/>\r\n",
       "</g>\r\n",
       "<!-- 9 -->\r\n",
       "<g id=\"node10\" class=\"node\">\r\n",
       "<title>9</title>\r\n",
       "<polygon fill=\"none\" stroke=\"black\" points=\"478,-702 343,-702 343,-664 478,-664 478,-702\"/>\r\n",
       "<text text-anchor=\"middle\" x=\"410.5\" y=\"-686.8\" font-family=\"Times New Roman,serif\" font-size=\"14.00\">longitude &lt;= &#45;94.582</text>\r\n",
       "<text text-anchor=\"middle\" x=\"410.5\" y=\"-671.8\" font-family=\"Times New Roman,serif\" font-size=\"14.00\">class = Canada</text>\r\n",
       "</g>\r\n",
       "<!-- 8&#45;&gt;9 -->\r\n",
       "<g id=\"edge9\" class=\"edge\">\r\n",
       "<title>8&#45;&gt;9</title>\r\n",
       "<path fill=\"none\" stroke=\"black\" d=\"M414.24,-737.83C413.7,-730.13 413.07,-720.97 412.47,-712.42\"/>\r\n",
       "<polygon fill=\"black\" stroke=\"black\" points=\"415.96,-712.15 411.78,-702.41 408.98,-712.63 415.96,-712.15\"/>\r\n",
       "</g>\r\n",
       "<!-- 56 -->\r\n",
       "<g id=\"node57\" class=\"node\">\r\n",
       "<title>56</title>\r\n",
       "<polygon fill=\"none\" stroke=\"black\" points=\"597,-701 496,-701 496,-665 597,-665 597,-701\"/>\r\n",
       "<text text-anchor=\"middle\" x=\"546.5\" y=\"-679.3\" font-family=\"Times New Roman,serif\" font-size=\"14.00\">class = Canada</text>\r\n",
       "</g>\r\n",
       "<!-- 8&#45;&gt;56 -->\r\n",
       "<g id=\"edge56\" class=\"edge\">\r\n",
       "<title>8&#45;&gt;56</title>\r\n",
       "<path fill=\"none\" stroke=\"black\" d=\"M448.56,-737.83C466.14,-728.17 487.91,-716.2 506.45,-706.01\"/>\r\n",
       "<polygon fill=\"black\" stroke=\"black\" points=\"508.18,-709.06 515.26,-701.17 504.81,-702.92 508.18,-709.06\"/>\r\n",
       "</g>\r\n",
       "<!-- 10 -->\r\n",
       "<g id=\"node11\" class=\"node\">\r\n",
       "<title>10</title>\r\n",
       "<polygon fill=\"none\" stroke=\"black\" points=\"403.5,-628 261.5,-628 261.5,-590 403.5,-590 403.5,-628\"/>\r\n",
       "<text text-anchor=\"middle\" x=\"332.5\" y=\"-612.8\" font-family=\"Times New Roman,serif\" font-size=\"14.00\">longitude &lt;= &#45;123.222</text>\r\n",
       "<text text-anchor=\"middle\" x=\"332.5\" y=\"-597.8\" font-family=\"Times New Roman,serif\" font-size=\"14.00\">class = USA</text>\r\n",
       "</g>\r\n",
       "<!-- 9&#45;&gt;10 -->\r\n",
       "<g id=\"edge10\" class=\"edge\">\r\n",
       "<title>9&#45;&gt;10</title>\r\n",
       "<path fill=\"none\" stroke=\"black\" d=\"M390.82,-663.83C381.39,-655.13 369.96,-644.58 359.72,-635.13\"/>\r\n",
       "<polygon fill=\"black\" stroke=\"black\" points=\"361.9,-632.37 352.18,-628.16 357.15,-637.52 361.9,-632.37\"/>\r\n",
       "</g>\r\n",
       "<!-- 13 -->\r\n",
       "<g id=\"node14\" class=\"node\">\r\n",
       "<title>13</title>\r\n",
       "<polygon fill=\"none\" stroke=\"black\" points=\"557,-628 422,-628 422,-590 557,-590 557,-628\"/>\r\n",
       "<text text-anchor=\"middle\" x=\"489.5\" y=\"-612.8\" font-family=\"Times New Roman,serif\" font-size=\"14.00\">longitude &lt;= &#45;69.246</text>\r\n",
       "<text text-anchor=\"middle\" x=\"489.5\" y=\"-597.8\" font-family=\"Times New Roman,serif\" font-size=\"14.00\">class = Canada</text>\r\n",
       "</g>\r\n",
       "<!-- 9&#45;&gt;13 -->\r\n",
       "<g id=\"edge13\" class=\"edge\">\r\n",
       "<title>9&#45;&gt;13</title>\r\n",
       "<path fill=\"none\" stroke=\"black\" d=\"M430.44,-663.83C439.98,-655.13 451.56,-644.58 461.93,-635.13\"/>\r\n",
       "<polygon fill=\"black\" stroke=\"black\" points=\"464.54,-637.49 469.57,-628.16 459.82,-632.31 464.54,-637.49\"/>\r\n",
       "</g>\r\n",
       "<!-- 11 -->\r\n",
       "<g id=\"node12\" class=\"node\">\r\n",
       "<title>11</title>\r\n",
       "<polygon fill=\"none\" stroke=\"black\" points=\"280,-553 179,-553 179,-517 280,-517 280,-553\"/>\r\n",
       "<text text-anchor=\"middle\" x=\"229.5\" y=\"-531.3\" font-family=\"Times New Roman,serif\" font-size=\"14.00\">class = Canada</text>\r\n",
       "</g>\r\n",
       "<!-- 10&#45;&gt;11 -->\r\n",
       "<g id=\"edge11\" class=\"edge\">\r\n",
       "<title>10&#45;&gt;11</title>\r\n",
       "<path fill=\"none\" stroke=\"black\" d=\"M306.51,-589.83C293.18,-580.52 276.81,-569.07 262.59,-559.13\"/>\r\n",
       "<polygon fill=\"black\" stroke=\"black\" points=\"264.27,-556.03 254.06,-553.17 260.26,-561.77 264.27,-556.03\"/>\r\n",
       "</g>\r\n",
       "<!-- 12 -->\r\n",
       "<g id=\"node13\" class=\"node\">\r\n",
       "<title>12</title>\r\n",
       "<polygon fill=\"none\" stroke=\"black\" points=\"385,-553 298,-553 298,-517 385,-517 385,-553\"/>\r\n",
       "<text text-anchor=\"middle\" x=\"341.5\" y=\"-531.3\" font-family=\"Times New Roman,serif\" font-size=\"14.00\">class = USA</text>\r\n",
       "</g>\r\n",
       "<!-- 10&#45;&gt;12 -->\r\n",
       "<g id=\"edge12\" class=\"edge\">\r\n",
       "<title>10&#45;&gt;12</title>\r\n",
       "<path fill=\"none\" stroke=\"black\" d=\"M334.77,-589.83C335.76,-581.89 336.95,-572.41 338.05,-563.63\"/>\r\n",
       "<polygon fill=\"black\" stroke=\"black\" points=\"341.56,-563.77 339.32,-553.42 334.61,-562.91 341.56,-563.77\"/>\r\n",
       "</g>\r\n",
       "<!-- 14 -->\r\n",
       "<g id=\"node15\" class=\"node\">\r\n",
       "<title>14</title>\r\n",
       "<polygon fill=\"none\" stroke=\"black\" points=\"540.5,-554 420.5,-554 420.5,-516 540.5,-516 540.5,-554\"/>\r\n",
       "<text text-anchor=\"middle\" x=\"480.5\" y=\"-538.8\" font-family=\"Times New Roman,serif\" font-size=\"14.00\">latitude &lt;= 43.093</text>\r\n",
       "<text text-anchor=\"middle\" x=\"480.5\" y=\"-523.8\" font-family=\"Times New Roman,serif\" font-size=\"14.00\">class = Canada</text>\r\n",
       "</g>\r\n",
       "<!-- 13&#45;&gt;14 -->\r\n",
       "<g id=\"edge14\" class=\"edge\">\r\n",
       "<title>13&#45;&gt;14</title>\r\n",
       "<path fill=\"none\" stroke=\"black\" d=\"M487.23,-589.83C486.27,-582.13 485.12,-572.97 484.05,-564.42\"/>\r\n",
       "<polygon fill=\"black\" stroke=\"black\" points=\"487.52,-563.9 482.8,-554.41 480.57,-564.77 487.52,-563.9\"/>\r\n",
       "</g>\r\n",
       "<!-- 37 -->\r\n",
       "<g id=\"node38\" class=\"node\">\r\n",
       "<title>37</title>\r\n",
       "<polygon fill=\"none\" stroke=\"black\" points=\"793,-554 658,-554 658,-516 793,-516 793,-554\"/>\r\n",
       "<text text-anchor=\"middle\" x=\"725.5\" y=\"-538.8\" font-family=\"Times New Roman,serif\" font-size=\"14.00\">longitude &lt;= &#45;66.952</text>\r\n",
       "<text text-anchor=\"middle\" x=\"725.5\" y=\"-523.8\" font-family=\"Times New Roman,serif\" font-size=\"14.00\">class = Canada</text>\r\n",
       "</g>\r\n",
       "<!-- 13&#45;&gt;37 -->\r\n",
       "<g id=\"edge37\" class=\"edge\">\r\n",
       "<title>13&#45;&gt;37</title>\r\n",
       "<path fill=\"none\" stroke=\"black\" d=\"M548.75,-589.92C581.43,-579.95 622.19,-567.52 656.33,-557.1\"/>\r\n",
       "<polygon fill=\"black\" stroke=\"black\" points=\"657.68,-560.35 666.23,-554.08 655.64,-553.65 657.68,-560.35\"/>\r\n",
       "</g>\r\n",
       "<!-- 15 -->\r\n",
       "<g id=\"node16\" class=\"node\">\r\n",
       "<title>15</title>\r\n",
       "<polygon fill=\"none\" stroke=\"black\" points=\"397,-480 262,-480 262,-442 397,-442 397,-480\"/>\r\n",
       "<text text-anchor=\"middle\" x=\"329.5\" y=\"-464.8\" font-family=\"Times New Roman,serif\" font-size=\"14.00\">longitude &lt;= &#45;81.845</text>\r\n",
       "<text text-anchor=\"middle\" x=\"329.5\" y=\"-449.8\" font-family=\"Times New Roman,serif\" font-size=\"14.00\">class = Canada</text>\r\n",
       "</g>\r\n",
       "<!-- 14&#45;&gt;15 -->\r\n",
       "<g id=\"edge15\" class=\"edge\">\r\n",
       "<title>14&#45;&gt;15</title>\r\n",
       "<path fill=\"none\" stroke=\"black\" d=\"M442.4,-515.83C422.38,-506.29 397.67,-494.51 376.48,-484.4\"/>\r\n",
       "<polygon fill=\"black\" stroke=\"black\" points=\"377.86,-481.18 367.33,-480.04 374.85,-487.5 377.86,-481.18\"/>\r\n",
       "</g>\r\n",
       "<!-- 20 -->\r\n",
       "<g id=\"node21\" class=\"node\">\r\n",
       "<title>20</title>\r\n",
       "<polygon fill=\"none\" stroke=\"black\" points=\"540.5,-480 420.5,-480 420.5,-442 540.5,-442 540.5,-480\"/>\r\n",
       "<text text-anchor=\"middle\" x=\"480.5\" y=\"-464.8\" font-family=\"Times New Roman,serif\" font-size=\"14.00\">latitude &lt;= 44.992</text>\r\n",
       "<text text-anchor=\"middle\" x=\"480.5\" y=\"-449.8\" font-family=\"Times New Roman,serif\" font-size=\"14.00\">class = Canada</text>\r\n",
       "</g>\r\n",
       "<!-- 14&#45;&gt;20 -->\r\n",
       "<g id=\"edge20\" class=\"edge\">\r\n",
       "<title>14&#45;&gt;20</title>\r\n",
       "<path fill=\"none\" stroke=\"black\" d=\"M480.5,-515.83C480.5,-508.13 480.5,-498.97 480.5,-490.42\"/>\r\n",
       "<polygon fill=\"black\" stroke=\"black\" points=\"484,-490.41 480.5,-480.41 477,-490.41 484,-490.41\"/>\r\n",
       "</g>\r\n",
       "<!-- 16 -->\r\n",
       "<g id=\"node17\" class=\"node\">\r\n",
       "<title>16</title>\r\n",
       "<polygon fill=\"none\" stroke=\"black\" points=\"251,-405 164,-405 164,-369 251,-369 251,-405\"/>\r\n",
       "<text text-anchor=\"middle\" x=\"207.5\" y=\"-383.3\" font-family=\"Times New Roman,serif\" font-size=\"14.00\">class = USA</text>\r\n",
       "</g>\r\n",
       "<!-- 15&#45;&gt;16 -->\r\n",
       "<g id=\"edge16\" class=\"edge\">\r\n",
       "<title>15&#45;&gt;16</title>\r\n",
       "<path fill=\"none\" stroke=\"black\" d=\"M298.71,-441.83C282.48,-432.25 262.44,-420.42 245.27,-410.29\"/>\r\n",
       "<polygon fill=\"black\" stroke=\"black\" points=\"246.99,-407.24 236.6,-405.17 243.43,-413.27 246.99,-407.24\"/>\r\n",
       "</g>\r\n",
       "<!-- 17 -->\r\n",
       "<g id=\"node18\" class=\"node\">\r\n",
       "<title>17</title>\r\n",
       "<polygon fill=\"none\" stroke=\"black\" points=\"389.5,-406 269.5,-406 269.5,-368 389.5,-368 389.5,-406\"/>\r\n",
       "<text text-anchor=\"middle\" x=\"329.5\" y=\"-390.8\" font-family=\"Times New Roman,serif\" font-size=\"14.00\">latitude &lt;= 43.039</text>\r\n",
       "<text text-anchor=\"middle\" x=\"329.5\" y=\"-375.8\" font-family=\"Times New Roman,serif\" font-size=\"14.00\">class = Canada</text>\r\n",
       "</g>\r\n",
       "<!-- 15&#45;&gt;17 -->\r\n",
       "<g id=\"edge17\" class=\"edge\">\r\n",
       "<title>15&#45;&gt;17</title>\r\n",
       "<path fill=\"none\" stroke=\"black\" d=\"M329.5,-441.83C329.5,-434.13 329.5,-424.97 329.5,-416.42\"/>\r\n",
       "<polygon fill=\"black\" stroke=\"black\" points=\"333,-416.41 329.5,-406.41 326,-416.41 333,-416.41\"/>\r\n",
       "</g>\r\n",
       "<!-- 18 -->\r\n",
       "<g id=\"node19\" class=\"node\">\r\n",
       "<title>18</title>\r\n",
       "<polygon fill=\"none\" stroke=\"black\" points=\"268,-331 167,-331 167,-295 268,-295 268,-331\"/>\r\n",
       "<text text-anchor=\"middle\" x=\"217.5\" y=\"-309.3\" font-family=\"Times New Roman,serif\" font-size=\"14.00\">class = Canada</text>\r\n",
       "</g>\r\n",
       "<!-- 17&#45;&gt;18 -->\r\n",
       "<g id=\"edge18\" class=\"edge\">\r\n",
       "<title>17&#45;&gt;18</title>\r\n",
       "<path fill=\"none\" stroke=\"black\" d=\"M301.24,-367.83C286.61,-358.43 268.61,-346.86 253.05,-336.85\"/>\r\n",
       "<polygon fill=\"black\" stroke=\"black\" points=\"254.52,-333.63 244.21,-331.17 250.73,-339.52 254.52,-333.63\"/>\r\n",
       "</g>\r\n",
       "<!-- 19 -->\r\n",
       "<g id=\"node20\" class=\"node\">\r\n",
       "<title>19</title>\r\n",
       "<polygon fill=\"none\" stroke=\"black\" points=\"373,-331 286,-331 286,-295 373,-295 373,-331\"/>\r\n",
       "<text text-anchor=\"middle\" x=\"329.5\" y=\"-309.3\" font-family=\"Times New Roman,serif\" font-size=\"14.00\">class = USA</text>\r\n",
       "</g>\r\n",
       "<!-- 17&#45;&gt;19 -->\r\n",
       "<g id=\"edge19\" class=\"edge\">\r\n",
       "<title>17&#45;&gt;19</title>\r\n",
       "<path fill=\"none\" stroke=\"black\" d=\"M329.5,-367.83C329.5,-359.89 329.5,-350.41 329.5,-341.63\"/>\r\n",
       "<polygon fill=\"black\" stroke=\"black\" points=\"333,-341.42 329.5,-331.42 326,-341.42 333,-341.42\"/>\r\n",
       "</g>\r\n",
       "<!-- 21 -->\r\n",
       "<g id=\"node22\" class=\"node\">\r\n",
       "<title>21</title>\r\n",
       "<polygon fill=\"none\" stroke=\"black\" points=\"534.5,-406 414.5,-406 414.5,-368 534.5,-368 534.5,-406\"/>\r\n",
       "<text text-anchor=\"middle\" x=\"474.5\" y=\"-390.8\" font-family=\"Times New Roman,serif\" font-size=\"14.00\">latitude &lt;= 44.542</text>\r\n",
       "<text text-anchor=\"middle\" x=\"474.5\" y=\"-375.8\" font-family=\"Times New Roman,serif\" font-size=\"14.00\">class = Canada</text>\r\n",
       "</g>\r\n",
       "<!-- 20&#45;&gt;21 -->\r\n",
       "<g id=\"edge21\" class=\"edge\">\r\n",
       "<title>20&#45;&gt;21</title>\r\n",
       "<path fill=\"none\" stroke=\"black\" d=\"M478.99,-441.83C478.34,-434.13 477.58,-424.97 476.87,-416.42\"/>\r\n",
       "<polygon fill=\"black\" stroke=\"black\" points=\"480.35,-416.09 476.03,-406.41 473.38,-416.67 480.35,-416.09\"/>\r\n",
       "</g>\r\n",
       "<!-- 36 -->\r\n",
       "<g id=\"node37\" class=\"node\">\r\n",
       "<title>36</title>\r\n",
       "<polygon fill=\"none\" stroke=\"black\" points=\"654,-405 553,-405 553,-369 654,-369 654,-405\"/>\r\n",
       "<text text-anchor=\"middle\" x=\"603.5\" y=\"-383.3\" font-family=\"Times New Roman,serif\" font-size=\"14.00\">class = Canada</text>\r\n",
       "</g>\r\n",
       "<!-- 20&#45;&gt;36 -->\r\n",
       "<g id=\"edge36\" class=\"edge\">\r\n",
       "<title>20&#45;&gt;36</title>\r\n",
       "<path fill=\"none\" stroke=\"black\" d=\"M511.54,-441.83C527.9,-432.25 548.11,-420.42 565.42,-410.29\"/>\r\n",
       "<polygon fill=\"black\" stroke=\"black\" points=\"567.3,-413.24 574.17,-405.17 563.77,-407.2 567.3,-413.24\"/>\r\n",
       "</g>\r\n",
       "<!-- 22 -->\r\n",
       "<g id=\"node23\" class=\"node\">\r\n",
       "<title>22</title>\r\n",
       "<polygon fill=\"none\" stroke=\"black\" points=\"526,-332 391,-332 391,-294 526,-294 526,-332\"/>\r\n",
       "<text text-anchor=\"middle\" x=\"458.5\" y=\"-316.8\" font-family=\"Times New Roman,serif\" font-size=\"14.00\">longitude &lt;= &#45;79.076</text>\r\n",
       "<text text-anchor=\"middle\" x=\"458.5\" y=\"-301.8\" font-family=\"Times New Roman,serif\" font-size=\"14.00\">class = Canada</text>\r\n",
       "</g>\r\n",
       "<!-- 21&#45;&gt;22 -->\r\n",
       "<g id=\"edge22\" class=\"edge\">\r\n",
       "<title>21&#45;&gt;22</title>\r\n",
       "<path fill=\"none\" stroke=\"black\" d=\"M470.46,-367.83C468.75,-360.13 466.72,-350.97 464.81,-342.42\"/>\r\n",
       "<polygon fill=\"black\" stroke=\"black\" points=\"468.18,-341.42 462.59,-332.41 461.34,-342.93 468.18,-341.42\"/>\r\n",
       "</g>\r\n",
       "<!-- 31 -->\r\n",
       "<g id=\"node32\" class=\"node\">\r\n",
       "<title>31</title>\r\n",
       "<polygon fill=\"none\" stroke=\"black\" points=\"664.5,-332 544.5,-332 544.5,-294 664.5,-294 664.5,-332\"/>\r\n",
       "<text text-anchor=\"middle\" x=\"604.5\" y=\"-316.8\" font-family=\"Times New Roman,serif\" font-size=\"14.00\">latitude &lt;= 44.706</text>\r\n",
       "<text text-anchor=\"middle\" x=\"604.5\" y=\"-301.8\" font-family=\"Times New Roman,serif\" font-size=\"14.00\">class = USA</text>\r\n",
       "</g>\r\n",
       "<!-- 21&#45;&gt;31 -->\r\n",
       "<g id=\"edge31\" class=\"edge\">\r\n",
       "<title>21&#45;&gt;31</title>\r\n",
       "<path fill=\"none\" stroke=\"black\" d=\"M507.3,-367.83C524.09,-358.54 544.7,-347.12 562.62,-337.2\"/>\r\n",
       "<polygon fill=\"black\" stroke=\"black\" points=\"564.65,-340.07 571.71,-332.16 561.26,-333.95 564.65,-340.07\"/>\r\n",
       "</g>\r\n",
       "<!-- 23 -->\r\n",
       "<g id=\"node24\" class=\"node\">\r\n",
       "<title>23</title>\r\n",
       "<polygon fill=\"none\" stroke=\"black\" points=\"380,-257 279,-257 279,-221 380,-221 380,-257\"/>\r\n",
       "<text text-anchor=\"middle\" x=\"329.5\" y=\"-235.3\" font-family=\"Times New Roman,serif\" font-size=\"14.00\">class = Canada</text>\r\n",
       "</g>\r\n",
       "<!-- 22&#45;&gt;23 -->\r\n",
       "<g id=\"edge23\" class=\"edge\">\r\n",
       "<title>22&#45;&gt;23</title>\r\n",
       "<path fill=\"none\" stroke=\"black\" d=\"M425.95,-293.83C408.79,-284.25 387.59,-272.42 369.44,-262.29\"/>\r\n",
       "<polygon fill=\"black\" stroke=\"black\" points=\"370.7,-258.99 360.27,-257.17 367.29,-265.1 370.7,-258.99\"/>\r\n",
       "</g>\r\n",
       "<!-- 24 -->\r\n",
       "<g id=\"node25\" class=\"node\">\r\n",
       "<title>24</title>\r\n",
       "<polygon fill=\"none\" stroke=\"black\" points=\"518.5,-258 398.5,-258 398.5,-220 518.5,-220 518.5,-258\"/>\r\n",
       "<text text-anchor=\"middle\" x=\"458.5\" y=\"-242.8\" font-family=\"Times New Roman,serif\" font-size=\"14.00\">latitude &lt;= 44.168</text>\r\n",
       "<text text-anchor=\"middle\" x=\"458.5\" y=\"-227.8\" font-family=\"Times New Roman,serif\" font-size=\"14.00\">class = Canada</text>\r\n",
       "</g>\r\n",
       "<!-- 22&#45;&gt;24 -->\r\n",
       "<g id=\"edge24\" class=\"edge\">\r\n",
       "<title>22&#45;&gt;24</title>\r\n",
       "<path fill=\"none\" stroke=\"black\" d=\"M458.5,-293.83C458.5,-286.13 458.5,-276.97 458.5,-268.42\"/>\r\n",
       "<polygon fill=\"black\" stroke=\"black\" points=\"462,-268.41 458.5,-258.41 455,-268.41 462,-268.41\"/>\r\n",
       "</g>\r\n",
       "<!-- 25 -->\r\n",
       "<g id=\"node26\" class=\"node\">\r\n",
       "<title>25</title>\r\n",
       "<polygon fill=\"none\" stroke=\"black\" points=\"403,-184 284,-184 284,-146 403,-146 403,-184\"/>\r\n",
       "<text text-anchor=\"middle\" x=\"343.5\" y=\"-168.8\" font-family=\"Times New Roman,serif\" font-size=\"14.00\">latitude &lt;= 43.511</text>\r\n",
       "<text text-anchor=\"middle\" x=\"343.5\" y=\"-153.8\" font-family=\"Times New Roman,serif\" font-size=\"14.00\">class = USA</text>\r\n",
       "</g>\r\n",
       "<!-- 24&#45;&gt;25 -->\r\n",
       "<g id=\"edge25\" class=\"edge\">\r\n",
       "<title>24&#45;&gt;25</title>\r\n",
       "<path fill=\"none\" stroke=\"black\" d=\"M429.48,-219.83C414.77,-210.62 396.74,-199.33 380.99,-189.47\"/>\r\n",
       "<polygon fill=\"black\" stroke=\"black\" points=\"382.84,-186.5 372.51,-184.16 379.13,-192.44 382.84,-186.5\"/>\r\n",
       "</g>\r\n",
       "<!-- 30 -->\r\n",
       "<g id=\"node31\" class=\"node\">\r\n",
       "<title>30</title>\r\n",
       "<polygon fill=\"none\" stroke=\"black\" points=\"522,-183 421,-183 421,-147 522,-147 522,-183\"/>\r\n",
       "<text text-anchor=\"middle\" x=\"471.5\" y=\"-161.3\" font-family=\"Times New Roman,serif\" font-size=\"14.00\">class = Canada</text>\r\n",
       "</g>\r\n",
       "<!-- 24&#45;&gt;30 -->\r\n",
       "<g id=\"edge30\" class=\"edge\">\r\n",
       "<title>24&#45;&gt;30</title>\r\n",
       "<path fill=\"none\" stroke=\"black\" d=\"M461.78,-219.83C463.23,-211.81 464.96,-202.2 466.56,-193.34\"/>\r\n",
       "<polygon fill=\"black\" stroke=\"black\" points=\"470.02,-193.88 468.36,-183.42 463.13,-192.64 470.02,-193.88\"/>\r\n",
       "</g>\r\n",
       "<!-- 26 -->\r\n",
       "<g id=\"node27\" class=\"node\">\r\n",
       "<title>26</title>\r\n",
       "<polygon fill=\"none\" stroke=\"black\" points=\"323,-109 236,-109 236,-73 323,-73 323,-109\"/>\r\n",
       "<text text-anchor=\"middle\" x=\"279.5\" y=\"-87.3\" font-family=\"Times New Roman,serif\" font-size=\"14.00\">class = USA</text>\r\n",
       "</g>\r\n",
       "<!-- 25&#45;&gt;26 -->\r\n",
       "<g id=\"edge26\" class=\"edge\">\r\n",
       "<title>25&#45;&gt;26</title>\r\n",
       "<path fill=\"none\" stroke=\"black\" d=\"M327.35,-145.83C319.6,-137.11 310.18,-126.52 301.76,-117.05\"/>\r\n",
       "<polygon fill=\"black\" stroke=\"black\" points=\"304.24,-114.57 294.98,-109.42 299.01,-119.22 304.24,-114.57\"/>\r\n",
       "</g>\r\n",
       "<!-- 27 -->\r\n",
       "<g id=\"node28\" class=\"node\">\r\n",
       "<title>27</title>\r\n",
       "<polygon fill=\"none\" stroke=\"black\" points=\"476,-110 341,-110 341,-72 476,-72 476,-110\"/>\r\n",
       "<text text-anchor=\"middle\" x=\"408.5\" y=\"-94.8\" font-family=\"Times New Roman,serif\" font-size=\"14.00\">longitude &lt;= &#45;77.678</text>\r\n",
       "<text text-anchor=\"middle\" x=\"408.5\" y=\"-79.8\" font-family=\"Times New Roman,serif\" font-size=\"14.00\">class = Canada</text>\r\n",
       "</g>\r\n",
       "<!-- 25&#45;&gt;27 -->\r\n",
       "<g id=\"edge27\" class=\"edge\">\r\n",
       "<title>25&#45;&gt;27</title>\r\n",
       "<path fill=\"none\" stroke=\"black\" d=\"M359.9,-145.83C367.54,-137.37 376.77,-127.15 385.12,-117.9\"/>\r\n",
       "<polygon fill=\"black\" stroke=\"black\" points=\"387.77,-120.18 391.88,-110.41 382.58,-115.49 387.77,-120.18\"/>\r\n",
       "</g>\r\n",
       "<!-- 28 -->\r\n",
       "<g id=\"node29\" class=\"node\">\r\n",
       "<title>28</title>\r\n",
       "<polygon fill=\"none\" stroke=\"black\" points=\"403,-36 302,-36 302,0 403,0 403,-36\"/>\r\n",
       "<text text-anchor=\"middle\" x=\"352.5\" y=\"-14.3\" font-family=\"Times New Roman,serif\" font-size=\"14.00\">class = Canada</text>\r\n",
       "</g>\r\n",
       "<!-- 27&#45;&gt;28 -->\r\n",
       "<g id=\"edge28\" class=\"edge\">\r\n",
       "<title>27&#45;&gt;28</title>\r\n",
       "<path fill=\"none\" stroke=\"black\" d=\"M394.08,-71.72C387.43,-63.29 379.43,-53.15 372.23,-44.02\"/>\r\n",
       "<polygon fill=\"black\" stroke=\"black\" points=\"374.85,-41.69 365.91,-36 369.36,-46.02 374.85,-41.69\"/>\r\n",
       "</g>\r\n",
       "<!-- 29 -->\r\n",
       "<g id=\"node30\" class=\"node\">\r\n",
       "<title>29</title>\r\n",
       "<polygon fill=\"none\" stroke=\"black\" points=\"508,-36 421,-36 421,0 508,0 508,-36\"/>\r\n",
       "<text text-anchor=\"middle\" x=\"464.5\" y=\"-14.3\" font-family=\"Times New Roman,serif\" font-size=\"14.00\">class = USA</text>\r\n",
       "</g>\r\n",
       "<!-- 27&#45;&gt;29 -->\r\n",
       "<g id=\"edge29\" class=\"edge\">\r\n",
       "<title>27&#45;&gt;29</title>\r\n",
       "<path fill=\"none\" stroke=\"black\" d=\"M422.92,-71.72C429.57,-63.29 437.57,-53.15 444.77,-44.02\"/>\r\n",
       "<polygon fill=\"black\" stroke=\"black\" points=\"447.64,-46.02 451.09,-36 442.15,-41.69 447.64,-46.02\"/>\r\n",
       "</g>\r\n",
       "<!-- 32 -->\r\n",
       "<g id=\"node33\" class=\"node\">\r\n",
       "<title>32</title>\r\n",
       "<polygon fill=\"none\" stroke=\"black\" points=\"624,-257 537,-257 537,-221 624,-221 624,-257\"/>\r\n",
       "<text text-anchor=\"middle\" x=\"580.5\" y=\"-235.3\" font-family=\"Times New Roman,serif\" font-size=\"14.00\">class = USA</text>\r\n",
       "</g>\r\n",
       "<!-- 31&#45;&gt;32 -->\r\n",
       "<g id=\"edge32\" class=\"edge\">\r\n",
       "<title>31&#45;&gt;32</title>\r\n",
       "<path fill=\"none\" stroke=\"black\" d=\"M598.44,-293.83C595.74,-285.72 592.5,-275.99 589.52,-267.05\"/>\r\n",
       "<polygon fill=\"black\" stroke=\"black\" points=\"592.79,-265.8 586.31,-257.42 586.15,-268.01 592.79,-265.8\"/>\r\n",
       "</g>\r\n",
       "<!-- 33 -->\r\n",
       "<g id=\"node34\" class=\"node\">\r\n",
       "<title>33</title>\r\n",
       "<polygon fill=\"none\" stroke=\"black\" points=\"777,-258 642,-258 642,-220 777,-220 777,-258\"/>\r\n",
       "<text text-anchor=\"middle\" x=\"709.5\" y=\"-242.8\" font-family=\"Times New Roman,serif\" font-size=\"14.00\">longitude &lt;= &#45;84.392</text>\r\n",
       "<text text-anchor=\"middle\" x=\"709.5\" y=\"-227.8\" font-family=\"Times New Roman,serif\" font-size=\"14.00\">class = Canada</text>\r\n",
       "</g>\r\n",
       "<!-- 31&#45;&gt;33 -->\r\n",
       "<g id=\"edge33\" class=\"edge\">\r\n",
       "<title>31&#45;&gt;33</title>\r\n",
       "<path fill=\"none\" stroke=\"black\" d=\"M631,-293.83C644.18,-284.79 660.28,-273.75 674.47,-264.02\"/>\r\n",
       "<polygon fill=\"black\" stroke=\"black\" points=\"676.74,-266.7 683.01,-258.16 672.79,-260.93 676.74,-266.7\"/>\r\n",
       "</g>\r\n",
       "<!-- 34 -->\r\n",
       "<g id=\"node35\" class=\"node\">\r\n",
       "<title>34</title>\r\n",
       "<polygon fill=\"none\" stroke=\"black\" points=\"646,-183 559,-183 559,-147 646,-147 646,-183\"/>\r\n",
       "<text text-anchor=\"middle\" x=\"602.5\" y=\"-161.3\" font-family=\"Times New Roman,serif\" font-size=\"14.00\">class = USA</text>\r\n",
       "</g>\r\n",
       "<!-- 33&#45;&gt;34 -->\r\n",
       "<g id=\"edge34\" class=\"edge\">\r\n",
       "<title>33&#45;&gt;34</title>\r\n",
       "<path fill=\"none\" stroke=\"black\" d=\"M682.5,-219.83C668.53,-210.43 651.33,-198.86 636.46,-188.85\"/>\r\n",
       "<polygon fill=\"black\" stroke=\"black\" points=\"638.27,-185.85 628.02,-183.17 634.36,-191.66 638.27,-185.85\"/>\r\n",
       "</g>\r\n",
       "<!-- 35 -->\r\n",
       "<g id=\"node36\" class=\"node\">\r\n",
       "<title>35</title>\r\n",
       "<polygon fill=\"none\" stroke=\"black\" points=\"765,-183 664,-183 664,-147 765,-147 765,-183\"/>\r\n",
       "<text text-anchor=\"middle\" x=\"714.5\" y=\"-161.3\" font-family=\"Times New Roman,serif\" font-size=\"14.00\">class = Canada</text>\r\n",
       "</g>\r\n",
       "<!-- 33&#45;&gt;35 -->\r\n",
       "<g id=\"edge35\" class=\"edge\">\r\n",
       "<title>33&#45;&gt;35</title>\r\n",
       "<path fill=\"none\" stroke=\"black\" d=\"M710.76,-219.83C711.31,-211.89 711.97,-202.41 712.58,-193.63\"/>\r\n",
       "<polygon fill=\"black\" stroke=\"black\" points=\"716.09,-193.64 713.29,-183.42 709.11,-193.15 716.09,-193.64\"/>\r\n",
       "</g>\r\n",
       "<!-- 38 -->\r\n",
       "<g id=\"node39\" class=\"node\">\r\n",
       "<title>38</title>\r\n",
       "<polygon fill=\"none\" stroke=\"black\" points=\"785.5,-480 665.5,-480 665.5,-442 785.5,-442 785.5,-480\"/>\r\n",
       "<text text-anchor=\"middle\" x=\"725.5\" y=\"-464.8\" font-family=\"Times New Roman,serif\" font-size=\"14.00\">latitude &lt;= 45.195</text>\r\n",
       "<text text-anchor=\"middle\" x=\"725.5\" y=\"-449.8\" font-family=\"Times New Roman,serif\" font-size=\"14.00\">class = USA</text>\r\n",
       "</g>\r\n",
       "<!-- 37&#45;&gt;38 -->\r\n",
       "<g id=\"edge38\" class=\"edge\">\r\n",
       "<title>37&#45;&gt;38</title>\r\n",
       "<path fill=\"none\" stroke=\"black\" d=\"M725.5,-515.83C725.5,-508.13 725.5,-498.97 725.5,-490.42\"/>\r\n",
       "<polygon fill=\"black\" stroke=\"black\" points=\"729,-490.41 725.5,-480.41 722,-490.41 729,-490.41\"/>\r\n",
       "</g>\r\n",
       "<!-- 55 -->\r\n",
       "<g id=\"node56\" class=\"node\">\r\n",
       "<title>55</title>\r\n",
       "<polygon fill=\"none\" stroke=\"black\" points=\"905,-479 804,-479 804,-443 905,-443 905,-479\"/>\r\n",
       "<text text-anchor=\"middle\" x=\"854.5\" y=\"-457.3\" font-family=\"Times New Roman,serif\" font-size=\"14.00\">class = Canada</text>\r\n",
       "</g>\r\n",
       "<!-- 37&#45;&gt;55 -->\r\n",
       "<g id=\"edge55\" class=\"edge\">\r\n",
       "<title>37&#45;&gt;55</title>\r\n",
       "<path fill=\"none\" stroke=\"black\" d=\"M758.05,-515.83C775.21,-506.25 796.41,-494.42 814.56,-484.29\"/>\r\n",
       "<polygon fill=\"black\" stroke=\"black\" points=\"816.71,-487.1 823.73,-479.17 813.3,-480.99 816.71,-487.1\"/>\r\n",
       "</g>\r\n",
       "<!-- 39 -->\r\n",
       "<g id=\"node40\" class=\"node\">\r\n",
       "<title>39</title>\r\n",
       "<polygon fill=\"none\" stroke=\"black\" points=\"769,-405 682,-405 682,-369 769,-369 769,-405\"/>\r\n",
       "<text text-anchor=\"middle\" x=\"725.5\" y=\"-383.3\" font-family=\"Times New Roman,serif\" font-size=\"14.00\">class = USA</text>\r\n",
       "</g>\r\n",
       "<!-- 38&#45;&gt;39 -->\r\n",
       "<g id=\"edge39\" class=\"edge\">\r\n",
       "<title>38&#45;&gt;39</title>\r\n",
       "<path fill=\"none\" stroke=\"black\" d=\"M725.5,-441.83C725.5,-433.89 725.5,-424.41 725.5,-415.63\"/>\r\n",
       "<polygon fill=\"black\" stroke=\"black\" points=\"729,-415.42 725.5,-405.42 722,-415.42 729,-415.42\"/>\r\n",
       "</g>\r\n",
       "<!-- 40 -->\r\n",
       "<g id=\"node41\" class=\"node\">\r\n",
       "<title>40</title>\r\n",
       "<polygon fill=\"none\" stroke=\"black\" points=\"982.5,-406 854.5,-406 854.5,-368 982.5,-368 982.5,-406\"/>\r\n",
       "<text text-anchor=\"middle\" x=\"918.5\" y=\"-390.8\" font-family=\"Times New Roman,serif\" font-size=\"14.00\">longitude &lt;= &#45;67.93</text>\r\n",
       "<text text-anchor=\"middle\" x=\"918.5\" y=\"-375.8\" font-family=\"Times New Roman,serif\" font-size=\"14.00\">class = Canada</text>\r\n",
       "</g>\r\n",
       "<!-- 38&#45;&gt;40 -->\r\n",
       "<g id=\"edge40\" class=\"edge\">\r\n",
       "<title>38&#45;&gt;40</title>\r\n",
       "<path fill=\"none\" stroke=\"black\" d=\"M774.2,-441.83C800.47,-432.03 833.07,-419.87 860.63,-409.59\"/>\r\n",
       "<polygon fill=\"black\" stroke=\"black\" points=\"862,-412.81 870.15,-406.04 859.56,-406.25 862,-412.81\"/>\r\n",
       "</g>\r\n",
       "<!-- 41 -->\r\n",
       "<g id=\"node42\" class=\"node\">\r\n",
       "<title>41</title>\r\n",
       "<polygon fill=\"none\" stroke=\"black\" points=\"986,-332 851,-332 851,-294 986,-294 986,-332\"/>\r\n",
       "<text text-anchor=\"middle\" x=\"918.5\" y=\"-316.8\" font-family=\"Times New Roman,serif\" font-size=\"14.00\">longitude &lt;= &#45;68.325</text>\r\n",
       "<text text-anchor=\"middle\" x=\"918.5\" y=\"-301.8\" font-family=\"Times New Roman,serif\" font-size=\"14.00\">class = USA</text>\r\n",
       "</g>\r\n",
       "<!-- 40&#45;&gt;41 -->\r\n",
       "<g id=\"edge41\" class=\"edge\">\r\n",
       "<title>40&#45;&gt;41</title>\r\n",
       "<path fill=\"none\" stroke=\"black\" d=\"M918.5,-367.83C918.5,-360.13 918.5,-350.97 918.5,-342.42\"/>\r\n",
       "<polygon fill=\"black\" stroke=\"black\" points=\"922,-342.41 918.5,-332.41 915,-342.41 922,-342.41\"/>\r\n",
       "</g>\r\n",
       "<!-- 50 -->\r\n",
       "<g id=\"node51\" class=\"node\">\r\n",
       "<title>50</title>\r\n",
       "<polygon fill=\"none\" stroke=\"black\" points=\"1180.5,-332 1060.5,-332 1060.5,-294 1180.5,-294 1180.5,-332\"/>\r\n",
       "<text text-anchor=\"middle\" x=\"1120.5\" y=\"-316.8\" font-family=\"Times New Roman,serif\" font-size=\"14.00\">latitude &lt;= 45.565</text>\r\n",
       "<text text-anchor=\"middle\" x=\"1120.5\" y=\"-301.8\" font-family=\"Times New Roman,serif\" font-size=\"14.00\">class = Canada</text>\r\n",
       "</g>\r\n",
       "<!-- 40&#45;&gt;50 -->\r\n",
       "<g id=\"edge50\" class=\"edge\">\r\n",
       "<title>40&#45;&gt;50</title>\r\n",
       "<path fill=\"none\" stroke=\"black\" d=\"M969.21,-367.92C996.83,-358.08 1031.18,-345.84 1060.16,-335.51\"/>\r\n",
       "<polygon fill=\"black\" stroke=\"black\" points=\"1061.52,-338.74 1069.77,-332.08 1059.17,-332.14 1061.52,-338.74\"/>\r\n",
       "</g>\r\n",
       "<!-- 42 -->\r\n",
       "<g id=\"node43\" class=\"node\">\r\n",
       "<title>42</title>\r\n",
       "<polygon fill=\"none\" stroke=\"black\" points=\"930,-258 795,-258 795,-220 930,-220 930,-258\"/>\r\n",
       "<text text-anchor=\"middle\" x=\"862.5\" y=\"-242.8\" font-family=\"Times New Roman,serif\" font-size=\"14.00\">longitude &lt;= &#45;68.915</text>\r\n",
       "<text text-anchor=\"middle\" x=\"862.5\" y=\"-227.8\" font-family=\"Times New Roman,serif\" font-size=\"14.00\">class = Canada</text>\r\n",
       "</g>\r\n",
       "<!-- 41&#45;&gt;42 -->\r\n",
       "<g id=\"edge42\" class=\"edge\">\r\n",
       "<title>41&#45;&gt;42</title>\r\n",
       "<path fill=\"none\" stroke=\"black\" d=\"M904.37,-293.83C897.92,-285.54 890.16,-275.56 883.07,-266.45\"/>\r\n",
       "<polygon fill=\"black\" stroke=\"black\" points=\"885.72,-264.16 876.82,-258.41 880.2,-268.46 885.72,-264.16\"/>\r\n",
       "</g>\r\n",
       "<!-- 49 -->\r\n",
       "<g id=\"node50\" class=\"node\">\r\n",
       "<title>49</title>\r\n",
       "<polygon fill=\"none\" stroke=\"black\" points=\"1035,-257 948,-257 948,-221 1035,-221 1035,-257\"/>\r\n",
       "<text text-anchor=\"middle\" x=\"991.5\" y=\"-235.3\" font-family=\"Times New Roman,serif\" font-size=\"14.00\">class = USA</text>\r\n",
       "</g>\r\n",
       "<!-- 41&#45;&gt;49 -->\r\n",
       "<g id=\"edge49\" class=\"edge\">\r\n",
       "<title>41&#45;&gt;49</title>\r\n",
       "<path fill=\"none\" stroke=\"black\" d=\"M936.92,-293.83C946.01,-284.87 957.1,-273.93 966.9,-264.26\"/>\r\n",
       "<polygon fill=\"black\" stroke=\"black\" points=\"969.43,-266.69 974.09,-257.17 964.51,-261.7 969.43,-266.69\"/>\r\n",
       "</g>\r\n",
       "<!-- 43 -->\r\n",
       "<g id=\"node44\" class=\"node\">\r\n",
       "<title>43</title>\r\n",
       "<polygon fill=\"none\" stroke=\"black\" points=\"890,-183 803,-183 803,-147 890,-147 890,-183\"/>\r\n",
       "<text text-anchor=\"middle\" x=\"846.5\" y=\"-161.3\" font-family=\"Times New Roman,serif\" font-size=\"14.00\">class = USA</text>\r\n",
       "</g>\r\n",
       "<!-- 42&#45;&gt;43 -->\r\n",
       "<g id=\"edge43\" class=\"edge\">\r\n",
       "<title>42&#45;&gt;43</title>\r\n",
       "<path fill=\"none\" stroke=\"black\" d=\"M858.46,-219.83C856.68,-211.81 854.54,-202.2 852.58,-193.34\"/>\r\n",
       "<polygon fill=\"black\" stroke=\"black\" points=\"855.96,-192.42 850.37,-183.42 849.12,-193.94 855.96,-192.42\"/>\r\n",
       "</g>\r\n",
       "<!-- 44 -->\r\n",
       "<g id=\"node45\" class=\"node\">\r\n",
       "<title>44</title>\r\n",
       "<polygon fill=\"none\" stroke=\"black\" points=\"1043,-184 908,-184 908,-146 1043,-146 1043,-184\"/>\r\n",
       "<text text-anchor=\"middle\" x=\"975.5\" y=\"-168.8\" font-family=\"Times New Roman,serif\" font-size=\"14.00\">longitude &lt;= &#45;68.597</text>\r\n",
       "<text text-anchor=\"middle\" x=\"975.5\" y=\"-153.8\" font-family=\"Times New Roman,serif\" font-size=\"14.00\">class = Canada</text>\r\n",
       "</g>\r\n",
       "<!-- 42&#45;&gt;44 -->\r\n",
       "<g id=\"edge44\" class=\"edge\">\r\n",
       "<title>42&#45;&gt;44</title>\r\n",
       "<path fill=\"none\" stroke=\"black\" d=\"M891.01,-219.83C905.33,-210.71 922.86,-199.54 938.23,-189.74\"/>\r\n",
       "<polygon fill=\"black\" stroke=\"black\" points=\"940.44,-192.49 946.99,-184.16 936.68,-186.58 940.44,-192.49\"/>\r\n",
       "</g>\r\n",
       "<!-- 45 -->\r\n",
       "<g id=\"node46\" class=\"node\">\r\n",
       "<title>45</title>\r\n",
       "<polygon fill=\"none\" stroke=\"black\" points=\"961,-109 860,-109 860,-73 961,-73 961,-109\"/>\r\n",
       "<text text-anchor=\"middle\" x=\"910.5\" y=\"-87.3\" font-family=\"Times New Roman,serif\" font-size=\"14.00\">class = Canada</text>\r\n",
       "</g>\r\n",
       "<!-- 44&#45;&gt;45 -->\r\n",
       "<g id=\"edge45\" class=\"edge\">\r\n",
       "<title>44&#45;&gt;45</title>\r\n",
       "<path fill=\"none\" stroke=\"black\" d=\"M959.1,-145.83C951.22,-137.11 941.66,-126.52 933.11,-117.05\"/>\r\n",
       "<polygon fill=\"black\" stroke=\"black\" points=\"935.52,-114.5 926.22,-109.42 930.33,-119.19 935.52,-114.5\"/>\r\n",
       "</g>\r\n",
       "<!-- 46 -->\r\n",
       "<g id=\"node47\" class=\"node\">\r\n",
       "<title>46</title>\r\n",
       "<polygon fill=\"none\" stroke=\"black\" points=\"1099.5,-110 979.5,-110 979.5,-72 1099.5,-72 1099.5,-110\"/>\r\n",
       "<text text-anchor=\"middle\" x=\"1039.5\" y=\"-94.8\" font-family=\"Times New Roman,serif\" font-size=\"14.00\">latitude &lt;= 47.312</text>\r\n",
       "<text text-anchor=\"middle\" x=\"1039.5\" y=\"-79.8\" font-family=\"Times New Roman,serif\" font-size=\"14.00\">class = Canada</text>\r\n",
       "</g>\r\n",
       "<!-- 44&#45;&gt;46 -->\r\n",
       "<g id=\"edge46\" class=\"edge\">\r\n",
       "<title>44&#45;&gt;46</title>\r\n",
       "<path fill=\"none\" stroke=\"black\" d=\"M991.65,-145.83C999.17,-137.37 1008.26,-127.15 1016.48,-117.9\"/>\r\n",
       "<polygon fill=\"black\" stroke=\"black\" points=\"1019.1,-120.21 1023.13,-110.41 1013.87,-115.56 1019.1,-120.21\"/>\r\n",
       "</g>\r\n",
       "<!-- 47 -->\r\n",
       "<g id=\"node48\" class=\"node\">\r\n",
       "<title>47</title>\r\n",
       "<polygon fill=\"none\" stroke=\"black\" points=\"1027,-36 940,-36 940,0 1027,0 1027,-36\"/>\r\n",
       "<text text-anchor=\"middle\" x=\"983.5\" y=\"-14.3\" font-family=\"Times New Roman,serif\" font-size=\"14.00\">class = USA</text>\r\n",
       "</g>\r\n",
       "<!-- 46&#45;&gt;47 -->\r\n",
       "<g id=\"edge47\" class=\"edge\">\r\n",
       "<title>46&#45;&gt;47</title>\r\n",
       "<path fill=\"none\" stroke=\"black\" d=\"M1025.08,-71.72C1018.43,-63.29 1010.43,-53.15 1003.23,-44.02\"/>\r\n",
       "<polygon fill=\"black\" stroke=\"black\" points=\"1005.85,-41.69 996.91,-36 1000.36,-46.02 1005.85,-41.69\"/>\r\n",
       "</g>\r\n",
       "<!-- 48 -->\r\n",
       "<g id=\"node49\" class=\"node\">\r\n",
       "<title>48</title>\r\n",
       "<polygon fill=\"none\" stroke=\"black\" points=\"1146,-36 1045,-36 1045,0 1146,0 1146,-36\"/>\r\n",
       "<text text-anchor=\"middle\" x=\"1095.5\" y=\"-14.3\" font-family=\"Times New Roman,serif\" font-size=\"14.00\">class = Canada</text>\r\n",
       "</g>\r\n",
       "<!-- 46&#45;&gt;48 -->\r\n",
       "<g id=\"edge48\" class=\"edge\">\r\n",
       "<title>46&#45;&gt;48</title>\r\n",
       "<path fill=\"none\" stroke=\"black\" d=\"M1053.92,-71.72C1060.57,-63.29 1068.57,-53.15 1075.77,-44.02\"/>\r\n",
       "<polygon fill=\"black\" stroke=\"black\" points=\"1078.64,-46.02 1082.09,-36 1073.15,-41.69 1078.64,-46.02\"/>\r\n",
       "</g>\r\n",
       "<!-- 51 -->\r\n",
       "<g id=\"node52\" class=\"node\">\r\n",
       "<title>51</title>\r\n",
       "<polygon fill=\"none\" stroke=\"black\" points=\"1188,-258 1053,-258 1053,-220 1188,-220 1188,-258\"/>\r\n",
       "<text text-anchor=\"middle\" x=\"1120.5\" y=\"-242.8\" font-family=\"Times New Roman,serif\" font-size=\"14.00\">longitude &lt;= &#45;67.355</text>\r\n",
       "<text text-anchor=\"middle\" x=\"1120.5\" y=\"-227.8\" font-family=\"Times New Roman,serif\" font-size=\"14.00\">class = Canada</text>\r\n",
       "</g>\r\n",
       "<!-- 50&#45;&gt;51 -->\r\n",
       "<g id=\"edge51\" class=\"edge\">\r\n",
       "<title>50&#45;&gt;51</title>\r\n",
       "<path fill=\"none\" stroke=\"black\" d=\"M1120.5,-293.83C1120.5,-286.13 1120.5,-276.97 1120.5,-268.42\"/>\r\n",
       "<polygon fill=\"black\" stroke=\"black\" points=\"1124,-268.41 1120.5,-258.41 1117,-268.41 1124,-268.41\"/>\r\n",
       "</g>\r\n",
       "<!-- 54 -->\r\n",
       "<g id=\"node55\" class=\"node\">\r\n",
       "<title>54</title>\r\n",
       "<polygon fill=\"none\" stroke=\"black\" points=\"1307,-257 1206,-257 1206,-221 1307,-221 1307,-257\"/>\r\n",
       "<text text-anchor=\"middle\" x=\"1256.5\" y=\"-235.3\" font-family=\"Times New Roman,serif\" font-size=\"14.00\">class = Canada</text>\r\n",
       "</g>\r\n",
       "<!-- 50&#45;&gt;54 -->\r\n",
       "<g id=\"edge54\" class=\"edge\">\r\n",
       "<title>50&#45;&gt;54</title>\r\n",
       "<path fill=\"none\" stroke=\"black\" d=\"M1154.82,-293.83C1173.16,-284.12 1195.87,-272.1 1215.18,-261.88\"/>\r\n",
       "<polygon fill=\"black\" stroke=\"black\" points=\"1216.86,-264.94 1224.07,-257.17 1213.59,-258.76 1216.86,-264.94\"/>\r\n",
       "</g>\r\n",
       "<!-- 52 -->\r\n",
       "<g id=\"node53\" class=\"node\">\r\n",
       "<title>52</title>\r\n",
       "<polygon fill=\"none\" stroke=\"black\" points=\"1158,-183 1071,-183 1071,-147 1158,-147 1158,-183\"/>\r\n",
       "<text text-anchor=\"middle\" x=\"1114.5\" y=\"-161.3\" font-family=\"Times New Roman,serif\" font-size=\"14.00\">class = USA</text>\r\n",
       "</g>\r\n",
       "<!-- 51&#45;&gt;52 -->\r\n",
       "<g id=\"edge52\" class=\"edge\">\r\n",
       "<title>51&#45;&gt;52</title>\r\n",
       "<path fill=\"none\" stroke=\"black\" d=\"M1118.99,-219.83C1118.32,-211.89 1117.53,-202.41 1116.8,-193.63\"/>\r\n",
       "<polygon fill=\"black\" stroke=\"black\" points=\"1120.27,-193.09 1115.95,-183.42 1113.29,-193.67 1120.27,-193.09\"/>\r\n",
       "</g>\r\n",
       "<!-- 53 -->\r\n",
       "<g id=\"node54\" class=\"node\">\r\n",
       "<title>53</title>\r\n",
       "<polygon fill=\"none\" stroke=\"black\" points=\"1277,-183 1176,-183 1176,-147 1277,-147 1277,-183\"/>\r\n",
       "<text text-anchor=\"middle\" x=\"1226.5\" y=\"-161.3\" font-family=\"Times New Roman,serif\" font-size=\"14.00\">class = Canada</text>\r\n",
       "</g>\r\n",
       "<!-- 51&#45;&gt;53 -->\r\n",
       "<g id=\"edge53\" class=\"edge\">\r\n",
       "<title>51&#45;&gt;53</title>\r\n",
       "<path fill=\"none\" stroke=\"black\" d=\"M1147.25,-219.83C1161.09,-210.43 1178.13,-198.86 1192.86,-188.85\"/>\r\n",
       "<polygon fill=\"black\" stroke=\"black\" points=\"1194.91,-191.69 1201.22,-183.17 1190.98,-185.9 1194.91,-191.69\"/>\r\n",
       "</g>\r\n",
       "</g>\r\n",
       "</svg>\r\n"
      ],
      "text/plain": [
       "<graphviz.files.Source at 0x2b86ce2b790>"
      ]
     },
     "execution_count": 18,
     "metadata": {},
     "output_type": "execute_result"
    }
   ],
   "source": [
    "model = DecisionTreeClassifier()\n",
    "model.fit(X_train, y_train)\n",
    "display_tree(X_train.columns, model)"
   ]
  },
  {
   "cell_type": "markdown",
   "metadata": {
    "slideshow": {
     "slide_type": "slide"
    }
   },
   "source": [
    "Let's examine the train and test accuracies with the split now."
   ]
  },
  {
   "cell_type": "code",
   "execution_count": 19,
   "metadata": {
    "slideshow": {
     "slide_type": "-"
    }
   },
   "outputs": [
    {
     "name": "stdout",
     "output_type": "stream",
     "text": [
      "Train accuracy:   1.000\n",
      "Test accuracy:   0.738\n"
     ]
    }
   ],
   "source": [
    "print(\"Train accuracy:   %0.3f\" % model.score(X_train, y_train))\n",
    "print(\"Test accuracy:   %0.3f\" % model.score(X_test, y_test))"
   ]
  },
  {
   "cell_type": "code",
   "execution_count": 20,
   "metadata": {},
   "outputs": [
    {
     "data": {
      "image/png": "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\n",
      "text/plain": [
       "<Figure size 1152x432 with 2 Axes>"
      ]
     },
     "metadata": {},
     "output_type": "display_data"
    }
   ],
   "source": [
    "plot_tree_decision_boundary_and_tree(model, X, y, height=6, width=16, eps=10)"
   ]
  },
  {
   "cell_type": "code",
   "execution_count": 21,
   "metadata": {
    "slideshow": {
     "slide_type": "slide"
    }
   },
   "outputs": [
    {
     "data": {
      "image/png": "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\n",
      "text/plain": [
       "<Figure size 1152x432 with 2 Axes>"
      ]
     },
     "metadata": {},
     "output_type": "display_data"
    }
   ],
   "source": [
    "fig, ax = plt.subplots(1, 2, figsize=(16, 6), subplot_kw={\"xticks\": (), \"yticks\": ()})\n",
    "plot_tree_decision_boundary(\n",
    "    model,\n",
    "    X_train,\n",
    "    y_train,\n",
    "    eps=10,\n",
    "    x_label=\"longitude\",\n",
    "    y_label=\"latitude\",\n",
    "    ax=ax[0],\n",
    "    title=\"Decision tree model on the train data\",\n",
    ")\n",
    "plot_tree_decision_boundary(\n",
    "    model,\n",
    "    X_test,\n",
    "    y_test,\n",
    "    eps=10,\n",
    "    x_label=\"longitude\",\n",
    "    y_label=\"latitude\",\n",
    "    ax=ax[1],\n",
    "    title=\"Decision tree model on the test data\",\n",
    ")"
   ]
  },
  {
   "cell_type": "markdown",
   "metadata": {
    "slideshow": {
     "slide_type": "slide"
    }
   },
   "source": [
    "- Useful arguments of `train_test_split`: \n",
    "    - `test_size`\n",
    "    - `train_size` \n",
    "    - `random_state`"
   ]
  },
  {
   "cell_type": "markdown",
   "metadata": {
    "slideshow": {
     "slide_type": "slide"
    }
   },
   "source": [
    "#### `test_size`, `train_size` arguments\n",
    "\n",
    "- Let's us specify how we want to split the data. \n",
    "- We can specify either of the two. See the documentation [here](https://scikit-learn.org/stable/modules/generated/sklearn.model_selection.train_test_split.html).\n",
    "- There is no hard and fast rule on what split sizes should we use. \n",
    "    - It depends upon how much data is available to you. \n",
    "- Some common splits are 90/10, 80/20, 70/30 (training/test).\n",
    "- In the above example, we used 80/20 split. "
   ]
  },
  {
   "cell_type": "markdown",
   "metadata": {
    "slideshow": {
     "slide_type": "slide"
    }
   },
   "source": [
    "#### `random_state` argument\n",
    "\n",
    "- The data is shuffled before splitting which is crucial step. (You will explore this in the lab.) \n",
    "- The `random_state` argument controls this shuffling. \n",
    "- In the example above we used `random_state=123`. If you run this notebook with the same `random_state` it should give you exactly the same split. \n",
    "    - Useful when you want reproducible results. "
   ]
  },
  {
   "cell_type": "markdown",
   "metadata": {
    "slideshow": {
     "slide_type": "slide"
    }
   },
   "source": [
    "### Train/validation/test split\n",
    "\n",
    "- Some of you may have heard of \"validation\" data.\n",
    "- Sometimes it's a good idea to have a separate data for hyperparameter tuning. \n",
    "\n",
    "![](img/train-valid-test-split.png)\n",
    "\n",
    "<!-- <img src='img/train-valid-test-split.png' width=\"1500\" height=\"1500\" /> -->"
   ]
  },
  {
   "cell_type": "markdown",
   "metadata": {
    "slideshow": {
     "slide_type": "slide"
    }
   },
   "source": [
    "- We will try to use \"validation\" to refer to data where we have access to the target values.\n",
    "  - But, unlike the training data, we only use this for hyperparameter tuning and model assessment; we don't pass these into `fit`.  \n",
    "- We will try to use \"test\" to refer to data where we have access to the target values \n",
    "  - But, unlike training and validation data, we neither use it in training nor hyperparameter optimization. \n",
    "  - We only use it **once** to evaluate the performance of the best performing model on the validation set.   \n",
    "  - We lock it in a \"vault\" until we're ready to evaluate. \n",
    "\n",
    "Note that there isn't good concensus on the terminology of what is validation and what is test. "
   ]
  },
  {
   "cell_type": "markdown",
   "metadata": {
    "slideshow": {
     "slide_type": "skip"
    }
   },
   "source": [
    "```{admonition} Note \n",
    ":class: note\n",
    "Validation data is also referred to as **development data** or **dev set** for short.  \n",
    "```"
   ]
  },
  {
   "cell_type": "markdown",
   "metadata": {
    "slideshow": {
     "slide_type": "slide"
    }
   },
   "source": [
    "### \"Deployment\" data\n",
    "\n",
    "- After we build and finalize a model, we deploy it, and then the model deals with the data in the wild. \n",
    "- We will use \"deployment\" to refer to this data, where we do **not** have access to the target values.\n",
    "- Deployment error is what we _really_ care about.\n",
    "- We use validation and test errors as proxies for deployment error, and we hope they are similar.\n",
    "- So, if our model does well on the validation and test data, we hope it will do well on deployment data."
   ]
  },
  {
   "cell_type": "markdown",
   "metadata": {
    "slideshow": {
     "slide_type": "slide"
    }
   },
   "source": [
    "### Summary of train, validation, test, and deployment data\n",
    "\n",
    "|         | `fit` | `score` | `predict` |\n",
    "|----------|-------|---------|-----------|\n",
    "| Train    | ✔️      | ✔️      | ✔️         |\n",
    "| Validation |      | ✔️      | ✔️         |\n",
    "| Test    |       |  once   | once         |\n",
    "| Deployment    |       |       | ✔️         |\n",
    "\n",
    "You can typically expect $E_{train} < E_{validation} < E_{test} < E_{deployment}$."
   ]
  },
  {
   "cell_type": "markdown",
   "metadata": {
    "slideshow": {
     "slide_type": "slide"
    }
   },
   "source": [
    "### ❓❓ Questions on generalization and data splitting"
   ]
  },
  {
   "cell_type": "markdown",
   "metadata": {
    "slideshow": {
     "slide_type": "slide"
    },
    "tags": []
   },
   "source": [
<<<<<<< HEAD
    "### True or False \n",
    "\n",
    "- A decision tree model with no depth is likely to perform very well on the deployment data. \n",
    "FALSE\n",
    "- The primary motivation for data splitting is to help us generalize our model better. \n",
    "FALSE -> WILL NOT DIRECTLY IMPROVE GENERALIZATION -> ONLY INCREASE ASSESSMENT\n",
    "- Deployment data is used at the very end and only scored once. \n",
    "FALSE\n",
    "- Validation data could be used for hyperparameter optimization.\n",
    "TRUE"
=======
    "```{admonition} Exercise 3.1: True or False\n",
    "1. A decision tree model with no depth is likely to perform very well on the deployment data. \n",
    "2. Data splitting helps us generalize our model better. \n",
    "3. Deployment data is used at the very end and only scored once.  \n",
    "4. Validation data could be used for hyperparameter optimization. \n",
    "```    "
   ]
  },
  {
   "cell_type": "markdown",
   "metadata": {
    "slideshow": {
     "slide_type": "skip"
    },
    "tags": []
   },
   "source": [
    "```{admonition} Exercise 3.1: V's Solutions!\n",
    ":class: tip, dropdown\n",
    "1. False\n",
    "2. False. Data splitting helps us **assess** how well our model would generalize. \n",
    "3. False. You cannot score on the deployment data as there are no labels available.\n",
    "4. True\n",
    "```"
>>>>>>> 1cf947319b6e18cad0e9a377919a9c15ae45cc0a
   ]
  },
  {
   "cell_type": "markdown",
   "metadata": {
    "slideshow": {
     "slide_type": "slide"
    },
    "tags": []
   },
   "source": [
    "```{admonition} Exercise 3.2: Questions for discussion\n",
    "1. Why you can typically expect $E_{train} < E_{validation} < E_{test} < E_{deployment}$. (From Piazza.)\n",
    "2. Discuss the consequences of not shuffling before splitting the data in `train_test_split`. \n",
    "```    "
   ]
  },
  {
   "cell_type": "markdown",
   "metadata": {
    "slideshow": {
     "slide_type": "skip"
    }
   },
   "source": [
    "<br><br><br><br>"
   ]
  },
  {
   "cell_type": "markdown",
   "metadata": {
    "slideshow": {
     "slide_type": "slide"
    }
   },
   "source": [
    "## Cross-validation [[video](https://youtu.be/4cv8VYonepA)]"
   ]
  },
  {
   "cell_type": "markdown",
   "metadata": {
    "slideshow": {
     "slide_type": "slide"
    }
   },
   "source": [
    "### Problems with single train/validation split\n",
    "\n",
    "- Only using a portion of your data for training and only a portion for validation.\n",
    "- If your dataset is small you might end up with a tiny training and/or validation set.\n",
    "- You might be unlucky with your splits such that they don't align well or don't well represent your test data.\n",
    "\n",
    "![](img/train-valid-test-split.png)\n",
    "\n",
    "<!-- <img src='img/train-valid-test-split.png' width=\"1500\" height=\"1500\" /> -->"
   ]
  },
  {
   "cell_type": "markdown",
   "metadata": {
    "slideshow": {
     "slide_type": "slide"
    }
   },
   "source": [
    "### Cross-validation to the rescue!! \n",
    "\n",
    "- Cross-validation provides a solution to this problem. \n",
    "- Split the data into $k$ folds ($k>2$, often $k=10$). In the picture below $k=4$.\n",
    "- Each \"fold\" gets a turn at being the validation set.\n",
    "- Note that cross-validation doesn't shuffle the data; it's done in `train_test_split`.\n",
    "\n",
    "![](img/cross-validation.png)\n",
    "<!-- <img src='img/cross-validation.png' width=\"1500\"> -->"
   ]
  },
  {
   "cell_type": "markdown",
   "metadata": {
    "slideshow": {
     "slide_type": "slide"
    }
   },
   "source": [
    "- Each fold gives a score and we usually average our $k$ results. \n",
    "- It's better to examine the variation in the scores across folds.  \n",
    "- Gives a more **robust** measure of error on unseen data."
   ]
  },
  {
   "cell_type": "markdown",
   "metadata": {
    "slideshow": {
     "slide_type": "slide"
    }
   },
   "source": [
    "### Cross-validation using `scikit-learn`"
   ]
  },
  {
   "cell_type": "code",
   "execution_count": 22,
   "metadata": {},
   "outputs": [],
   "source": [
    "from sklearn.model_selection import cross_val_score, cross_validate"
   ]
  },
  {
   "cell_type": "markdown",
   "metadata": {},
   "source": [
    "#### `cross_val_score`"
   ]
  },
  {
   "cell_type": "code",
   "execution_count": 41,
   "metadata": {},
   "outputs": [
    {
     "data": {
      "text/plain": [
       "array([0.8125    , 0.875     , 0.75      , 0.75      , 0.6875    ,\n",
       "       0.8125    , 0.8       , 0.86666667, 0.86666667, 0.8       ])"
      ]
     },
     "execution_count": 41,
     "metadata": {},
     "output_type": "execute_result"
    }
   ],
   "source": [
    "model = DecisionTreeClassifier(max_depth=4)\n",
    "cv_scores = cross_val_score(model, X_train, y_train, cv=10)\n",
    "cv_scores"
   ]
  },
  {
   "cell_type": "code",
   "execution_count": 42,
   "metadata": {},
   "outputs": [
    {
     "name": "stdout",
     "output_type": "stream",
     "text": [
      "Average cross-validation score = 0.80\n",
      "Standard deviation of cross-validation score = 0.06\n"
     ]
    }
   ],
   "source": [
    "print(f\"Average cross-validation score = {np.mean(cv_scores):.2f}\")\n",
    "print(f\"Standard deviation of cross-validation score = {np.std(cv_scores):.2f}\")"
   ]
  },
  {
   "cell_type": "markdown",
   "metadata": {
    "slideshow": {
     "slide_type": "slide"
    }
   },
   "source": [
    "Under the hood\n",
    "\n",
    "- It creates `cv` folds on the data.\n",
    "- In each fold, it fits the model on the training portion and scores on the validation portion. \n",
    "- The output is a list of validation scores in each fold."
   ]
  },
  {
   "cell_type": "markdown",
   "metadata": {
    "slideshow": {
     "slide_type": "slide"
    }
   },
   "source": [
    "#### `cross_validate`\n",
    "\n",
    "- Similar to `cross_val_score` but more powerful.\n",
    "- Let's us access training and validation scores.  "
   ]
  },
  {
   "cell_type": "code",
   "execution_count": 43,
   "metadata": {},
   "outputs": [
    {
     "data": {
      "text/html": [
       "<div>\n",
       "<style scoped>\n",
       "    .dataframe tbody tr th:only-of-type {\n",
       "        vertical-align: middle;\n",
       "    }\n",
       "\n",
       "    .dataframe tbody tr th {\n",
       "        vertical-align: top;\n",
       "    }\n",
       "\n",
       "    .dataframe thead th {\n",
       "        text-align: right;\n",
       "    }\n",
       "</style>\n",
       "<table border=\"1\" class=\"dataframe\">\n",
       "  <thead>\n",
       "    <tr style=\"text-align: right;\">\n",
       "      <th></th>\n",
       "      <th>fit_time</th>\n",
       "      <th>score_time</th>\n",
       "      <th>test_score</th>\n",
       "      <th>train_score</th>\n",
       "    </tr>\n",
       "  </thead>\n",
       "  <tbody>\n",
       "    <tr>\n",
       "      <th>0</th>\n",
       "      <td>0.003989</td>\n",
       "      <td>0.002990</td>\n",
       "      <td>0.812500</td>\n",
       "      <td>0.907143</td>\n",
       "    </tr>\n",
       "    <tr>\n",
       "      <th>1</th>\n",
       "      <td>0.002991</td>\n",
       "      <td>0.001004</td>\n",
       "      <td>0.875000</td>\n",
       "      <td>0.900000</td>\n",
       "    </tr>\n",
       "    <tr>\n",
       "      <th>2</th>\n",
       "      <td>0.002987</td>\n",
       "      <td>0.002992</td>\n",
       "      <td>0.750000</td>\n",
       "      <td>0.892857</td>\n",
       "    </tr>\n",
       "    <tr>\n",
       "      <th>3</th>\n",
       "      <td>0.002991</td>\n",
       "      <td>0.000999</td>\n",
       "      <td>0.750000</td>\n",
       "      <td>0.907143</td>\n",
       "    </tr>\n",
       "    <tr>\n",
       "      <th>4</th>\n",
       "      <td>0.002992</td>\n",
       "      <td>0.001995</td>\n",
       "      <td>0.687500</td>\n",
       "      <td>0.914286</td>\n",
       "    </tr>\n",
       "    <tr>\n",
       "      <th>5</th>\n",
       "      <td>0.002992</td>\n",
       "      <td>0.000997</td>\n",
       "      <td>0.812500</td>\n",
       "      <td>0.907143</td>\n",
       "    </tr>\n",
       "    <tr>\n",
       "      <th>6</th>\n",
       "      <td>0.001995</td>\n",
       "      <td>0.000997</td>\n",
       "      <td>0.800000</td>\n",
       "      <td>0.914894</td>\n",
       "    </tr>\n",
       "    <tr>\n",
       "      <th>7</th>\n",
       "      <td>0.001997</td>\n",
       "      <td>0.000998</td>\n",
       "      <td>0.866667</td>\n",
       "      <td>0.907801</td>\n",
       "    </tr>\n",
       "    <tr>\n",
       "      <th>8</th>\n",
       "      <td>0.001995</td>\n",
       "      <td>0.000997</td>\n",
       "      <td>0.866667</td>\n",
       "      <td>0.907801</td>\n",
       "    </tr>\n",
       "    <tr>\n",
       "      <th>9</th>\n",
       "      <td>0.001994</td>\n",
       "      <td>0.000997</td>\n",
       "      <td>0.800000</td>\n",
       "      <td>0.914894</td>\n",
       "    </tr>\n",
       "  </tbody>\n",
       "</table>\n",
       "</div>"
      ],
      "text/plain": [
       "   fit_time  score_time  test_score  train_score\n",
       "0  0.003989    0.002990    0.812500     0.907143\n",
       "1  0.002991    0.001004    0.875000     0.900000\n",
       "2  0.002987    0.002992    0.750000     0.892857\n",
       "3  0.002991    0.000999    0.750000     0.907143\n",
       "4  0.002992    0.001995    0.687500     0.914286\n",
       "5  0.002992    0.000997    0.812500     0.907143\n",
       "6  0.001995    0.000997    0.800000     0.914894\n",
       "7  0.001997    0.000998    0.866667     0.907801\n",
       "8  0.001995    0.000997    0.866667     0.907801\n",
       "9  0.001994    0.000997    0.800000     0.914894"
      ]
     },
     "execution_count": 43,
     "metadata": {},
     "output_type": "execute_result"
    }
   ],
   "source": [
    "scores = cross_validate(model, X_train, y_train, cv=10, return_train_score=True)\n",
    "pd.DataFrame(scores)"
   ]
  },
  {
   "cell_type": "code",
   "execution_count": 44,
   "metadata": {},
   "outputs": [
    {
     "data": {
      "text/html": [
       "<div>\n",
       "<style scoped>\n",
       "    .dataframe tbody tr th:only-of-type {\n",
       "        vertical-align: middle;\n",
       "    }\n",
       "\n",
       "    .dataframe tbody tr th {\n",
       "        vertical-align: top;\n",
       "    }\n",
       "\n",
       "    .dataframe thead th {\n",
       "        text-align: right;\n",
       "    }\n",
       "</style>\n",
       "<table border=\"1\" class=\"dataframe\">\n",
       "  <thead>\n",
       "    <tr style=\"text-align: right;\">\n",
       "      <th></th>\n",
       "      <th>0</th>\n",
       "    </tr>\n",
       "  </thead>\n",
       "  <tbody>\n",
       "    <tr>\n",
       "      <th>fit_time</th>\n",
       "      <td>0.002692</td>\n",
       "    </tr>\n",
       "    <tr>\n",
       "      <th>score_time</th>\n",
       "      <td>0.001497</td>\n",
       "    </tr>\n",
       "    <tr>\n",
       "      <th>test_score</th>\n",
       "      <td>0.802083</td>\n",
       "    </tr>\n",
       "    <tr>\n",
       "      <th>train_score</th>\n",
       "      <td>0.907396</td>\n",
       "    </tr>\n",
       "  </tbody>\n",
       "</table>\n",
       "</div>"
      ],
      "text/plain": [
       "                    0\n",
       "fit_time     0.002692\n",
       "score_time   0.001497\n",
       "test_score   0.802083\n",
       "train_score  0.907396"
      ]
     },
     "execution_count": 44,
     "metadata": {},
     "output_type": "execute_result"
    }
   ],
   "source": [
    "pd.DataFrame(pd.DataFrame(scores).mean())"
   ]
  },
  {
   "cell_type": "markdown",
   "metadata": {
    "slideshow": {
     "slide_type": "skip"
    }
   },
   "source": [
    "```{important}\n",
    "Keep in mind that cross-validation does not return a model. It is not a way to build a model that can be applied to new data. The purpose of cross-validation is to **evaluate** how well the model will generalize to unseen data. \n",
    "```"
   ]
  },
  {
   "cell_type": "markdown",
   "metadata": {
    "slideshow": {
     "slide_type": "skip"
    }
   },
   "source": [
    "```{seealso}\n",
    "Note that both `cross_val_score` and `cross_validate` functions do not shuffle the data. Check out [`StratifiedKFold`](https://scikit-learn.org/stable/modules/generated/sklearn.model_selection.StratifiedKFold.html#sklearn.model_selection.StratifiedKFold), where proportions of classes is the same in each fold as they are in the whole dataset. By default, `sklearn` uses `StratifiedKFold` when carrying out cross-validation for classification problems. \n",
    "```"
   ]
  },
  {
   "cell_type": "code",
   "execution_count": 27,
   "metadata": {
    "slideshow": {
     "slide_type": "skip"
    }
   },
   "outputs": [
    {
     "data": {
      "image/png": "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\n",
      "text/plain": [
       "<Figure size 864x144 with 1 Axes>"
      ]
     },
     "metadata": {
      "needs_background": "light"
     },
     "output_type": "display_data"
    }
   ],
   "source": [
    "mglearn.plots.plot_cross_validation()"
   ]
  },
  {
   "cell_type": "markdown",
   "metadata": {
    "slideshow": {
     "slide_type": "slide"
    }
   },
   "source": [
    "#### Our typical supervised learning set up is as follows: \n",
    "\n",
    "- We are given training data with features `X` and target `y`\n",
    "- We split the data into train and test portions: `X_train, y_train, X_test, y_test`\n",
    "- We carry out hyperparameter optimization using cross-validation on the train portion: `X_train` and `y_train`. \n",
    "- We assess our best performing model on the test portion: `X_test` and `y_test`.  \n",
    "- What we care about is the **test error**, which tells us how well our model can be generalized.\n",
    "- If this test error is \"reasonable\" we deploy the model which will be used on new unseen examples."
   ]
  },
  {
   "cell_type": "code",
   "execution_count": 28,
   "metadata": {
    "slideshow": {
     "slide_type": "slide"
    }
   },
   "outputs": [
    {
     "data": {
      "text/html": [
       "<div>\n",
       "<style scoped>\n",
       "    .dataframe tbody tr th:only-of-type {\n",
       "        vertical-align: middle;\n",
       "    }\n",
       "\n",
       "    .dataframe tbody tr th {\n",
       "        vertical-align: top;\n",
       "    }\n",
       "\n",
       "    .dataframe thead th {\n",
       "        text-align: right;\n",
       "    }\n",
       "</style>\n",
       "<table border=\"1\" class=\"dataframe\">\n",
       "  <thead>\n",
       "    <tr style=\"text-align: right;\">\n",
       "      <th></th>\n",
       "      <th>fit_time</th>\n",
       "      <th>score_time</th>\n",
       "      <th>test_score</th>\n",
       "      <th>train_score</th>\n",
       "    </tr>\n",
       "  </thead>\n",
       "  <tbody>\n",
       "    <tr>\n",
       "      <th>0</th>\n",
       "      <td>0.002991</td>\n",
       "      <td>0.002991</td>\n",
       "      <td>0.875000</td>\n",
       "      <td>1.000000</td>\n",
       "    </tr>\n",
       "    <tr>\n",
       "      <th>1</th>\n",
       "      <td>0.003989</td>\n",
       "      <td>0.001998</td>\n",
       "      <td>0.875000</td>\n",
       "      <td>0.992857</td>\n",
       "    </tr>\n",
       "    <tr>\n",
       "      <th>2</th>\n",
       "      <td>0.002992</td>\n",
       "      <td>0.001000</td>\n",
       "      <td>0.875000</td>\n",
       "      <td>1.000000</td>\n",
       "    </tr>\n",
       "    <tr>\n",
       "      <th>3</th>\n",
       "      <td>0.001993</td>\n",
       "      <td>0.003992</td>\n",
       "      <td>0.687500</td>\n",
       "      <td>1.000000</td>\n",
       "    </tr>\n",
       "    <tr>\n",
       "      <th>4</th>\n",
       "      <td>0.007978</td>\n",
       "      <td>0.007979</td>\n",
       "      <td>0.812500</td>\n",
       "      <td>1.000000</td>\n",
       "    </tr>\n",
       "    <tr>\n",
       "      <th>5</th>\n",
       "      <td>0.002993</td>\n",
       "      <td>0.001997</td>\n",
       "      <td>0.812500</td>\n",
       "      <td>1.000000</td>\n",
       "    </tr>\n",
       "    <tr>\n",
       "      <th>6</th>\n",
       "      <td>0.003987</td>\n",
       "      <td>0.001995</td>\n",
       "      <td>0.866667</td>\n",
       "      <td>0.985816</td>\n",
       "    </tr>\n",
       "    <tr>\n",
       "      <th>7</th>\n",
       "      <td>0.003994</td>\n",
       "      <td>0.002028</td>\n",
       "      <td>0.600000</td>\n",
       "      <td>1.000000</td>\n",
       "    </tr>\n",
       "    <tr>\n",
       "      <th>8</th>\n",
       "      <td>0.001957</td>\n",
       "      <td>0.005985</td>\n",
       "      <td>0.666667</td>\n",
       "      <td>1.000000</td>\n",
       "    </tr>\n",
       "    <tr>\n",
       "      <th>9</th>\n",
       "      <td>0.001993</td>\n",
       "      <td>0.001995</td>\n",
       "      <td>0.733333</td>\n",
       "      <td>1.000000</td>\n",
       "    </tr>\n",
       "  </tbody>\n",
       "</table>\n",
       "</div>"
      ],
      "text/plain": [
       "   fit_time  score_time  test_score  train_score\n",
       "0  0.002991    0.002991    0.875000     1.000000\n",
       "1  0.003989    0.001998    0.875000     0.992857\n",
       "2  0.002992    0.001000    0.875000     1.000000\n",
       "3  0.001993    0.003992    0.687500     1.000000\n",
       "4  0.007978    0.007979    0.812500     1.000000\n",
       "5  0.002993    0.001997    0.812500     1.000000\n",
       "6  0.003987    0.001995    0.866667     0.985816\n",
       "7  0.003994    0.002028    0.600000     1.000000\n",
       "8  0.001957    0.005985    0.666667     1.000000\n",
       "9  0.001993    0.001995    0.733333     1.000000"
      ]
     },
     "execution_count": 28,
     "metadata": {},
     "output_type": "execute_result"
    }
   ],
   "source": [
    "X_train, X_test, y_train, y_test = train_test_split(X, y, random_state=42)\n",
    "model = DecisionTreeClassifier(max_depth=10)\n",
    "scores = cross_validate(model, X_train, y_train, cv=10, return_train_score=True)\n",
    "pd.DataFrame(scores)"
   ]
  },
  {
   "cell_type": "code",
   "execution_count": 45,
   "metadata": {
    "slideshow": {
     "slide_type": "skip"
    }
   },
   "outputs": [],
   "source": [
    "def mean_std_cross_val_scores(model, X_train, y_train, **kwargs):\n",
    "    \"\"\"\n",
    "    Returns mean and std of cross validation\n",
    "    \"\"\"\n",
    "    scores = cross_validate(model, X_train, y_train, **kwargs)\n",
    "\n",
    "    mean_scores = pd.DataFrame(scores).mean()\n",
    "    std_scores = pd.DataFrame(scores).std()\n",
    "    out_col = []\n",
    "\n",
    "    for i in range(len(mean_scores)):\n",
    "        out_col.append((f\"%0.3f (+/- %0.3f)\" % (mean_scores[i], std_scores[i])))\n",
    "\n",
    "    return pd.Series(data=out_col, index=mean_scores.index)"
   ]
  },
  {
   "cell_type": "code",
   "execution_count": 46,
   "metadata": {
    "slideshow": {
     "slide_type": "skip"
    }
   },
   "outputs": [
    {
     "data": {
      "text/html": [
       "<div>\n",
       "<style scoped>\n",
       "    .dataframe tbody tr th:only-of-type {\n",
       "        vertical-align: middle;\n",
       "    }\n",
       "\n",
       "    .dataframe tbody tr th {\n",
       "        vertical-align: top;\n",
       "    }\n",
       "\n",
       "    .dataframe thead th {\n",
       "        text-align: right;\n",
       "    }\n",
       "</style>\n",
       "<table border=\"1\" class=\"dataframe\">\n",
       "  <thead>\n",
       "    <tr style=\"text-align: right;\">\n",
       "      <th></th>\n",
       "      <th>fit_time</th>\n",
       "      <th>score_time</th>\n",
       "      <th>test_score</th>\n",
       "      <th>train_score</th>\n",
       "    </tr>\n",
       "  </thead>\n",
       "  <tbody>\n",
       "    <tr>\n",
       "      <th>Decision tree</th>\n",
       "      <td>0.004 (+/- 0.000)</td>\n",
       "      <td>0.003 (+/- 0.001)</td>\n",
       "      <td>0.814 (+/- 0.042)</td>\n",
       "      <td>0.915 (+/- 0.007)</td>\n",
       "    </tr>\n",
       "  </tbody>\n",
       "</table>\n",
       "</div>"
      ],
      "text/plain": [
       "                        fit_time         score_time         test_score  \\\n",
       "Decision tree  0.004 (+/- 0.000)  0.003 (+/- 0.001)  0.814 (+/- 0.042)   \n",
       "\n",
       "                     train_score  \n",
       "Decision tree  0.915 (+/- 0.007)  "
      ]
     },
     "execution_count": 46,
     "metadata": {},
     "output_type": "execute_result"
    }
   ],
   "source": [
    "results = {}\n",
    "results[\"Decision tree\"] = mean_std_cross_val_scores(\n",
    "    model, X_train, y_train, return_train_score=True\n",
    ")\n",
    "pd.DataFrame(results).T"
   ]
  },
  {
   "cell_type": "markdown",
   "metadata": {},
   "source": [
    "- How do we know whether this test score is reasonable? "
   ]
  },
  {
   "cell_type": "markdown",
   "metadata": {
    "slideshow": {
     "slide_type": "slide"
    }
   },
   "source": [
    "### ❓❓ Questions on cross-validation"
   ]
  },
  {
   "cell_type": "markdown",
   "metadata": {
    "slideshow": {
<<<<<<< HEAD
     "slide_type": "slide"
    }
   },
   "source": [
    "- $k$-fold cross-validation calls fit $k$ times and predict $k$ times. True or False? \n",
    "TRUE\n",
    "- We use cross-validation to improve model performance. True or False? \n",
    "FALSE -> ONLY IMRPOVES MODEL ASSESSMENT, NOT PERFORMANCE\n",
    "- If we are using a single validation set, you may get unrealistically high or low validation accuracies. \n",
    "TRUE\n",
    "- Discuss advantages and disadvantages of cross-validation. \n"
   ]
  },
  {
   "cell_type": "markdown",
   "metadata": {
    "slideshow": {
=======
>>>>>>> 1cf947319b6e18cad0e9a377919a9c15ae45cc0a
     "slide_type": "skip"
    }
   },
   "source": [
    "```{admonition} Exercise 3.3: Cross-validation\n",
    "1. $k$-fold cross-validation calls fit $k$. True or False? \n",
    "2. We use cross-validation to improve model performance. True or False? \n",
    "3. Discuss advantages and disadvantages of cross-validation. \n",
    "```"
   ]
  },
  {
   "cell_type": "markdown",
   "metadata": {
    "slideshow": {
     "slide_type": "skip"
    }
   },
   "source": [
    "```{admonition} Exercise 3.3: V's Solutions!\n",
    ":class: tip, dropdown\n",
    "1. True \n",
    "2. False. We can use it to assess model performance.\n",
    "```"
   ]
  },
  {
   "cell_type": "markdown",
   "metadata": {},
   "source": [
    "### <br><br><br><br>"
   ]
  },
  {
   "cell_type": "markdown",
   "metadata": {
    "slideshow": {
     "slide_type": "slide"
    }
   },
   "source": [
    "## Underfitting, overfitting, the fundamental trade-off, the golden rule [[video](https://youtu.be/Ihay8yE5KTI)]"
   ]
  },
  {
   "cell_type": "markdown",
   "metadata": {
    "slideshow": {
     "slide_type": "slide"
    }
   },
   "source": [
    "### Types of errors\n",
    "\n",
    "Imagine that your train and validation errors do not align with each other. How do you diagnose the problem?  \n",
    "\n",
    "We're going to think about 4 types of errors:\n",
    "\n",
    "- $E_\\textrm{train}$ is your training error (or mean train error from cross-validation).\n",
    "- $E_\\textrm{valid}$ is your validation error (or mean validation error from cross-validation).\n",
    "- $E_\\textrm{test}$ is your test error.\n",
    "- $E_\\textrm{best}$ is the best possible error you could get for a given problem."
   ]
  },
  {
   "cell_type": "markdown",
   "metadata": {
    "slideshow": {
     "slide_type": "slide"
    }
   },
   "source": [
    "### Underfitting "
   ]
  },
  {
   "cell_type": "code",
   "execution_count": 31,
   "metadata": {
    "slideshow": {
     "slide_type": "-"
    }
   },
   "outputs": [
    {
     "name": "stdout",
     "output_type": "stream",
     "text": [
      "Train error:   0.188\n",
      "Validation error:   0.212\n"
     ]
    }
   ],
   "source": [
    "model = DecisionTreeClassifier(max_depth=1)  # decision stump\n",
    "scores = cross_validate(model, X_train, y_train, cv=10, return_train_score=True)\n",
    "print(\"Train error:   %0.3f\" % (1 - np.mean(scores[\"train_score\"])))\n",
    "print(\"Validation error:   %0.3f\" % (1 - np.mean(scores[\"test_score\"])))"
   ]
  },
  {
   "cell_type": "markdown",
   "metadata": {
    "slideshow": {
     "slide_type": "slide"
    }
   },
   "source": [
    "- If your model is too simple, like `DummyClassifier` or `DecisionTreeClassifier` with `max_depth=1`, it's not going to pick up on some random quirks in the data but it won't even capture useful patterns in the training data.\n",
    "- The model won't be very good in general. Both train and validation errors would be high. This is **underfitting**.\n",
    "- The gap between train and validation error is going to be lower.\n",
    "- $E_\\textrm{best} \\lt E_\\textrm{train} \\lesssim E_\\textrm{valid}$"
   ]
  },
  {
   "cell_type": "markdown",
   "metadata": {
    "slideshow": {
     "slide_type": "slide"
    }
   },
   "source": [
    "### Overfitting "
   ]
  },
  {
   "cell_type": "code",
   "execution_count": 32,
   "metadata": {
    "slideshow": {
     "slide_type": "-"
    }
   },
   "outputs": [
    {
     "name": "stdout",
     "output_type": "stream",
     "text": [
      "Train error:   0.000\n",
      "Validation error:   0.220\n"
     ]
    }
   ],
   "source": [
    "model = DecisionTreeClassifier(max_depth=None)\n",
    "scores = cross_validate(model, X_train, y_train, cv=10, return_train_score=True)\n",
    "print(\"Train error:   %0.3f\" % (1 - np.mean(scores[\"train_score\"])))\n",
    "print(\"Validation error:   %0.3f\" % (1 - np.mean(scores[\"test_score\"])))"
   ]
  },
  {
   "cell_type": "markdown",
   "metadata": {
    "slideshow": {
     "slide_type": "slide"
    }
   },
   "source": [
    "- If your model is very complex, like a `DecisionTreeClassifier(max_depth=None)`, then you will learn unreliable patterns in order to get every single training example correct.\n",
    "- The training error is going to be very low but there will be a big gap between the training error and the validation error. This is **overfitting**.\n",
    "- In overfitting scenario, usually we'll see: \n",
    "$E_\\textrm{train} \\lt E_\\textrm{best}  \\lt E_\\textrm{valid}$\n",
    "- In general, if $E_\\textrm{train}$ is low, we are likely to be in the overfitting scenario. It is fairly common to have at least a bit of this."
   ]
  },
  {
   "cell_type": "markdown",
   "metadata": {
    "slideshow": {
     "slide_type": "slide"
    }
   },
   "source": [
    "- So the validation error does not necessarily decrease with the training error. "
   ]
  },
  {
   "cell_type": "code",
   "execution_count": 33,
   "metadata": {
    "slideshow": {
     "slide_type": "-"
    }
   },
   "outputs": [],
   "source": [
    "X_train, X_test, y_train, y_test = train_test_split(X, y, random_state=1)\n",
    "results_dict = {\n",
    "    \"depth\": [],\n",
    "    \"mean_train_error\": [],\n",
    "    \"mean_cv_error\": [],\n",
    "    \"std_cv_error\": [],\n",
    "    \"std_train_error\": [],\n",
    "}\n",
    "param_grid = {\"max_depth\": np.arange(1, 16)}\n",
    "\n",
    "for depth in param_grid[\"max_depth\"]:\n",
    "    model = DecisionTreeClassifier(max_depth=depth)\n",
    "    scores = cross_validate(model, X_train, y_train, cv=10, return_train_score=True)\n",
    "    results_dict[\"depth\"].append(depth)\n",
    "    results_dict[\"mean_cv_error\"].append(1 - np.mean(scores[\"test_score\"]))\n",
    "    results_dict[\"mean_train_error\"].append(1 - np.mean(scores[\"train_score\"]))\n",
    "    results_dict[\"std_cv_error\"].append(scores[\"test_score\"].std())\n",
    "    results_dict[\"std_train_error\"].append(scores[\"train_score\"].std())\n",
    "\n",
    "results_df = pd.DataFrame(results_dict)\n",
    "results_df = results_df.set_index(\"depth\")"
   ]
  },
  {
   "cell_type": "code",
   "execution_count": 34,
   "metadata": {
    "slideshow": {
     "slide_type": "slide"
    }
   },
   "outputs": [
    {
     "data": {
      "image/png": "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\n",
      "text/plain": [
       "<Figure size 432x288 with 1 Axes>"
      ]
     },
     "metadata": {
      "needs_background": "light"
     },
     "output_type": "display_data"
    }
   ],
   "source": [
    "results_df[[\"mean_train_error\", \"mean_cv_error\"]].plot();"
   ]
  },
  {
   "cell_type": "markdown",
   "metadata": {
    "slideshow": {
     "slide_type": "-"
    }
   },
   "source": [
    "- Here, for larger depths we observe that the training error is close to 0 but validation error goes up and down. \n",
    "- As we make more complex models we start encoding random quirks in the data, which are not grounded in reality.  \n",
    "- These random quirks do not generalize well to new data. \n",
    "- This problem of failing to be able to generalize to the validation data or test data is called **overfitting**."
   ]
  },
  {
   "cell_type": "markdown",
   "metadata": {
    "slideshow": {
     "slide_type": "slide"
    }
   },
   "source": [
    "### The \"fundamental tradeoff\" of supervised learning:\n",
    "\n",
    "\n",
    "**As you increase model complexity, $E_\\textrm{train}$ tends to go down but $E_\\textrm{valid}-E_\\textrm{train}$ tends to go up.**\n"
   ]
  },
  {
   "cell_type": "markdown",
   "metadata": {
    "slideshow": {
     "slide_type": "slide"
    }
   },
   "source": [
    "### Bias vs variance tradeoff \n",
    "\n",
    "- The fundamental trade-off is also called the bias/variance tradeoff in supervised machine learning.\n",
    "\n",
    "**Bias**\n",
    ": the tendency to consistently learn the same wrong thing (high bias corresponds to underfitting)\n",
    "\n",
    "**Variance** \n",
    ": the tendency to learn random things irrespective of the real signal (high variance corresponds to overfitting)"
   ]
  },
  {
   "cell_type": "markdown",
   "metadata": {
    "slideshow": {
     "slide_type": "skip"
    }
   },
   "source": [
    "```{seealso} \n",
    "Check out [this article by Pedro Domingos](https://homes.cs.washington.edu/~pedrod/papers/cacm12.pdf) for some approachable explanation on machine learning fundamentals and bias-variance tradeoff. \n",
    "```"
   ]
  },
  {
   "cell_type": "markdown",
   "metadata": {
    "slideshow": {
     "slide_type": "slide"
    }
   },
   "source": [
    "### How to pick a model that would generalize better?\n",
    "\n",
    "- We want to avoid both underfitting and overfitting. \n",
    "- We want to be consistent with the training data but we don't to rely too much on it. \n",
    "\n",
    "<!-- <center>\n",
    "<img src='img/malp_0201.png' width=\"800\" height=\"800\" />\n",
    "</center>    \n",
    " -->\n",
    "![](img/malp_0201.png)\n",
    "\n",
    "[source](https://learning.oreilly.com/library/view/introduction-to-machine/9781449369880/ch02.html#relation-of-model-complexity-to-dataset-size)"
   ]
  },
  {
   "cell_type": "markdown",
   "metadata": {
    "slideshow": {
     "slide_type": "slide"
    }
   },
   "source": [
    "- There are many subtleties here and there is no perfect answer but a  common practice is to pick the model with minimum cross-validation error. "
   ]
  },
  {
   "cell_type": "code",
   "execution_count": 47,
   "metadata": {
    "slideshow": {
     "slide_type": "skip"
    }
   },
   "outputs": [],
   "source": [
    "def cross_validate_std(*args, **kwargs):\n",
    "    \"\"\"Like cross_validate, except also gives the standard deviation of the score\"\"\"\n",
    "    res = pd.DataFrame(cross_validate(*args, **kwargs))\n",
    "    res_mean = res.mean()\n",
    "    res_mean[\"std_test_score\"] = res[\"test_score\"].std()\n",
    "    if \"train_score\" in res:\n",
    "        res_mean[\"std_train_score\"] = res[\"train_score\"].std()\n",
    "    return res_mean"
   ]
  },
  {
   "cell_type": "code",
   "execution_count": 36,
   "metadata": {
    "slideshow": {
     "slide_type": "-"
    }
   },
   "outputs": [
    {
     "data": {
      "text/html": [
       "<div>\n",
       "<style scoped>\n",
       "    .dataframe tbody tr th:only-of-type {\n",
       "        vertical-align: middle;\n",
       "    }\n",
       "\n",
       "    .dataframe tbody tr th {\n",
       "        vertical-align: top;\n",
       "    }\n",
       "\n",
       "    .dataframe thead th {\n",
       "        text-align: right;\n",
       "    }\n",
       "</style>\n",
       "<table border=\"1\" class=\"dataframe\">\n",
       "  <thead>\n",
       "    <tr style=\"text-align: right;\">\n",
       "      <th></th>\n",
       "      <th>mean_train_error</th>\n",
       "      <th>mean_cv_error</th>\n",
       "      <th>std_cv_error</th>\n",
       "      <th>std_train_error</th>\n",
       "    </tr>\n",
       "    <tr>\n",
       "      <th>depth</th>\n",
       "      <th></th>\n",
       "      <th></th>\n",
       "      <th></th>\n",
       "      <th></th>\n",
       "    </tr>\n",
       "  </thead>\n",
       "  <tbody>\n",
       "    <tr>\n",
       "      <th>1</th>\n",
       "      <td>0.171657</td>\n",
       "      <td>0.211250</td>\n",
       "      <td>0.048378</td>\n",
       "      <td>0.006805</td>\n",
       "    </tr>\n",
       "    <tr>\n",
       "      <th>2</th>\n",
       "      <td>0.160258</td>\n",
       "      <td>0.217500</td>\n",
       "      <td>0.048940</td>\n",
       "      <td>0.007316</td>\n",
       "    </tr>\n",
       "    <tr>\n",
       "      <th>3</th>\n",
       "      <td>0.142467</td>\n",
       "      <td>0.204583</td>\n",
       "      <td>0.053763</td>\n",
       "      <td>0.022848</td>\n",
       "    </tr>\n",
       "    <tr>\n",
       "      <th>4</th>\n",
       "      <td>0.092604</td>\n",
       "      <td>0.204167</td>\n",
       "      <td>0.070907</td>\n",
       "      <td>0.006531</td>\n",
       "    </tr>\n",
       "    <tr>\n",
       "      <th>5</th>\n",
       "      <td>0.083338</td>\n",
       "      <td>0.185000</td>\n",
       "      <td>0.064205</td>\n",
       "      <td>0.010650</td>\n",
       "    </tr>\n",
       "    <tr>\n",
       "      <th>6</th>\n",
       "      <td>0.066960</td>\n",
       "      <td>0.197500</td>\n",
       "      <td>0.074773</td>\n",
       "      <td>0.012065</td>\n",
       "    </tr>\n",
       "    <tr>\n",
       "      <th>7</th>\n",
       "      <td>0.044873</td>\n",
       "      <td>0.210833</td>\n",
       "      <td>0.085192</td>\n",
       "      <td>0.009059</td>\n",
       "    </tr>\n",
       "    <tr>\n",
       "      <th>8</th>\n",
       "      <td>0.029909</td>\n",
       "      <td>0.216250</td>\n",
       "      <td>0.096833</td>\n",
       "      <td>0.009422</td>\n",
       "    </tr>\n",
       "    <tr>\n",
       "      <th>9</th>\n",
       "      <td>0.020653</td>\n",
       "      <td>0.210000</td>\n",
       "      <td>0.092331</td>\n",
       "      <td>0.010294</td>\n",
       "    </tr>\n",
       "    <tr>\n",
       "      <th>10</th>\n",
       "      <td>0.009260</td>\n",
       "      <td>0.215833</td>\n",
       "      <td>0.092229</td>\n",
       "      <td>0.005563</td>\n",
       "    </tr>\n",
       "    <tr>\n",
       "      <th>11</th>\n",
       "      <td>0.005699</td>\n",
       "      <td>0.222083</td>\n",
       "      <td>0.109323</td>\n",
       "      <td>0.004264</td>\n",
       "    </tr>\n",
       "    <tr>\n",
       "      <th>12</th>\n",
       "      <td>0.003561</td>\n",
       "      <td>0.242083</td>\n",
       "      <td>0.086932</td>\n",
       "      <td>0.004769</td>\n",
       "    </tr>\n",
       "    <tr>\n",
       "      <th>13</th>\n",
       "      <td>0.000000</td>\n",
       "      <td>0.229583</td>\n",
       "      <td>0.084870</td>\n",
       "      <td>0.000000</td>\n",
       "    </tr>\n",
       "    <tr>\n",
       "      <th>14</th>\n",
       "      <td>0.000000</td>\n",
       "      <td>0.235833</td>\n",
       "      <td>0.088373</td>\n",
       "      <td>0.000000</td>\n",
       "    </tr>\n",
       "    <tr>\n",
       "      <th>15</th>\n",
       "      <td>0.000000</td>\n",
       "      <td>0.235833</td>\n",
       "      <td>0.088373</td>\n",
       "      <td>0.000000</td>\n",
       "    </tr>\n",
       "  </tbody>\n",
       "</table>\n",
       "</div>"
      ],
      "text/plain": [
       "       mean_train_error  mean_cv_error  std_cv_error  std_train_error\n",
       "depth                                                                \n",
       "1              0.171657       0.211250      0.048378         0.006805\n",
       "2              0.160258       0.217500      0.048940         0.007316\n",
       "3              0.142467       0.204583      0.053763         0.022848\n",
       "4              0.092604       0.204167      0.070907         0.006531\n",
       "5              0.083338       0.185000      0.064205         0.010650\n",
       "6              0.066960       0.197500      0.074773         0.012065\n",
       "7              0.044873       0.210833      0.085192         0.009059\n",
       "8              0.029909       0.216250      0.096833         0.009422\n",
       "9              0.020653       0.210000      0.092331         0.010294\n",
       "10             0.009260       0.215833      0.092229         0.005563\n",
       "11             0.005699       0.222083      0.109323         0.004264\n",
       "12             0.003561       0.242083      0.086932         0.004769\n",
       "13             0.000000       0.229583      0.084870         0.000000\n",
       "14             0.000000       0.235833      0.088373         0.000000\n",
       "15             0.000000       0.235833      0.088373         0.000000"
      ]
     },
     "execution_count": 36,
     "metadata": {},
     "output_type": "execute_result"
    }
   ],
   "source": [
    "results_df"
   ]
  },
  {
   "cell_type": "markdown",
   "metadata": {
    "slideshow": {
     "slide_type": "slide"
    }
   },
   "source": [
    "### test score vs. cross-validation score"
   ]
  },
  {
   "cell_type": "code",
   "execution_count": 37,
   "metadata": {
    "slideshow": {
     "slide_type": "-"
    }
   },
   "outputs": [
    {
     "name": "stdout",
     "output_type": "stream",
     "text": [
      "The minimum validation error is 0.185 at max_depth = 5 \n"
     ]
    }
   ],
   "source": [
    "best_depth = results_df.index.values[np.argmin(results_df[\"mean_cv_error\"])]\n",
    "print(\n",
    "    \"The minimum validation error is %0.3f at max_depth = %d \"\n",
    "    % (\n",
    "        np.min(results_df[\"mean_cv_error\"]),\n",
    "        best_depth,\n",
    "    )\n",
    ")"
   ]
  },
  {
   "cell_type": "markdown",
   "metadata": {
    "slideshow": {
     "slide_type": "-"
    }
   },
   "source": [
    "- Let's pick `max_depth`= 5 and try this model on the test set. "
   ]
  },
  {
   "cell_type": "code",
   "execution_count": 38,
   "metadata": {
    "slideshow": {
     "slide_type": "-"
    }
   },
   "outputs": [
    {
     "name": "stdout",
     "output_type": "stream",
     "text": [
      "Error on test set: 0.19\n"
     ]
    }
   ],
   "source": [
    "model = DecisionTreeClassifier(max_depth=best_depth)\n",
    "model.fit(X_train, y_train)\n",
    "print(f\"Error on test set: {1 - model.score(X_test, y_test):.2f}\")"
   ]
  },
  {
   "cell_type": "markdown",
   "metadata": {
    "slideshow": {
     "slide_type": "slide"
    }
   },
   "source": [
    "- The test error is comparable with the cross-validation error. \n",
    "- Do we feel confident that this model would give similar performace when deployed? "
   ]
  },
  {
   "cell_type": "markdown",
   "metadata": {
    "slideshow": {
     "slide_type": "slide"
    }
   },
   "source": [
    "### The golden rule <a name=\"4\"></a>\n",
    "\n",
    "- Even though we care the most about test error **THE TEST DATA CANNOT INFLUENCE THE TRAINING PHASE IN ANY WAY**. \n",
    "- We have to be very careful not to violate it while developing our ML pipeline. \n",
    "- Even experts end up breaking it sometimes which leads to misleading results and lack of generalization on the real data. "
   ]
  },
  {
   "cell_type": "markdown",
   "metadata": {
    "slideshow": {
     "slide_type": "slide"
    }
   },
   "source": [
    "#### Golden rule violation: Example 1  \n",
    "\n",
    "![](img/golden_rule_violation.png)\n",
    "\n",
    "<!-- <center>\n",
    "<img src='img/golden_rule_violation.png' width=\"500\" height=\"500\" />\n",
    "</center>    \n",
    " -->\n",
    " \n",
    "<blockquote>\n",
    "   ... He attempted to reproduce the research, and found a major flaw: there was some overlap in the data used to both train and test the model. \n",
    "</blockquote>    "
   ]
  },
  {
   "cell_type": "markdown",
   "metadata": {
    "slideshow": {
     "slide_type": "slide"
    }
   },
   "source": [
    "#### Golden rule violation: Example 2  \n",
    "\n",
    "<!-- <center>\n",
    "<img src='img/golden_rule_violation_2.png' width=\"500\" height=\"500\" />\n",
    "</center>    \n",
    " -->\n",
    " \n",
    "![](img/golden_rule_violation_2.png)\n",
    "\n",
    "<blockquote>\n",
    "  ... The Challenge rules state that you must only test your code twice a week, because there’s an element of chance to the results. Baidu has admitted that it used multiple email accounts to test its code roughly 200 times in just under six months – over four times what the rules allow.\n",
    "</blockquote>\n"
   ]
  },
  {
   "cell_type": "markdown",
   "metadata": {
    "slideshow": {
     "slide_type": "slide"
    }
   },
   "source": [
    "### How can we avoid violating golden rule? \n",
    "\n",
    "- Recall that when we split data, we put our test set in an imaginary vault.\n",
    "\n",
    "<!-- <center>\n",
    "<img src='img/train-test-split.png' width=\"1500\" height=\"1500\" />\n",
    "</center>    \n",
    " -->\n",
    " \n",
    "![](img/train-test-split.png)"
   ]
  },
  {
   "cell_type": "markdown",
   "metadata": {
    "slideshow": {
     "slide_type": "slide"
    }
   },
   "source": [
    "### Here is the workflow we'll generally follow. \n",
    "\n",
    "- **Splitting**: Before doing anything, split the data `X` and `y` into `X_train`, `X_test`, `y_train`, `y_test` or `train_df` and `test_df` using `train_test_split`. \n",
    "- **Select the best model using cross-validation**: Use `cross_validate` with `return_train_score = True` so that we can get access to training scores in each fold. (If we want to plot train vs validation error plots, for instance.) \n",
    "- **Scoring on test data**: Finally score on the test data with the chosen hyperparameters to examine the generalization performance.\n",
    "\n",
    "**Again, there are many subtleties here we'll discuss the golden rule multiple times throughout the course and in the program.**  "
   ]
  },
  {
   "cell_type": "markdown",
   "metadata": {},
   "source": [
    "<br><br><br><br>"
   ]
  },
  {
   "cell_type": "markdown",
   "metadata": {
    "slideshow": {
     "slide_type": "skip"
    }
   },
   "source": [
    "### ❓❓ Questions for you"
   ]
  },
  {
   "cell_type": "markdown",
   "metadata": {
    "slideshow": {
<<<<<<< HEAD
     "slide_type": "slide"
    }
   },
   "source": [
    "### Underfitting or overfitting? \n",
    "\n",
    "1. If the mean train accuracy is much higher than the mean cross-validation accuracy.\n",
    "OVERFITTING\n",
    "2. If the mean train accuracy and the mean cross-validation accuracy are both low and relatively similar in value.\n",
    "UNDERFITTING\n",
    "3. Decision tree with no limit on the depth. \n",
    "OVERFITTING\n",
    "4. Decision stump on a complicated classification problem. \n",
    "UNDERFITTING"
   ]
  },
  {
   "cell_type": "markdown",
   "metadata": {
    "slideshow": {
=======
>>>>>>> 1cf947319b6e18cad0e9a377919a9c15ae45cc0a
     "slide_type": "skip"
    }
   },
   "source": [
    "```{admonition} Exercise 3.4\n",
    "\n",
    "Underfitting or overfitting? \n",
    "1. If the mean train accuracy is much higher than the mean cross-validation accuracy.\n",
    "2. If the mean train accuracy and the mean cross-validation accuracy are both low and relatively similar in value.\n",
    "3. Decision tree with no limit on the depth. \n",
    "4. Decision stump on a complicated classification problem. \n",
    "```"
   ]
  },
  {
   "cell_type": "markdown",
   "metadata": {
    "slideshow": {
     "slide_type": "skip"
    }
   },
   "source": [
    "```{admonition} Exercise 3.4: V's Solutions!\n",
    ":class: tip, dropdown\n",
    "1. Overfitting\n",
    "2. Underfitting\n",
    "3. Overfitting\n",
    "4. Underfitting\n",
    "```"
   ]
  },
  {
   "cell_type": "markdown",
   "metadata": {
    "slideshow": {
<<<<<<< HEAD
     "slide_type": "slide"
    }
   },
   "source": [
    "### State whether True/False. \n",
    "\n",
    "1. In supervised learning, the training error is always lower than the validation error.\n",
    "FALSE -> NOT NECESSARILY ALWAYS, HAVE CHANCE THAT IT'S THE OTHER WAY AROUND\n",
    "2. The fundamental tradeoff of ML states that as training error goes down, validation error goes up.\n",
    "FALSE\n",
    "3. More \"complicated\" models are more likely to overfit than \"simple\" ones.\n",
    "TRUE\n",
    "4. If we had an infinite amount of training data, overfitting would not be a problem.\n",
    "TRUE -> OVERFITTING NOT PROBLEM IF WE HAVE ACCESS TO ALL DATA\n",
    "5. If our training error is extremely low, it's likely that we're overfitting.\n",
    "TRUE"
   ]
  },
  {
   "cell_type": "markdown",
   "metadata": {
    "slideshow": {
=======
>>>>>>> 1cf947319b6e18cad0e9a377919a9c15ae45cc0a
     "slide_type": "skip"
    }
   },
   "source": [
    "```{admonition} Exercise 3.5\n",
    " \n",
    "State whether True/False. \n",
    "\n",
    "1. In supervised learning, the training error is always lower than the validation error.\n",
    "2. The fundamental tradeoff of ML states that as training error goes down, validation error goes up.\n",
    "3. More \"complicated\" models are more likely to overfit than \"simple\" ones.\n",
    "4. If we had an infinite amount of training data, overfitting would not be a problem.\n",
    "5. If our training error is extremely low, we are likely to be overfitting.\n",
    "```"
   ]
  },
  {
   "cell_type": "markdown",
   "metadata": {
    "slideshow": {
     "slide_type": "skip"
    }
   },
   "source": [
    "```{admonition} Exercise 3.5: V's Solutions!\n",
    ":class: tip, dropdown\n",
    "1. False\n",
    "2. False\n",
    "3. True\n",
    "4. True\n",
    "5. True\n",
    "```"
   ]
  },
  {
   "cell_type": "markdown",
   "metadata": {
    "slideshow": {
     "slide_type": "slide"
    }
   },
   "source": [
    "## What did we learn today? \n",
    "\n",
    "- Importance of generalization in supervised machine learning \n",
    "- Data splitting as a way to approximate generalization error \n",
    "- Train, test, validation, deployment data\n",
    "- Cross-validation\n",
    "- A typical sequence of steps to train supervised machine learning models\n",
    "    - training the model on the train split\n",
    "    - tuning hyperparamters using the validation split\n",
    "    - checking the generalization performance on the test split \n",
    "- Overfitting, underfitting, the fundamental tradeoff, and the golden rule.   "
   ]
  },
  {
   "cell_type": "markdown",
   "metadata": {},
   "source": [
    "### Coming up ...  \n",
    "\n",
    "- KNNs, SVM RBFs \n",
    "- Preprocessing\n",
    "    - Imputation\n",
    "    - Scaling\n",
    "    - One-hot encoding\n",
    "    - `sklearn` pipelines"
   ]
  },
  {
   "cell_type": "markdown",
   "metadata": {},
   "source": [
    "![](img/eva-seeyou.png)\n"
   ]
  }
 ],
 "metadata": {
  "celltoolbar": "Slideshow",
  "kernelspec": {
   "display_name": "Python [conda env:cpsc330]",
   "language": "python",
   "name": "conda-env-cpsc330-py"
  },
  "language_info": {
   "codemirror_mode": {
    "name": "ipython",
    "version": 3
   },
   "file_extension": ".py",
   "mimetype": "text/x-python",
   "name": "python",
   "nbconvert_exporter": "python",
   "pygments_lexer": "ipython3",
   "version": "3.9.7"
  }
 },
 "nbformat": 4,
 "nbformat_minor": 4
}
