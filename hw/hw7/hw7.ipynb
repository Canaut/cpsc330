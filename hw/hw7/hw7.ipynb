{
 "cells": [
  {
   "cell_type": "markdown",
   "id": "e33c5b0c-d0f1-40c0-b794-3b3471ac73d2",
   "metadata": {},
   "source": [
    "# CPSC 330 - Applied Machine Learning \n",
    "\n",
    "## Homework 7: Clustering and recommender systems\n",
    "### Associated lectures: Lectures 14 and 15\n",
    "\n",
    "**Due date: Monday, November 15, 2021 at 11:59pm**\n",
    "\n",
    "> Note that this homework is much shorter and simpler than the usual homework assignments because homework 6 is also due on November 15th. "
   ]
  },
  {
   "cell_type": "code",
   "execution_count": 1,
   "id": "a4651888-484b-42a0-95e1-d273e5069205",
   "metadata": {
    "slideshow": {
     "slide_type": "skip"
    }
   },
   "outputs": [],
   "source": [
    "import os\n",
    "\n",
    "%matplotlib inline\n",
    "import matplotlib.pyplot as plt\n",
    "import numpy as np\n",
    "import pandas as pd\n",
    "import seaborn as sns\n",
    "from sklearn.cluster import DBSCAN, KMeans\n",
    "from sklearn.feature_extraction.text import CountVectorizer\n",
    "\n",
    "pd.set_option(\"display.max_colwidth\", 0)"
   ]
  },
  {
   "cell_type": "markdown",
   "id": "086914c2-5de1-414a-8770-23bef9f312d0",
   "metadata": {},
   "source": [
    "<br><br><br><br>"
   ]
  },
  {
   "cell_type": "markdown",
   "id": "afe22cb5-f825-4dba-b5e3-3538f4afe703",
   "metadata": {},
   "source": [
    "## Instructions \n",
    "<hr>\n",
    "rubric={points:2}\n",
    "\n",
    "Follow the [homework submission instructions](https://github.com/UBC-CS/cpsc330/blob/master/docs/homework_instructions.md). \n",
    "\n",
    "**You may work on this homework in a group and submit your assignment as a group.** Below are some instructions on working as a group.  \n",
    "- The maximum group size is 3. \n",
    "- Use group work as an opportunity to collaborate and learn new things from each other. \n",
    "- Be respectful to each other and make sure you understand all the concepts in the assignment well. \n",
    "- It's your responsibility to make sure that the assignment is submitted by one of the group members before the deadline. \n",
    "- You can find the instructions on how to do group submission on Gradescope [here](https://help.gradescope.com/article/m5qz2xsnjy-student-add-group-members)."
   ]
  },
  {
   "cell_type": "markdown",
   "id": "69be5b2d-1854-4c63-bcc6-9b6258b7293a",
   "metadata": {},
   "source": [
    "<br><br><br><br>"
   ]
  },
  {
   "cell_type": "markdown",
   "id": "05d8d363-7c31-4381-8a1d-2b2556108916",
   "metadata": {},
   "source": [
    "## Exercise 1: Document clustering toy example <a name=\"1\"></a>\n",
    "<hr>\n",
    "\n",
    "In lecture 14, we looked at a popular application of clustering: customer segmentation. In this homework, we will work on a toy example of another popular application: [**document clustering**](https://en.wikipedia.org/wiki/Document_clustering). A large amount of unlabeled text data is available out there (e.g., news, recipes, online Q&A), and clustering is a commonly used technique to organize this data in a meaningful way. \n",
    "\n",
    "In this exercise, we will create a toy dataset with sentences from Wikipedia articles and cluster these sentences. "
   ]
  },
  {
   "cell_type": "markdown",
   "id": "56c7b268-4b0a-4d01-9009-a33312f65d33",
   "metadata": {},
   "source": [
    "### 1.1 Sample sentences from Wikipedia articles\n",
    "rubric={points:2}\n",
    "\n",
    "The code below extracts first sentences of Wikipedia articles on a set of queries. You will need the `wikipedia` package installed in the course environment to run the code below. \n",
    "\n",
    "```\n",
    "conda activate cpsc330\n",
    "conda install -c conda-forge wikipedia\n",
    "```\n",
    "\n",
    "You also need `nltk` library in the course environment. \n",
    "\n",
    "```\n",
    "conda install -c anaconda nltk \n",
    "```        \n",
    "\n",
    "**Your tasks:**\n",
    "\n",
    "Run the code below and answer the following question. \n",
    "\n",
    "1. Given this dataset, how many clusters would you expect a clustering algorithm to identify? How would you manually label these clusters?   \n",
    "\n",
    "> *Note 2: Feel free to experiment with queries of your choice. But stick to the provided list for the final submission so that it's easier for the TAs when they grade your submission.*\n"
   ]
  },
  {
   "cell_type": "code",
   "execution_count": 2,
   "id": "374e514b-8b4d-40cf-bcb9-2dbfd4558121",
   "metadata": {},
   "outputs": [
    {
     "name": "stderr",
     "output_type": "stream",
     "text": [
      "[nltk_data] Downloading package punkt to\n",
      "[nltk_data]     C:\\Users\\Johnn\\AppData\\Roaming\\nltk_data...\n",
      "[nltk_data]   Package punkt is already up-to-date!\n"
     ]
    },
    {
     "data": {
      "text/plain": [
       "True"
      ]
     },
     "execution_count": 2,
     "metadata": {},
     "output_type": "execute_result"
    }
   ],
   "source": [
    "import nltk\n",
    "from nltk.tokenize import sent_tokenize, word_tokenize\n",
    "nltk.download(\"punkt\")"
   ]
  },
  {
   "cell_type": "code",
   "execution_count": 3,
   "id": "8c71b2eb-caf0-40f7-b7b0-93f1fadbc548",
   "metadata": {},
   "outputs": [
    {
     "data": {
      "text/html": [
       "<div>\n",
       "<style scoped>\n",
       "    .dataframe tbody tr th:only-of-type {\n",
       "        vertical-align: middle;\n",
       "    }\n",
       "\n",
       "    .dataframe tbody tr th {\n",
       "        vertical-align: top;\n",
       "    }\n",
       "\n",
       "    .dataframe thead th {\n",
       "        text-align: right;\n",
       "    }\n",
       "</style>\n",
       "<table border=\"1\" class=\"dataframe\">\n",
       "  <thead>\n",
       "    <tr style=\"text-align: right;\">\n",
       "      <th></th>\n",
       "      <th>wiki query</th>\n",
       "      <th>text</th>\n",
       "      <th>n_words</th>\n",
       "    </tr>\n",
       "  </thead>\n",
       "  <tbody>\n",
       "    <tr>\n",
       "      <th>0</th>\n",
       "      <td>mango_fruit</td>\n",
       "      <td>A mango is an edible stone fruit produced by the tropical tree Mangifera indica which is believed to have originated from the region between northwestern Myanmar, Bangladesh, and northeastern India.</td>\n",
       "      <td>33</td>\n",
       "    </tr>\n",
       "    <tr>\n",
       "      <th>1</th>\n",
       "      <td>pastry</td>\n",
       "      <td>Pastry is a dough of flour, water and shortening (solid fats, including butter or lard) that may be savoury or sweetened.</td>\n",
       "      <td>26</td>\n",
       "    </tr>\n",
       "    <tr>\n",
       "      <th>2</th>\n",
       "      <td>Julia language</td>\n",
       "      <td>Julia is a high-level, high-performance, dynamic programming language.</td>\n",
       "      <td>11</td>\n",
       "    </tr>\n",
       "    <tr>\n",
       "      <th>3</th>\n",
       "      <td>Python language</td>\n",
       "      <td>Python is an interpreted high-level general-purpose programming language.</td>\n",
       "      <td>9</td>\n",
       "    </tr>\n",
       "    <tr>\n",
       "      <th>4</th>\n",
       "      <td>hockey</td>\n",
       "      <td>Hockey is a sport in which two teams play against each other by trying to manoeuvre a ball or a puck into the opponent's goal using a hockey stick.</td>\n",
       "      <td>31</td>\n",
       "    </tr>\n",
       "    <tr>\n",
       "      <th>5</th>\n",
       "      <td>football</td>\n",
       "      <td>Football is a family of team sports that involve, to varying degrees, kicking a ball to score a goal.</td>\n",
       "      <td>22</td>\n",
       "    </tr>\n",
       "    <tr>\n",
       "      <th>6</th>\n",
       "      <td>supervised learning</td>\n",
       "      <td>Supervised learning (SL) is the machine learning task of learning a function that maps an input to an output based on example input-output pairs.</td>\n",
       "      <td>27</td>\n",
       "    </tr>\n",
       "    <tr>\n",
       "      <th>7</th>\n",
       "      <td>unsupervised learning</td>\n",
       "      <td>Unsupervised learning is a type of machine learning in which the algorithm is not provided with any pre-assigned labels or scores for the training data.</td>\n",
       "      <td>26</td>\n",
       "    </tr>\n",
       "  </tbody>\n",
       "</table>\n",
       "</div>"
      ],
      "text/plain": [
       "              wiki query  \\\n",
       "0  mango_fruit             \n",
       "1  pastry                  \n",
       "2  Julia language          \n",
       "3  Python language         \n",
       "4  hockey                  \n",
       "5  football                \n",
       "6  supervised learning     \n",
       "7  unsupervised learning   \n",
       "\n",
       "                                                                                                                                                                                                     text  \\\n",
       "0  A mango is an edible stone fruit produced by the tropical tree Mangifera indica which is believed to have originated from the region between northwestern Myanmar, Bangladesh, and northeastern India.   \n",
       "1  Pastry is a dough of flour, water and shortening (solid fats, including butter or lard) that may be savoury or sweetened.                                                                                \n",
       "2  Julia is a high-level, high-performance, dynamic programming language.                                                                                                                                   \n",
       "3  Python is an interpreted high-level general-purpose programming language.                                                                                                                                \n",
       "4  Hockey is a sport in which two teams play against each other by trying to manoeuvre a ball or a puck into the opponent's goal using a hockey stick.                                                      \n",
       "5  Football is a family of team sports that involve, to varying degrees, kicking a ball to score a goal.                                                                                                    \n",
       "6  Supervised learning (SL) is the machine learning task of learning a function that maps an input to an output based on example input-output pairs.                                                        \n",
       "7  Unsupervised learning is a type of machine learning in which the algorithm is not provided with any pre-assigned labels or scores for the training data.                                                 \n",
       "\n",
       "   n_words  \n",
       "0  33       \n",
       "1  26       \n",
       "2  11       \n",
       "3  9        \n",
       "4  31       \n",
       "5  22       \n",
       "6  27       \n",
       "7  26       "
      ]
     },
     "execution_count": 3,
     "metadata": {},
     "output_type": "execute_result"
    }
   ],
   "source": [
    "import wikipedia\n",
    "\n",
    "queries = [\n",
    "    \"mango_fruit\",\n",
    "    \"pastry\",\n",
    "    \"Julia language\",\n",
    "    \"Python language\",\n",
    "    \"hockey\",\n",
    "    \"football\",\n",
    "    \"supervised learning\",\n",
    "    \"unsupervised learning\"    \n",
    "]\n",
    "\n",
    "wiki_dict = {\"wiki query\": [], \"text\": [], \"n_words\": []}\n",
    "for i in range(len(queries)):\n",
    "    sent = sent_tokenize(wikipedia.page(queries[i]).content)[0]\n",
    "    wiki_dict[\"text\"].append(sent)\n",
    "    wiki_dict[\"n_words\"].append(len(word_tokenize(sent)))\n",
    "    wiki_dict[\"wiki query\"].append(queries[i])\n",
    "\n",
    "wiki_df = pd.DataFrame(wiki_dict)\n",
    "wiki_df"
   ]
  },
  {
   "cell_type": "markdown",
   "id": "1506b150-103f-4500-883c-1a85a903061e",
   "metadata": {},
   "source": [
    "**We would expect the clustering algorithm to identify 4 different clusters. I would manually identify clusters as food, programming language, sport, and machine learning styles**"
   ]
  },
  {
   "cell_type": "markdown",
   "id": "b9f82cba-4642-4872-8b15-e49eab897821",
   "metadata": {},
   "source": [
    "<br><br>"
   ]
  },
  {
   "cell_type": "markdown",
   "id": "574346ba-94a4-4949-9be3-9ff8ea77488e",
   "metadata": {},
   "source": [
    "### 1.2 `KMeans` with bag-of-words representation \n",
    "rubric={points:4}\n",
    "\n",
    "We have seen that before we pass text to machine learning models, we need to encode it into a numeric representation. So let's encode our toy dataset above (`wiki_df`) to a numeric representation. \n",
    "\n",
    "First, let's try our good old friend: bag-of-words representation. The code below creates dense bag-of-words representation of Wikipedia sentences from 1.1 with [`CountVectorizer`](https://scikit-learn.org/stable/modules/generated/sklearn.feature_extraction.text.CountVectorizer.html). \n",
    "\n",
    "**Your tasks:**\n",
    "\n",
    "Run the code below and answer the following questions. \n",
    "\n",
    "1. Run `KMeans` clustering on the transformed data (`bow_sents`) with K = the number of clusters you identified in 1.1.  \n",
    "2. Examine clustering labels assigned by `KMeans`. Is `KMeans` doing a reasonable job in clustering the sentences? \n",
    "\n",
    "> You can access cluster label assignments using `labels_` attribute of the clustering object. "
   ]
  },
  {
   "cell_type": "code",
   "execution_count": 4,
   "id": "09628f3b-0608-441a-af31-6f8f33ef46d8",
   "metadata": {},
   "outputs": [
    {
     "data": {
      "text/html": [
       "<div>\n",
       "<style scoped>\n",
       "    .dataframe tbody tr th:only-of-type {\n",
       "        vertical-align: middle;\n",
       "    }\n",
       "\n",
       "    .dataframe tbody tr th {\n",
       "        vertical-align: top;\n",
       "    }\n",
       "\n",
       "    .dataframe thead th {\n",
       "        text-align: right;\n",
       "    }\n",
       "</style>\n",
       "<table border=\"1\" class=\"dataframe\">\n",
       "  <thead>\n",
       "    <tr style=\"text-align: right;\">\n",
       "      <th></th>\n",
       "      <th>algorithm</th>\n",
       "      <th>assigned</th>\n",
       "      <th>ball</th>\n",
       "      <th>bangladesh</th>\n",
       "      <th>based</th>\n",
       "      <th>believed</th>\n",
       "      <th>butter</th>\n",
       "      <th>data</th>\n",
       "      <th>degrees</th>\n",
       "      <th>dough</th>\n",
       "      <th>...</th>\n",
       "      <th>teams</th>\n",
       "      <th>training</th>\n",
       "      <th>tree</th>\n",
       "      <th>tropical</th>\n",
       "      <th>trying</th>\n",
       "      <th>type</th>\n",
       "      <th>unsupervised</th>\n",
       "      <th>using</th>\n",
       "      <th>varying</th>\n",
       "      <th>water</th>\n",
       "    </tr>\n",
       "  </thead>\n",
       "  <tbody>\n",
       "    <tr>\n",
       "      <th>0</th>\n",
       "      <td>0</td>\n",
       "      <td>0</td>\n",
       "      <td>0</td>\n",
       "      <td>1</td>\n",
       "      <td>0</td>\n",
       "      <td>1</td>\n",
       "      <td>0</td>\n",
       "      <td>0</td>\n",
       "      <td>0</td>\n",
       "      <td>0</td>\n",
       "      <td>...</td>\n",
       "      <td>0</td>\n",
       "      <td>0</td>\n",
       "      <td>1</td>\n",
       "      <td>1</td>\n",
       "      <td>0</td>\n",
       "      <td>0</td>\n",
       "      <td>0</td>\n",
       "      <td>0</td>\n",
       "      <td>0</td>\n",
       "      <td>0</td>\n",
       "    </tr>\n",
       "    <tr>\n",
       "      <th>1</th>\n",
       "      <td>0</td>\n",
       "      <td>0</td>\n",
       "      <td>0</td>\n",
       "      <td>0</td>\n",
       "      <td>0</td>\n",
       "      <td>0</td>\n",
       "      <td>1</td>\n",
       "      <td>0</td>\n",
       "      <td>0</td>\n",
       "      <td>1</td>\n",
       "      <td>...</td>\n",
       "      <td>0</td>\n",
       "      <td>0</td>\n",
       "      <td>0</td>\n",
       "      <td>0</td>\n",
       "      <td>0</td>\n",
       "      <td>0</td>\n",
       "      <td>0</td>\n",
       "      <td>0</td>\n",
       "      <td>0</td>\n",
       "      <td>1</td>\n",
       "    </tr>\n",
       "    <tr>\n",
       "      <th>2</th>\n",
       "      <td>0</td>\n",
       "      <td>0</td>\n",
       "      <td>0</td>\n",
       "      <td>0</td>\n",
       "      <td>0</td>\n",
       "      <td>0</td>\n",
       "      <td>0</td>\n",
       "      <td>0</td>\n",
       "      <td>0</td>\n",
       "      <td>0</td>\n",
       "      <td>...</td>\n",
       "      <td>0</td>\n",
       "      <td>0</td>\n",
       "      <td>0</td>\n",
       "      <td>0</td>\n",
       "      <td>0</td>\n",
       "      <td>0</td>\n",
       "      <td>0</td>\n",
       "      <td>0</td>\n",
       "      <td>0</td>\n",
       "      <td>0</td>\n",
       "    </tr>\n",
       "    <tr>\n",
       "      <th>3</th>\n",
       "      <td>0</td>\n",
       "      <td>0</td>\n",
       "      <td>0</td>\n",
       "      <td>0</td>\n",
       "      <td>0</td>\n",
       "      <td>0</td>\n",
       "      <td>0</td>\n",
       "      <td>0</td>\n",
       "      <td>0</td>\n",
       "      <td>0</td>\n",
       "      <td>...</td>\n",
       "      <td>0</td>\n",
       "      <td>0</td>\n",
       "      <td>0</td>\n",
       "      <td>0</td>\n",
       "      <td>0</td>\n",
       "      <td>0</td>\n",
       "      <td>0</td>\n",
       "      <td>0</td>\n",
       "      <td>0</td>\n",
       "      <td>0</td>\n",
       "    </tr>\n",
       "    <tr>\n",
       "      <th>4</th>\n",
       "      <td>0</td>\n",
       "      <td>0</td>\n",
       "      <td>1</td>\n",
       "      <td>0</td>\n",
       "      <td>0</td>\n",
       "      <td>0</td>\n",
       "      <td>0</td>\n",
       "      <td>0</td>\n",
       "      <td>0</td>\n",
       "      <td>0</td>\n",
       "      <td>...</td>\n",
       "      <td>1</td>\n",
       "      <td>0</td>\n",
       "      <td>0</td>\n",
       "      <td>0</td>\n",
       "      <td>1</td>\n",
       "      <td>0</td>\n",
       "      <td>0</td>\n",
       "      <td>1</td>\n",
       "      <td>0</td>\n",
       "      <td>0</td>\n",
       "    </tr>\n",
       "    <tr>\n",
       "      <th>5</th>\n",
       "      <td>0</td>\n",
       "      <td>0</td>\n",
       "      <td>1</td>\n",
       "      <td>0</td>\n",
       "      <td>0</td>\n",
       "      <td>0</td>\n",
       "      <td>0</td>\n",
       "      <td>0</td>\n",
       "      <td>1</td>\n",
       "      <td>0</td>\n",
       "      <td>...</td>\n",
       "      <td>0</td>\n",
       "      <td>0</td>\n",
       "      <td>0</td>\n",
       "      <td>0</td>\n",
       "      <td>0</td>\n",
       "      <td>0</td>\n",
       "      <td>0</td>\n",
       "      <td>0</td>\n",
       "      <td>1</td>\n",
       "      <td>0</td>\n",
       "    </tr>\n",
       "    <tr>\n",
       "      <th>6</th>\n",
       "      <td>0</td>\n",
       "      <td>0</td>\n",
       "      <td>0</td>\n",
       "      <td>0</td>\n",
       "      <td>1</td>\n",
       "      <td>0</td>\n",
       "      <td>0</td>\n",
       "      <td>0</td>\n",
       "      <td>0</td>\n",
       "      <td>0</td>\n",
       "      <td>...</td>\n",
       "      <td>0</td>\n",
       "      <td>0</td>\n",
       "      <td>0</td>\n",
       "      <td>0</td>\n",
       "      <td>0</td>\n",
       "      <td>0</td>\n",
       "      <td>0</td>\n",
       "      <td>0</td>\n",
       "      <td>0</td>\n",
       "      <td>0</td>\n",
       "    </tr>\n",
       "    <tr>\n",
       "      <th>7</th>\n",
       "      <td>1</td>\n",
       "      <td>1</td>\n",
       "      <td>0</td>\n",
       "      <td>0</td>\n",
       "      <td>0</td>\n",
       "      <td>0</td>\n",
       "      <td>0</td>\n",
       "      <td>1</td>\n",
       "      <td>0</td>\n",
       "      <td>0</td>\n",
       "      <td>...</td>\n",
       "      <td>0</td>\n",
       "      <td>1</td>\n",
       "      <td>0</td>\n",
       "      <td>0</td>\n",
       "      <td>0</td>\n",
       "      <td>1</td>\n",
       "      <td>1</td>\n",
       "      <td>0</td>\n",
       "      <td>0</td>\n",
       "      <td>0</td>\n",
       "    </tr>\n",
       "  </tbody>\n",
       "</table>\n",
       "<p>8 rows × 83 columns</p>\n",
       "</div>"
      ],
      "text/plain": [
       "   algorithm  assigned  ball  bangladesh  based  believed  butter  data  \\\n",
       "0  0          0         0     1           0      1         0       0      \n",
       "1  0          0         0     0           0      0         1       0      \n",
       "2  0          0         0     0           0      0         0       0      \n",
       "3  0          0         0     0           0      0         0       0      \n",
       "4  0          0         1     0           0      0         0       0      \n",
       "5  0          0         1     0           0      0         0       0      \n",
       "6  0          0         0     0           1      0         0       0      \n",
       "7  1          1         0     0           0      0         0       1      \n",
       "\n",
       "   degrees  dough  ...  teams  training  tree  tropical  trying  type  \\\n",
       "0  0        0      ...  0      0         1     1         0       0      \n",
       "1  0        1      ...  0      0         0     0         0       0      \n",
       "2  0        0      ...  0      0         0     0         0       0      \n",
       "3  0        0      ...  0      0         0     0         0       0      \n",
       "4  0        0      ...  1      0         0     0         1       0      \n",
       "5  1        0      ...  0      0         0     0         0       0      \n",
       "6  0        0      ...  0      0         0     0         0       0      \n",
       "7  0        0      ...  0      1         0     0         0       1      \n",
       "\n",
       "   unsupervised  using  varying  water  \n",
       "0  0             0      0        0      \n",
       "1  0             0      0        1      \n",
       "2  0             0      0        0      \n",
       "3  0             0      0        0      \n",
       "4  0             1      0        0      \n",
       "5  0             0      1        0      \n",
       "6  0             0      0        0      \n",
       "7  1             0      0        0      \n",
       "\n",
       "[8 rows x 83 columns]"
      ]
     },
     "execution_count": 4,
     "metadata": {},
     "output_type": "execute_result"
    }
   ],
   "source": [
    "vec = CountVectorizer(stop_words='english')\n",
    "bow_sents = vec.fit_transform(wiki_df[\"text\"]).todense()\n",
    "bow_df = pd.DataFrame(\n",
    "    data=bow_sents, columns=vec.get_feature_names(), index=wiki_df.index\n",
    ")\n",
    "bow_df"
   ]
  },
  {
   "cell_type": "code",
   "execution_count": 5,
   "id": "7fcaa019-cb12-4e66-a84d-43260def00c0",
   "metadata": {},
   "outputs": [
    {
     "data": {
      "text/plain": [
       "array([2, 0, 0, 0, 3, 3, 1, 1])"
      ]
     },
     "execution_count": 5,
     "metadata": {},
     "output_type": "execute_result"
    }
   ],
   "source": [
    "from sklearn.cluster import KMeans\n",
    "kmeans = KMeans(n_clusters = 4, random_state = 1)\n",
    "kmeans.fit(bow_sents)\n",
    "bow_df_cl = bow_df.copy()\n",
    "bow_df_cl[\"cluster\"] =kmeans.predict(bow_df)\n",
    "kmeans.labels_"
   ]
  },
  {
   "cell_type": "markdown",
   "id": "44d4c2bf-0c53-49e1-a0c5-b6266a1a4d83",
   "metadata": {},
   "source": [
    "**I would say Kmeans is doing a decently good job a clustering the sentences (correctly identified 3/4 clusters)**"
   ]
  },
  {
   "cell_type": "markdown",
   "id": "02261e6d-8195-4248-9c21-5bc520baa89e",
   "metadata": {},
   "source": [
    "<br><br>"
   ]
  },
  {
   "cell_type": "markdown",
   "id": "8d1e1b0b-faec-4b86-9e59-b45b3a133e2f",
   "metadata": {},
   "source": [
    "### 1.3 Sentence embedding representation\n",
    "rubric={points:6}\n",
    "\n",
    "Clustering is sensitive to what kind of representation we use for the given data. \n",
    "Bag-of-words representation is limited in that it does not take into account word ordering and context. There are other richer representations of text, and we are going to use one such representation in this exercise. \n",
    "\n",
    "The code below creates an alternative and a more expressive representation of sentences. We will call it *sentence embedding representation*. We'll use [sentence transformer](https://www.sbert.net/index.html) to extract these representations. At this point it's enough to know that this is an alternative representation of text which usually works better than simple bag-of-words representation. We will talk a bit more about embedding representations next week. You need to install `sentence-transformers` in the course conda environment to run the code below. \n",
    "\n",
    "```\n",
    "conda activate cpsc330\n",
    "conda install -c conda-forge sentence-transformers\n",
    "```\n",
    "\n",
    "**Your tasks:**\n",
    "\n",
    "Run the code below and answer the following questions. \n",
    "\n",
    "1. How many dimensions (features associated with each example) are present in this representation? \n",
    "2. Run `KMeans` clustering with sentence embedding representation of text (`emb_sents`) and examine cluster labels. \n",
    "3. How well the sentences are clustered together? "
   ]
  },
  {
   "cell_type": "code",
   "execution_count": 6,
   "id": "0a092544-58d7-418d-84ff-2e898ece2c2f",
   "metadata": {},
   "outputs": [],
   "source": [
    "from sentence_transformers import SentenceTransformer\n",
    "\n",
    "embedder = SentenceTransformer(\"paraphrase-distilroberta-base-v1\")"
   ]
  },
  {
   "cell_type": "code",
   "execution_count": 7,
   "id": "20174ee5-9122-4c10-b112-4a675653fee8",
   "metadata": {},
   "outputs": [
    {
     "data": {
      "text/html": [
       "<div>\n",
       "<style scoped>\n",
       "    .dataframe tbody tr th:only-of-type {\n",
       "        vertical-align: middle;\n",
       "    }\n",
       "\n",
       "    .dataframe tbody tr th {\n",
       "        vertical-align: top;\n",
       "    }\n",
       "\n",
       "    .dataframe thead th {\n",
       "        text-align: right;\n",
       "    }\n",
       "</style>\n",
       "<table border=\"1\" class=\"dataframe\">\n",
       "  <thead>\n",
       "    <tr style=\"text-align: right;\">\n",
       "      <th></th>\n",
       "      <th>0</th>\n",
       "      <th>1</th>\n",
       "      <th>2</th>\n",
       "      <th>3</th>\n",
       "      <th>4</th>\n",
       "      <th>5</th>\n",
       "      <th>6</th>\n",
       "      <th>7</th>\n",
       "      <th>8</th>\n",
       "      <th>9</th>\n",
       "      <th>...</th>\n",
       "      <th>758</th>\n",
       "      <th>759</th>\n",
       "      <th>760</th>\n",
       "      <th>761</th>\n",
       "      <th>762</th>\n",
       "      <th>763</th>\n",
       "      <th>764</th>\n",
       "      <th>765</th>\n",
       "      <th>766</th>\n",
       "      <th>767</th>\n",
       "    </tr>\n",
       "  </thead>\n",
       "  <tbody>\n",
       "    <tr>\n",
       "      <th>0</th>\n",
       "      <td>-0.056666</td>\n",
       "      <td>-0.025778</td>\n",
       "      <td>0.248908</td>\n",
       "      <td>-0.052198</td>\n",
       "      <td>-0.046876</td>\n",
       "      <td>0.202116</td>\n",
       "      <td>0.235076</td>\n",
       "      <td>0.322160</td>\n",
       "      <td>-0.023799</td>\n",
       "      <td>0.133034</td>\n",
       "      <td>...</td>\n",
       "      <td>0.239582</td>\n",
       "      <td>-0.022871</td>\n",
       "      <td>0.071445</td>\n",
       "      <td>0.402666</td>\n",
       "      <td>-0.134781</td>\n",
       "      <td>0.177697</td>\n",
       "      <td>-0.123651</td>\n",
       "      <td>0.446757</td>\n",
       "      <td>0.204768</td>\n",
       "      <td>-0.048541</td>\n",
       "    </tr>\n",
       "    <tr>\n",
       "      <th>1</th>\n",
       "      <td>-0.062657</td>\n",
       "      <td>0.214339</td>\n",
       "      <td>-0.025160</td>\n",
       "      <td>0.276731</td>\n",
       "      <td>0.401149</td>\n",
       "      <td>0.030865</td>\n",
       "      <td>-0.089944</td>\n",
       "      <td>0.331922</td>\n",
       "      <td>-0.247056</td>\n",
       "      <td>0.175028</td>\n",
       "      <td>...</td>\n",
       "      <td>0.039294</td>\n",
       "      <td>-0.100197</td>\n",
       "      <td>0.201217</td>\n",
       "      <td>0.257111</td>\n",
       "      <td>0.194594</td>\n",
       "      <td>0.280075</td>\n",
       "      <td>0.037366</td>\n",
       "      <td>0.205146</td>\n",
       "      <td>0.044872</td>\n",
       "      <td>-0.078719</td>\n",
       "    </tr>\n",
       "    <tr>\n",
       "      <th>2</th>\n",
       "      <td>0.063674</td>\n",
       "      <td>0.287056</td>\n",
       "      <td>0.098705</td>\n",
       "      <td>0.048766</td>\n",
       "      <td>0.562877</td>\n",
       "      <td>-0.015978</td>\n",
       "      <td>-0.129418</td>\n",
       "      <td>0.098363</td>\n",
       "      <td>0.249305</td>\n",
       "      <td>0.269618</td>\n",
       "      <td>...</td>\n",
       "      <td>0.483838</td>\n",
       "      <td>-0.017338</td>\n",
       "      <td>0.194521</td>\n",
       "      <td>0.185484</td>\n",
       "      <td>0.536235</td>\n",
       "      <td>0.137246</td>\n",
       "      <td>0.368983</td>\n",
       "      <td>-0.028611</td>\n",
       "      <td>-0.017652</td>\n",
       "      <td>-0.192852</td>\n",
       "    </tr>\n",
       "    <tr>\n",
       "      <th>3</th>\n",
       "      <td>0.112806</td>\n",
       "      <td>-0.137214</td>\n",
       "      <td>0.082946</td>\n",
       "      <td>-0.066925</td>\n",
       "      <td>0.558055</td>\n",
       "      <td>0.197494</td>\n",
       "      <td>-0.034394</td>\n",
       "      <td>0.421297</td>\n",
       "      <td>0.105453</td>\n",
       "      <td>0.280035</td>\n",
       "      <td>...</td>\n",
       "      <td>0.464874</td>\n",
       "      <td>0.291358</td>\n",
       "      <td>-0.028042</td>\n",
       "      <td>0.120064</td>\n",
       "      <td>0.021188</td>\n",
       "      <td>0.300265</td>\n",
       "      <td>0.323037</td>\n",
       "      <td>0.072128</td>\n",
       "      <td>0.047298</td>\n",
       "      <td>-0.076177</td>\n",
       "    </tr>\n",
       "    <tr>\n",
       "      <th>4</th>\n",
       "      <td>-0.027003</td>\n",
       "      <td>-0.244208</td>\n",
       "      <td>-0.090704</td>\n",
       "      <td>0.037250</td>\n",
       "      <td>0.029517</td>\n",
       "      <td>-0.441170</td>\n",
       "      <td>0.205250</td>\n",
       "      <td>0.373760</td>\n",
       "      <td>-0.046666</td>\n",
       "      <td>-0.006260</td>\n",
       "      <td>...</td>\n",
       "      <td>0.479729</td>\n",
       "      <td>-0.121558</td>\n",
       "      <td>0.002595</td>\n",
       "      <td>-0.147080</td>\n",
       "      <td>-0.277787</td>\n",
       "      <td>0.082878</td>\n",
       "      <td>-0.182319</td>\n",
       "      <td>0.786005</td>\n",
       "      <td>0.235606</td>\n",
       "      <td>-0.125455</td>\n",
       "    </tr>\n",
       "    <tr>\n",
       "      <th>5</th>\n",
       "      <td>-0.071756</td>\n",
       "      <td>0.133156</td>\n",
       "      <td>-0.071761</td>\n",
       "      <td>0.306060</td>\n",
       "      <td>0.358961</td>\n",
       "      <td>-0.061443</td>\n",
       "      <td>0.167584</td>\n",
       "      <td>0.364614</td>\n",
       "      <td>0.323541</td>\n",
       "      <td>0.141398</td>\n",
       "      <td>...</td>\n",
       "      <td>0.404115</td>\n",
       "      <td>0.000236</td>\n",
       "      <td>0.177493</td>\n",
       "      <td>0.016162</td>\n",
       "      <td>0.232335</td>\n",
       "      <td>0.260556</td>\n",
       "      <td>0.168149</td>\n",
       "      <td>0.483963</td>\n",
       "      <td>0.121122</td>\n",
       "      <td>0.196881</td>\n",
       "    </tr>\n",
       "    <tr>\n",
       "      <th>6</th>\n",
       "      <td>0.056006</td>\n",
       "      <td>-0.111174</td>\n",
       "      <td>-0.041483</td>\n",
       "      <td>0.279775</td>\n",
       "      <td>0.758024</td>\n",
       "      <td>0.181266</td>\n",
       "      <td>0.128420</td>\n",
       "      <td>0.323363</td>\n",
       "      <td>0.297055</td>\n",
       "      <td>0.154679</td>\n",
       "      <td>...</td>\n",
       "      <td>-0.007967</td>\n",
       "      <td>-0.061345</td>\n",
       "      <td>0.352495</td>\n",
       "      <td>0.011700</td>\n",
       "      <td>-0.358587</td>\n",
       "      <td>-0.052314</td>\n",
       "      <td>0.370847</td>\n",
       "      <td>-0.276011</td>\n",
       "      <td>0.105793</td>\n",
       "      <td>0.175194</td>\n",
       "    </tr>\n",
       "    <tr>\n",
       "      <th>7</th>\n",
       "      <td>0.040102</td>\n",
       "      <td>-0.104918</td>\n",
       "      <td>-0.181901</td>\n",
       "      <td>0.099643</td>\n",
       "      <td>0.746790</td>\n",
       "      <td>0.334654</td>\n",
       "      <td>0.106366</td>\n",
       "      <td>0.238596</td>\n",
       "      <td>0.142745</td>\n",
       "      <td>0.110568</td>\n",
       "      <td>...</td>\n",
       "      <td>0.113404</td>\n",
       "      <td>0.065607</td>\n",
       "      <td>-0.014091</td>\n",
       "      <td>-0.047726</td>\n",
       "      <td>-0.410689</td>\n",
       "      <td>0.133482</td>\n",
       "      <td>0.388844</td>\n",
       "      <td>-0.313182</td>\n",
       "      <td>0.013006</td>\n",
       "      <td>-0.074869</td>\n",
       "    </tr>\n",
       "  </tbody>\n",
       "</table>\n",
       "<p>8 rows × 768 columns</p>\n",
       "</div>"
      ],
      "text/plain": [
       "          0         1         2         3         4         5         6  \\\n",
       "0 -0.056666 -0.025778  0.248908 -0.052198 -0.046876  0.202116  0.235076   \n",
       "1 -0.062657  0.214339 -0.025160  0.276731  0.401149  0.030865 -0.089944   \n",
       "2  0.063674  0.287056  0.098705  0.048766  0.562877 -0.015978 -0.129418   \n",
       "3  0.112806 -0.137214  0.082946 -0.066925  0.558055  0.197494 -0.034394   \n",
       "4 -0.027003 -0.244208 -0.090704  0.037250  0.029517 -0.441170  0.205250   \n",
       "5 -0.071756  0.133156 -0.071761  0.306060  0.358961 -0.061443  0.167584   \n",
       "6  0.056006 -0.111174 -0.041483  0.279775  0.758024  0.181266  0.128420   \n",
       "7  0.040102 -0.104918 -0.181901  0.099643  0.746790  0.334654  0.106366   \n",
       "\n",
       "          7         8         9  ...       758       759       760       761  \\\n",
       "0  0.322160 -0.023799  0.133034  ...  0.239582 -0.022871  0.071445  0.402666   \n",
       "1  0.331922 -0.247056  0.175028  ...  0.039294 -0.100197  0.201217  0.257111   \n",
       "2  0.098363  0.249305  0.269618  ...  0.483838 -0.017338  0.194521  0.185484   \n",
       "3  0.421297  0.105453  0.280035  ...  0.464874  0.291358 -0.028042  0.120064   \n",
       "4  0.373760 -0.046666 -0.006260  ...  0.479729 -0.121558  0.002595 -0.147080   \n",
       "5  0.364614  0.323541  0.141398  ...  0.404115  0.000236  0.177493  0.016162   \n",
       "6  0.323363  0.297055  0.154679  ... -0.007967 -0.061345  0.352495  0.011700   \n",
       "7  0.238596  0.142745  0.110568  ...  0.113404  0.065607 -0.014091 -0.047726   \n",
       "\n",
       "        762       763       764       765       766       767  \n",
       "0 -0.134781  0.177697 -0.123651  0.446757  0.204768 -0.048541  \n",
       "1  0.194594  0.280075  0.037366  0.205146  0.044872 -0.078719  \n",
       "2  0.536235  0.137246  0.368983 -0.028611 -0.017652 -0.192852  \n",
       "3  0.021188  0.300265  0.323037  0.072128  0.047298 -0.076177  \n",
       "4 -0.277787  0.082878 -0.182319  0.786005  0.235606 -0.125455  \n",
       "5  0.232335  0.260556  0.168149  0.483963  0.121122  0.196881  \n",
       "6 -0.358587 -0.052314  0.370847 -0.276011  0.105793  0.175194  \n",
       "7 -0.410689  0.133482  0.388844 -0.313182  0.013006 -0.074869  \n",
       "\n",
       "[8 rows x 768 columns]"
      ]
     },
     "execution_count": 7,
     "metadata": {},
     "output_type": "execute_result"
    }
   ],
   "source": [
    "emb_sents = embedder.encode(wiki_df[\"text\"])\n",
    "emb_sent_df = pd.DataFrame(emb_sents, index=wiki_df.index)\n",
    "emb_sent_df"
   ]
  },
  {
   "cell_type": "code",
   "execution_count": 8,
   "id": "b76c58e3-4da5-4e2e-a1a8-0bcbddd158b1",
   "metadata": {},
   "outputs": [
    {
     "data": {
      "text/plain": [
       "array([3, 3, 1, 1, 0, 0, 2, 2])"
      ]
     },
     "execution_count": 8,
     "metadata": {},
     "output_type": "execute_result"
    }
   ],
   "source": [
    "kmeans = KMeans(n_clusters = 4, random_state = 1)\n",
    "kmeans.fit(emb_sents)\n",
    "emb_df_cl = emb_sent_df.copy()\n",
    "emb_df_cl[\"cluster\"] =kmeans.predict(emb_sent_df)\n",
    "kmeans.labels_"
   ]
  },
  {
   "cell_type": "markdown",
   "id": "fe69f2a3-8c0a-4e4d-b049-9709a4aa731e",
   "metadata": {},
   "source": [
    "**1. There are 768 total dimensions in this representation.**\n",
    "\\\n",
    "**3.The sentences are well clustered together with similar sentences correctly matching to the same cluster.**"
   ]
  },
  {
   "cell_type": "markdown",
   "id": "50a67c7a-83a4-473a-b710-f31c01f4b6fc",
   "metadata": {},
   "source": [
    "<br><br>"
   ]
  },
  {
   "cell_type": "markdown",
   "id": "436f7a64-57c5-4511-a2c7-bd319dfdc8b7",
   "metadata": {},
   "source": [
    "### 1.4 DBSCAN with cosine distance  \n",
    "rubric={points:8}\n",
    "\n",
    "Let's try `DBSCAN` on our toy dataset. K-Means is kind of bound to the Euclidean distance because it is based on the notion of means. With `DBSCAN` we can try different distance metrics. In the context of text (sparse data), [cosine similarities](https://scikit-learn.org/stable/modules/metrics.html#cosine-similarity) or cosine distances tend to work better. Given vectors $u$ and $v$, the **cosine distance** between the vectors is defined as: \n",
    "\n",
    "$$distance_{cosine}(u,v) = 1 - (\\frac{u \\cdot v}{\\left\\lVert u\\right\\rVert_2 \\left\\lVert v\\right\\rVert_2})$$\n",
    "\n",
    "In this exercise, you'll use DBSCAN with cosine distances. \n",
    "\n",
    "**Your tasks**\n",
    "\n",
    "1. Use DBSCAN to cluster our toy data using sentence embedding representation (`emb_sents`) and `metric='cosine'`. \n",
    "2. Briefly comment on the number of clusters identified and the cluster assignment given by the algorithm.\n",
    "\n",
    "> *Note: You will also have to set appropriate values for the hyperparamters `eps` and `min_samples` to get meaningful clusters, as default values for these hyperparameters won't work on this toy dataset. In order to set appropriate value for `eps`, you may want to examine the distances given by [sklearn's `cosine_distance`](https://scikit-learn.org/stable/modules/generated/sklearn.metrics.pairwise.cosine_distances.html).*"
   ]
  },
  {
   "cell_type": "code",
   "execution_count": 9,
   "id": "8f05cc32-daf4-4fa3-992c-515e4f9c64df",
   "metadata": {},
   "outputs": [
    {
     "data": {
      "text/plain": [
       "array([-1, -1,  0,  0,  1,  1,  2,  2], dtype=int64)"
      ]
     },
     "execution_count": 9,
     "metadata": {},
     "output_type": "execute_result"
    }
   ],
   "source": [
    "from sklearn.cluster import DBSCAN\n",
    "from sklearn.metrics.pairwise import cosine_distances\n",
    "# print(cosine_distances(emb_sents))\n",
    "\n",
    "dbscan = DBSCAN(eps=0.6, min_samples=2, metric='cosine')\n",
    "dbscan.fit(emb_sents)\n",
    "db_scan_emb_cl = emb_sent_df.copy()\n",
    "db_scan_emb_cl[\"cluster\"] = dbscan.fit_predict(emb_sents)\n",
    "dbscan.labels_"
   ]
  },
  {
   "cell_type": "markdown",
   "id": "97bf9ec1-010c-4a59-bd5a-2d9e9e6aced5",
   "metadata": {},
   "source": []
  },
  {
   "cell_type": "code",
   "execution_count": null,
   "id": "c503ca87-906d-4077-b35e-0d9e14738e2e",
   "metadata": {},
   "outputs": [],
   "source": []
  },
  {
   "cell_type": "markdown",
   "id": "9f359f90-e90c-4311-adb2-39b6f9a3433c",
   "metadata": {},
   "source": [
    "<br><br>"
   ]
  },
  {
   "cell_type": "markdown",
   "id": "7a30b339-3799-4d4c-b9d5-c0c048243c1f",
   "metadata": {},
   "source": [
    "### 1.5 Visualizing clusters \n",
    "rubric={points:5}\n",
    "\n",
    "One thing we could do with unlabeled data is visualizing it. That said, our data is high dimensional (each example is represented with 768 dimensions) and high-dimensional data is hard to visualize. One way to visualize high-dimensional data is applying dimensionality reduction to get the most important (2 or 3) components of the dataset and visualizing this low-dimensional data. \n",
    "\n",
    "Given data as a `numpy` array and cluster assignments, the `plot_pca_clusters` function below transforms the given data by applying dimensionality reduction and plots the transformed data into corresponding clusters. \n",
    "\n",
    "> *Note: At this point we are using this function only for visualization and you are not expected to understand the PCA part. Feel free to modify the function as you see fit.*\n",
    "\n",
    "**Your tasks:**\n",
    "\n",
    "1. Call the function `plot_pca_clusters` to visualize the clusters created by the three models above:\n",
    "    - KMeans with bag-of-words representation \n",
    "    - KMeans with sentence embedding representation \n",
    "    - DBSCAN with sentence embedding representation "
   ]
  },
  {
   "cell_type": "code",
   "execution_count": 10,
   "id": "5531c582-11c4-4691-8110-4ccc7342fdda",
   "metadata": {},
   "outputs": [],
   "source": [
    "from sklearn.decomposition import PCA # Obtain the principal components\n",
    "\n",
    "def plot_pca_clusters(\n",
    "    data,\n",
    "    cluster_labels,\n",
    "    raw_sents=wiki_df[\"text\"],\n",
    "    show_labels=False,\n",
    "    size=100,\n",
    "    title=\"PCA visualization\",\n",
    "):\n",
    "    \"\"\"\n",
    "    Carry out dimensionality reduction using PCA and plot 2-dimensional clusters.\n",
    "\n",
    "    Parameters\n",
    "    -----------\n",
    "    data : numpy array\n",
    "        data as a numpy array\n",
    "    cluster_labels : list\n",
    "        cluster labels for each row in the dataset\n",
    "    raw_sents : list\n",
    "        the original raw sentences for labeling datapoints\n",
    "    show_labels : boolean\n",
    "        whether you want to show labels for points or not (default: False)\n",
    "    size : int\n",
    "        size of points in the scatterplot\n",
    "    title : str\n",
    "        title for the visualization plot\n",
    "\n",
    "    Returns\n",
    "    -----------\n",
    "    None. Shows the clusters.\n",
    "    \"\"\"\n",
    "\n",
    "    pca = PCA(n_components=2)\n",
    "    principal_comp = pca.fit_transform(data)\n",
    "    pca_df = pd.DataFrame(data=principal_comp, columns=[\"pca1\", \"pca2\"])\n",
    "    pca_df[\"cluster\"] = cluster_labels\n",
    "\n",
    "    plt.figure(figsize=(10, 7))\n",
    "    plt.title(title)\n",
    "    ax = sns.scatterplot(\n",
    "        x=\"pca1\", y=\"pca2\", hue=\"cluster\", data=pca_df, palette=\"tab10\", s=size\n",
    "    )\n",
    "\n",
    "    x = pca_df[\"pca1\"].tolist()\n",
    "    y = pca_df[\"pca2\"].tolist()\n",
    "    if show_labels:\n",
    "        for i, txt in enumerate(raw_sents):\n",
    "            plt.annotate(\" \".join(txt.split()[:10]), (x[i], y[i]))\n",
    "        ax.legend(loc=\"upper right\")\n",
    "\n",
    "    plt.show()"
   ]
  },
  {
   "cell_type": "markdown",
   "id": "b60195d0-3070-43e5-8d76-b59bf9796a6b",
   "metadata": {},
   "source": []
  },
  {
   "cell_type": "code",
   "execution_count": 11,
   "id": "889a02d1-d171-4d25-a98d-f2b46fb84810",
   "metadata": {},
   "outputs": [
    {
     "data": {
      "image/png": "[encoded data removed]",
      "text/plain": [
       "<Figure size 720x504 with 1 Axes>"
      ]
     },
     "metadata": {
      "needs_background": "light"
     },
     "output_type": "display_data"
    },
    {
     "data": {
      "image/png": "[encoded data removed]",
      "text/plain": [
       "<Figure size 720x504 with 1 Axes>"
      ]
     },
     "metadata": {
      "needs_background": "light"
     },
     "output_type": "display_data"
    },
    {
     "data": {
      "image/png": "[encoded data removed]",
      "text/plain": [
       "<Figure size 720x504 with 1 Axes>"
      ]
     },
     "metadata": {
      "needs_background": "light"
     },
     "output_type": "display_data"
    }
   ],
   "source": [
    "plot_pca_clusters(bow_df, bow_df_cl[\"cluster\"], title = \"PCA Visualization of Kmeans with bag of words\")\n",
    "plot_pca_clusters(emb_sent_df, emb_df_cl[\"cluster\"], title = \"PCA Visualization of Kmeans with embedding\")\n",
    "plot_pca_clusters(db_scan_emb_cl, db_scan_emb_cl[\"cluster\"], title = \"PCA Visualization of DBSCAN with embedding\")"
   ]
  },
  {
   "cell_type": "markdown",
   "id": "f0bf74a4-86f7-479f-ac54-4fbd0709b126",
   "metadata": {},
   "source": [
    "<br><br><br><br>"
   ]
  },
  {
   "cell_type": "markdown",
   "id": "6f5d135d-cf62-4a8c-990d-631ee1662913",
   "metadata": {},
   "source": [
    "## Exercise 2: Movie recommendations\n",
    "<hr>\n",
    "\n",
    "Let's build simple movie recommendation systems using the [MovieLens dataset](https://www.kaggle.com/prajitdatta/movielens-100k-dataset/data). The original source of the data is [here](https://grouplens.org/datasets/movielens/), and the structure of the data is described in the [README](http://files.grouplens.org/datasets/movielens/ml-latest-small-README.html) that comes with it. The code below reads the data as a CSV assuming that it's under `data/ml-100k/` directory under your lab folder. "
   ]
  },
  {
   "cell_type": "code",
   "execution_count": 12,
   "id": "41780f0a-8c8d-4baf-8059-cf428dad85cf",
   "metadata": {},
   "outputs": [
    {
     "data": {
      "text/html": [
       "<div>\n",
       "<style scoped>\n",
       "    .dataframe tbody tr th:only-of-type {\n",
       "        vertical-align: middle;\n",
       "    }\n",
       "\n",
       "    .dataframe tbody tr th {\n",
       "        vertical-align: top;\n",
       "    }\n",
       "\n",
       "    .dataframe thead th {\n",
       "        text-align: right;\n",
       "    }\n",
       "</style>\n",
       "<table border=\"1\" class=\"dataframe\">\n",
       "  <thead>\n",
       "    <tr style=\"text-align: right;\">\n",
       "      <th></th>\n",
       "      <th>user_id</th>\n",
       "      <th>movie_id</th>\n",
       "      <th>rating</th>\n",
       "      <th>timestamp</th>\n",
       "    </tr>\n",
       "  </thead>\n",
       "  <tbody>\n",
       "    <tr>\n",
       "      <th>0</th>\n",
       "      <td>196</td>\n",
       "      <td>242</td>\n",
       "      <td>3</td>\n",
       "      <td>881250949</td>\n",
       "    </tr>\n",
       "    <tr>\n",
       "      <th>1</th>\n",
       "      <td>186</td>\n",
       "      <td>302</td>\n",
       "      <td>3</td>\n",
       "      <td>891717742</td>\n",
       "    </tr>\n",
       "    <tr>\n",
       "      <th>2</th>\n",
       "      <td>22</td>\n",
       "      <td>377</td>\n",
       "      <td>1</td>\n",
       "      <td>878887116</td>\n",
       "    </tr>\n",
       "    <tr>\n",
       "      <th>3</th>\n",
       "      <td>244</td>\n",
       "      <td>51</td>\n",
       "      <td>2</td>\n",
       "      <td>880606923</td>\n",
       "    </tr>\n",
       "    <tr>\n",
       "      <th>4</th>\n",
       "      <td>166</td>\n",
       "      <td>346</td>\n",
       "      <td>1</td>\n",
       "      <td>886397596</td>\n",
       "    </tr>\n",
       "  </tbody>\n",
       "</table>\n",
       "</div>"
      ],
      "text/plain": [
       "   user_id  movie_id  rating  timestamp\n",
       "0  196      242       3       881250949\n",
       "1  186      302       3       891717742\n",
       "2  22       377       1       878887116\n",
       "3  244      51        2       880606923\n",
       "4  166      346       1       886397596"
      ]
     },
     "execution_count": 12,
     "metadata": {},
     "output_type": "execute_result"
    }
   ],
   "source": [
    "r_cols = [\"user_id\", \"movie_id\", \"rating\", \"timestamp\"]\n",
    "ratings = pd.read_csv(\n",
    "    os.path.join(\"data\", \"ml-100k\", \"u.data\"),\n",
    "    sep=\"\\t\",\n",
    "    names=r_cols,\n",
    "    encoding=\"latin-1\",\n",
    ")\n",
    "ratings.head()"
   ]
  },
  {
   "cell_type": "code",
   "execution_count": 13,
   "id": "206ca960-e598-48ba-b506-3710e3714047",
   "metadata": {},
   "outputs": [],
   "source": [
    "# We'll be using these keys later in the starter code\n",
    "user_key = \"user_id\"\n",
    "item_key = \"movie_id\""
   ]
  },
  {
   "cell_type": "markdown",
   "id": "b05efce7-bc1e-4ff1-888c-5053b4f57479",
   "metadata": {},
   "source": [
    "### 2.1 Terminology\n",
    "rubric={points:3}\n",
    "\n",
    "Here is some notation we will be using in this homework. \n",
    "\n",
    "**Constants**:\n",
    "\n",
    " - $N$: the number of users, indexed by $n$\n",
    " - $M$: the number of movies, indexed by $m$\n",
    " - $\\mathcal{R}$: the set of indices $(n,m)$ where we have ratings in the utility matrix $Y$\n",
    "    - Thus $|\\mathcal{R}|$ is the total number of ratings\n",
    " \n",
    "**The data**:\n",
    "\n",
    " - $Y$: the utility matrix containing ratings, with a lot of missing entries\n",
    " - `train_mat` and `valid_mat`: Utility matrices for train and validation sets, respectively\n",
    " \n",
    "    \n",
    "**Your tasks:**    \n",
    "\n",
    "1. What are the values of $N$ and $M$ in movie ratings data?  \n",
    "2. What would be the shape of the dense utility matrix $Y$? \n",
    "3. What would be the fraction of non missing ratings in the utility matrix $Y$? "
   ]
  },
  {
   "cell_type": "code",
   "execution_count": 14,
   "id": "40744eb3-0f31-4237-934e-4694fa82192e",
   "metadata": {},
   "outputs": [
    {
     "name": "stdout",
     "output_type": "stream",
     "text": [
      "Number of users(N): 943\n",
      "Number of movies(M): 1682\n",
      "Shape of dense utility matrix (Y): 1586126\n",
      "Fraction of non-missing ratings: 0.06304669364224531\n"
     ]
    }
   ],
   "source": [
    "N = ratings[user_key].nunique()\n",
    "M = ratings[item_key].nunique()\n",
    "Y = N*M\n",
    "print(\"Number of users(N):\", N)\n",
    "print(\"Number of movies(M):\", M)\n",
    "print(\"Shape of dense utility matrix (Y):\", Y)\n",
    "print(\"Fraction of non-missing ratings:\", (ratings.shape[0]/Y))"
   ]
  },
  {
   "cell_type": "markdown",
   "id": "2810fb2f-d56c-4869-8741-15da6fb265dc",
   "metadata": {},
   "source": []
  },
  {
   "cell_type": "markdown",
   "id": "5c433a44-37b9-4113-8102-10d918cc84ac",
   "metadata": {},
   "source": [
    "<br><br>"
   ]
  },
  {
   "cell_type": "markdown",
   "id": "af68b939-60c8-4da8-a32e-384b887656b8",
   "metadata": {},
   "source": [
    "### 2.2 Splitting the data\n",
    "rubric={points:5}\n",
    "\n",
    "**Your tasks:**\n",
    "\n",
    "1. Split the ratings data with `test_size=0.2` and `random_state=42`. "
   ]
  },
  {
   "cell_type": "code",
   "execution_count": 15,
   "id": "14ecdd35-f503-4a4e-a392-5acb7921711a",
   "metadata": {},
   "outputs": [],
   "source": [
    "#From lecture 15\n",
    "from sklearn.model_selection import train_test_split\n",
    "\n",
    "X = ratings.copy()\n",
    "y = ratings[user_key]\n",
    "X_train, X_valid, y_train, y_valid = train_test_split(\n",
    "    X, y, test_size=0.2, random_state=42\n",
    ")"
   ]
  },
  {
   "cell_type": "markdown",
   "id": "ce1526cf-a7e5-425e-b8e5-dd8cadb53a50",
   "metadata": {},
   "source": [
    "<br><br>"
   ]
  },
  {
   "cell_type": "markdown",
   "id": "3eb483ab-ae9a-4d3d-a2d5-be404c422c14",
   "metadata": {},
   "source": [
    "### 2.3 Utility matrix \n",
    "rubric={points:10}\n",
    "\n",
    "**Your tasks**\n",
    "1. Create utility matrices for train and validation sets (similar to how we did in the class). \n",
    "2. Briefly explain the difference between the train and validation utility matrices. \n",
    "\n",
    "> You may use the code from lecture notes with appropriate attributions.  \n",
    "\n",
    "> You won't do it in real life but since our dataset is not that big, create a dense utility matrix in this assignment. You are welcome to try sparse matrix but then you may have to change some started code provided in the later exercises.  "
   ]
  },
  {
   "cell_type": "code",
   "execution_count": 16,
   "id": "b9b8d514-615a-4166-b597-eee2e53dbfd8",
   "metadata": {},
   "outputs": [],
   "source": [
    "user_mapper = dict(zip(np.unique(ratings[user_key]), list(range(N))))\n",
    "item_mapper = dict(zip(np.unique(ratings[item_key]), list(range(M))))\n",
    "user_inverse_mapper = dict(zip(list(range(N)), np.unique(ratings[user_key])))\n",
    "item_inverse_mapper = dict(zip(list(range(M)), np.unique(ratings[item_key])))\n",
    "\n",
    "#From Lecture 15\n",
    "def create_Y_from_ratings(data, N, M):\n",
    "    Y = np.zeros((N, M))\n",
    "    Y.fill(np.nan)\n",
    "    for index, val in data.iterrows():\n",
    "        n = user_mapper[val[user_key]]\n",
    "        m = item_mapper[val[item_key]]\n",
    "        Y[n, m] = val[\"rating\"]\n",
    "\n",
    "    return Y"
   ]
  },
  {
   "cell_type": "code",
   "execution_count": 17,
   "id": "192d8a08-c194-45c2-83ca-63156311401e",
   "metadata": {},
   "outputs": [],
   "source": [
    "train_mat = create_Y_from_ratings(X_train, N, M)\n",
    "valid_mat = create_Y_from_ratings(X_valid, N, M)"
   ]
  },
  {
   "cell_type": "markdown",
   "id": "6c57d79a-61c4-4e10-9bf3-3d0f6218b4fb",
   "metadata": {},
   "source": [
    "**Only the ratings from the training set are found in the training matrix. And only the ratings from the validation set are found in the validation matrix. We use the validation matrix to test power of the model**"
   ]
  },
  {
   "cell_type": "markdown",
   "id": "bce90c62-f51b-4c35-a136-52176cbf8ea3",
   "metadata": {},
   "source": [
    "<br><br>"
   ]
  },
  {
   "cell_type": "markdown",
   "id": "a94b8ac2-56be-4193-abda-fea9d4cefb4a",
   "metadata": {},
   "source": [
    "### 2.4 Evaluation and baseline\n",
    "rubric={points:4}\n",
    "\n",
    "To compare different models you build in this homework, let's write a couple of functions for evaluation. \n",
    "- The `error` function returns RMSE.\n",
    "- The `evaluate` function prints the train and validation RMSEs. \n",
    "\n",
    "**Your task:**\n",
    "\n",
    "1. Briefly explain what exactly we are comparing to evaluate recommender systems. \n",
    "2. Implement the global average baseline, where you predict everything as the global average rating. What's the RMSE of the global average baseline?"
   ]
  },
  {
   "cell_type": "code",
   "execution_count": 18,
   "id": "15c3c76a-5d5b-4773-a48c-0f26d5ec5ec8",
   "metadata": {},
   "outputs": [],
   "source": [
    "def error(Y1, Y2):\n",
    "    \"\"\"\n",
    "    Returns the root mean squared error (RMSE).\n",
    "    \"\"\"\n",
    "    return np.sqrt(np.nanmean((Y1 - Y2) ** 2))\n",
    "\n",
    "\n",
    "def evaluate(pred_Y, train_mat, valid_mat, model_name=\"Global average\"):\n",
    "    print(\"%s train RMSE: %0.2f\" % (model_name, error(pred_Y, train_mat)))\n",
    "    print(\"%s valid RMSE: %0.2f\" % (model_name, error(pred_Y, valid_mat)))\n",
    "    "
   ]
  },
  {
   "cell_type": "code",
   "execution_count": 19,
   "id": "d3d199ec-110a-4a28-a3af-ddf4d51c2410",
   "metadata": {},
   "outputs": [
    {
     "data": {
      "text/html": [
       "<div>\n",
       "<style scoped>\n",
       "    .dataframe tbody tr th:only-of-type {\n",
       "        vertical-align: middle;\n",
       "    }\n",
       "\n",
       "    .dataframe tbody tr th {\n",
       "        vertical-align: top;\n",
       "    }\n",
       "\n",
       "    .dataframe thead th {\n",
       "        text-align: right;\n",
       "    }\n",
       "</style>\n",
       "<table border=\"1\" class=\"dataframe\">\n",
       "  <thead>\n",
       "    <tr style=\"text-align: right;\">\n",
       "      <th></th>\n",
       "      <th>0</th>\n",
       "      <th>1</th>\n",
       "      <th>2</th>\n",
       "      <th>3</th>\n",
       "      <th>4</th>\n",
       "      <th>5</th>\n",
       "      <th>6</th>\n",
       "      <th>7</th>\n",
       "      <th>8</th>\n",
       "      <th>9</th>\n",
       "      <th>...</th>\n",
       "      <th>1672</th>\n",
       "      <th>1673</th>\n",
       "      <th>1674</th>\n",
       "      <th>1675</th>\n",
       "      <th>1676</th>\n",
       "      <th>1677</th>\n",
       "      <th>1678</th>\n",
       "      <th>1679</th>\n",
       "      <th>1680</th>\n",
       "      <th>1681</th>\n",
       "    </tr>\n",
       "  </thead>\n",
       "  <tbody>\n",
       "    <tr>\n",
       "      <th>0</th>\n",
       "      <td>3.531262</td>\n",
       "      <td>3.531262</td>\n",
       "      <td>3.531262</td>\n",
       "      <td>3.531262</td>\n",
       "      <td>3.531262</td>\n",
       "      <td>3.531262</td>\n",
       "      <td>3.531262</td>\n",
       "      <td>3.531262</td>\n",
       "      <td>3.531262</td>\n",
       "      <td>3.531262</td>\n",
       "      <td>...</td>\n",
       "      <td>3.531262</td>\n",
       "      <td>3.531262</td>\n",
       "      <td>3.531262</td>\n",
       "      <td>3.531262</td>\n",
       "      <td>3.531262</td>\n",
       "      <td>3.531262</td>\n",
       "      <td>3.531262</td>\n",
       "      <td>3.531262</td>\n",
       "      <td>3.531262</td>\n",
       "      <td>3.531262</td>\n",
       "    </tr>\n",
       "    <tr>\n",
       "      <th>1</th>\n",
       "      <td>3.531262</td>\n",
       "      <td>3.531262</td>\n",
       "      <td>3.531262</td>\n",
       "      <td>3.531262</td>\n",
       "      <td>3.531262</td>\n",
       "      <td>3.531262</td>\n",
       "      <td>3.531262</td>\n",
       "      <td>3.531262</td>\n",
       "      <td>3.531262</td>\n",
       "      <td>3.531262</td>\n",
       "      <td>...</td>\n",
       "      <td>3.531262</td>\n",
       "      <td>3.531262</td>\n",
       "      <td>3.531262</td>\n",
       "      <td>3.531262</td>\n",
       "      <td>3.531262</td>\n",
       "      <td>3.531262</td>\n",
       "      <td>3.531262</td>\n",
       "      <td>3.531262</td>\n",
       "      <td>3.531262</td>\n",
       "      <td>3.531262</td>\n",
       "    </tr>\n",
       "    <tr>\n",
       "      <th>2</th>\n",
       "      <td>3.531262</td>\n",
       "      <td>3.531262</td>\n",
       "      <td>3.531262</td>\n",
       "      <td>3.531262</td>\n",
       "      <td>3.531262</td>\n",
       "      <td>3.531262</td>\n",
       "      <td>3.531262</td>\n",
       "      <td>3.531262</td>\n",
       "      <td>3.531262</td>\n",
       "      <td>3.531262</td>\n",
       "      <td>...</td>\n",
       "      <td>3.531262</td>\n",
       "      <td>3.531262</td>\n",
       "      <td>3.531262</td>\n",
       "      <td>3.531262</td>\n",
       "      <td>3.531262</td>\n",
       "      <td>3.531262</td>\n",
       "      <td>3.531262</td>\n",
       "      <td>3.531262</td>\n",
       "      <td>3.531262</td>\n",
       "      <td>3.531262</td>\n",
       "    </tr>\n",
       "    <tr>\n",
       "      <th>3</th>\n",
       "      <td>3.531262</td>\n",
       "      <td>3.531262</td>\n",
       "      <td>3.531262</td>\n",
       "      <td>3.531262</td>\n",
       "      <td>3.531262</td>\n",
       "      <td>3.531262</td>\n",
       "      <td>3.531262</td>\n",
       "      <td>3.531262</td>\n",
       "      <td>3.531262</td>\n",
       "      <td>3.531262</td>\n",
       "      <td>...</td>\n",
       "      <td>3.531262</td>\n",
       "      <td>3.531262</td>\n",
       "      <td>3.531262</td>\n",
       "      <td>3.531262</td>\n",
       "      <td>3.531262</td>\n",
       "      <td>3.531262</td>\n",
       "      <td>3.531262</td>\n",
       "      <td>3.531262</td>\n",
       "      <td>3.531262</td>\n",
       "      <td>3.531262</td>\n",
       "    </tr>\n",
       "    <tr>\n",
       "      <th>4</th>\n",
       "      <td>3.531262</td>\n",
       "      <td>3.531262</td>\n",
       "      <td>3.531262</td>\n",
       "      <td>3.531262</td>\n",
       "      <td>3.531262</td>\n",
       "      <td>3.531262</td>\n",
       "      <td>3.531262</td>\n",
       "      <td>3.531262</td>\n",
       "      <td>3.531262</td>\n",
       "      <td>3.531262</td>\n",
       "      <td>...</td>\n",
       "      <td>3.531262</td>\n",
       "      <td>3.531262</td>\n",
       "      <td>3.531262</td>\n",
       "      <td>3.531262</td>\n",
       "      <td>3.531262</td>\n",
       "      <td>3.531262</td>\n",
       "      <td>3.531262</td>\n",
       "      <td>3.531262</td>\n",
       "      <td>3.531262</td>\n",
       "      <td>3.531262</td>\n",
       "    </tr>\n",
       "  </tbody>\n",
       "</table>\n",
       "<p>5 rows × 1682 columns</p>\n",
       "</div>"
      ],
      "text/plain": [
       "          0         1         2         3         4         5         6  \\\n",
       "0  3.531262  3.531262  3.531262  3.531262  3.531262  3.531262  3.531262   \n",
       "1  3.531262  3.531262  3.531262  3.531262  3.531262  3.531262  3.531262   \n",
       "2  3.531262  3.531262  3.531262  3.531262  3.531262  3.531262  3.531262   \n",
       "3  3.531262  3.531262  3.531262  3.531262  3.531262  3.531262  3.531262   \n",
       "4  3.531262  3.531262  3.531262  3.531262  3.531262  3.531262  3.531262   \n",
       "\n",
       "          7         8         9  ...      1672      1673      1674      1675  \\\n",
       "0  3.531262  3.531262  3.531262  ...  3.531262  3.531262  3.531262  3.531262   \n",
       "1  3.531262  3.531262  3.531262  ...  3.531262  3.531262  3.531262  3.531262   \n",
       "2  3.531262  3.531262  3.531262  ...  3.531262  3.531262  3.531262  3.531262   \n",
       "3  3.531262  3.531262  3.531262  ...  3.531262  3.531262  3.531262  3.531262   \n",
       "4  3.531262  3.531262  3.531262  ...  3.531262  3.531262  3.531262  3.531262   \n",
       "\n",
       "       1676      1677      1678      1679      1680      1681  \n",
       "0  3.531262  3.531262  3.531262  3.531262  3.531262  3.531262  \n",
       "1  3.531262  3.531262  3.531262  3.531262  3.531262  3.531262  \n",
       "2  3.531262  3.531262  3.531262  3.531262  3.531262  3.531262  \n",
       "3  3.531262  3.531262  3.531262  3.531262  3.531262  3.531262  \n",
       "4  3.531262  3.531262  3.531262  3.531262  3.531262  3.531262  \n",
       "\n",
       "[5 rows x 1682 columns]"
      ]
     },
     "execution_count": 19,
     "metadata": {},
     "output_type": "execute_result"
    }
   ],
   "source": [
    "#From lecture 15 (global average baseline)\n",
    "avg = np.nanmean(train_mat)\n",
    "pred_g = np.zeros(train_mat.shape) + avg\n",
    "pd.DataFrame(pred_g).head()"
   ]
  },
  {
   "cell_type": "code",
   "execution_count": 20,
   "id": "eb4df519-e300-4609-bba4-173a6e652446",
   "metadata": {},
   "outputs": [
    {
     "name": "stdout",
     "output_type": "stream",
     "text": [
      "Global average train RMSE: 1.13\n",
      "Global average valid RMSE: 1.12\n",
      "The global average RMSE is: 3.5312625\n"
     ]
    }
   ],
   "source": [
    "evaluate(pred_g, train_mat, valid_mat, model_name=\"Global average\")\n",
    "print(\"The global average RMSE is:\", pred_g[0][0])"
   ]
  },
  {
   "cell_type": "markdown",
   "id": "f757ffcd-be92-4cfb-a5a2-14299a6b7a8c",
   "metadata": {},
   "source": [
    "**1. We are comparing the predicted score and the actual score of ratings (measured in RMSE).**\n",
    "\\\n",
    "**2. The global average RMSE is 3.531262**"
   ]
  },
  {
   "cell_type": "markdown",
   "id": "161a6ab6-62ef-4fdd-ba0d-5e7e920154a3",
   "metadata": {},
   "source": [
    "<br><br>"
   ]
  },
  {
   "cell_type": "markdown",
   "id": "2d9a02d5-bf63-428a-8bac-9fa6f2f38681",
   "metadata": {},
   "source": [
    "### (Optional) 2.5 $k$-nearest neighbours imputation\n",
    "rubric={points:1}\n",
    "\n",
    "**Your tasks:**\n",
    "\n",
    "Try [KNNImputer](https://scikit-learn.org/stable/modules/generated/sklearn.impute.KNNImputer.html) to fill in the missing entries. Discuss your observations. "
   ]
  },
  {
   "cell_type": "code",
   "execution_count": 21,
   "id": "8eedabc3-15d5-43ec-ac49-ae820f5ec5f9",
   "metadata": {},
   "outputs": [],
   "source": [
    "# from sklearn.impute import KNNImputer\n",
    "\n",
    "# imputer = KNNImputer(n_neighbors=10)\n",
    "# train_mat_imp = imputer.fit_transform(train_mat, y = (943, 1682))\n",
    "# pd.DataFrame(train_mat_imp), pd.DataFrame(train_mat)"
   ]
  },
  {
   "cell_type": "code",
   "execution_count": 22,
   "id": "a5c05456-4b64-44cf-b8bf-bd83ad9ad7b1",
   "metadata": {},
   "outputs": [],
   "source": [
    "# evaluate(train_mat_imp, train_mat, valid_mat, model_name=\"KNN imputer\")"
   ]
  },
  {
   "cell_type": "markdown",
   "id": "8567e44d-bf19-4664-b4bf-9dfd4234add2",
   "metadata": {},
   "source": []
  },
  {
   "cell_type": "markdown",
   "id": "ff65bf17-79e9-4b85-9739-bfc9faf540fa",
   "metadata": {},
   "source": [
    "<br><br>"
   ]
  },
  {
   "cell_type": "markdown",
   "id": "b34d2e8f-e22a-4377-9110-fff8d041289e",
   "metadata": {},
   "source": [
    "### 2.6 Use collaborative filtering with the `surprise` package\n",
    "rubric={points:6}\n",
    "\n",
    "Use the [`surprise`](https://surprise.readthedocs.io/en/stable/) package which has implementation of SVD algorithm for collaborative filtering. You can install it as follows in your conda environment. \n",
    "\n",
    "```\n",
    ">> conda activate cpsc330\n",
    ">> conda install -c conda-forge scikit-surprise\n",
    "or \n",
    ">> pip install scikit-surprise\n",
    "```\n",
    "\n",
    "**Your tasks:**\n",
    "\n",
    "1. Carry out cross-validation using SVD algorithm in the package, similar to how we did it in the lecture on Jester dataset. Report mean RMSE and compare it with global baseline. "
   ]
  },
  {
   "cell_type": "code",
   "execution_count": 23,
   "id": "16a6f54d-b8db-431b-9a8e-2e7a557caa3e",
   "metadata": {},
   "outputs": [
    {
     "name": "stdout",
     "output_type": "stream",
     "text": [
      "RMSE: 0.9328\n"
     ]
    },
    {
     "data": {
      "text/plain": [
       "0.932839700199596"
      ]
     },
     "execution_count": 23,
     "metadata": {},
     "output_type": "execute_result"
    }
   ],
   "source": [
    "import surprise\n",
    "from surprise import SVD, Dataset, Reader, accuracy\n",
    "\n",
    "#Code from lecture 15\n",
    "\n",
    "ratings_df = ratings.drop(columns = \"timestamp\")\n",
    "reader = Reader()\n",
    "data = Dataset.load_from_df(ratings_df, reader)\n",
    "\n",
    "trainset, validset = surprise.model_selection.train_test_split(\n",
    "    data, test_size=0.2, random_state=42\n",
    ")\n",
    "\n",
    "k = 10\n",
    "algo = SVD(n_factors=k, random_state=42)\n",
    "algo.fit(trainset)\n",
    "svd_preds = algo.test(validset)\n",
    "accuracy.rmse(svd_preds, verbose=True)"
   ]
  },
  {
   "cell_type": "code",
   "execution_count": 24,
   "id": "bfb30dfe-bd1e-4cb8-99ca-50af2eac8900",
   "metadata": {},
   "outputs": [
    {
     "name": "stdout",
     "output_type": "stream",
     "text": [
      "Evaluating RMSE, MAE of algorithm SVD on 5 split(s).\n",
      "\n",
      "                  Fold 1  Fold 2  Fold 3  Fold 4  Fold 5  Mean    Std     \n",
      "RMSE (testset)    0.9315  0.9391  0.9436  0.9321  0.9379  0.9368  0.0045  \n",
      "MAE (testset)     0.7367  0.7393  0.7434  0.7382  0.7421  0.7399  0.0025  \n",
      "Fit time          2.44    2.71    3.07    2.80    2.75    2.76    0.20    \n",
      "Test time         0.16    0.22    0.28    0.19    0.26    0.22    0.04    \n"
     ]
    }
   ],
   "source": [
    "from surprise.model_selection import cross_validate\n",
    "#from lecture 15\n",
    "\n",
    "results = cross_validate(algo, data, measures=[\"RMSE\", \"MAE\"], cv=5, verbose=True)"
   ]
  },
  {
   "cell_type": "code",
   "execution_count": 25,
   "id": "09115e5e-73ac-4560-8414-1c07f96eb3d3",
   "metadata": {},
   "outputs": [
    {
     "data": {
      "text/plain": [
       "test_rmse    0.936833\n",
       "test_mae     0.739950\n",
       "fit_time     2.755230\n",
       "test_time    0.220611\n",
       "dtype: float64"
      ]
     },
     "execution_count": 25,
     "metadata": {},
     "output_type": "execute_result"
    }
   ],
   "source": [
    "pd.DataFrame(results).mean()"
   ]
  },
  {
   "cell_type": "markdown",
   "id": "cd9e5145-6c62-493e-a69f-f0d7731f9239",
   "metadata": {},
   "source": [
    "**The SVD algorithm produced a mean RMSE of 0.936 which is lower than the global test RMSE of 1.12.**"
   ]
  },
  {
   "cell_type": "markdown",
   "id": "a044157f-1236-4cb9-8c76-82647f23cc99",
   "metadata": {},
   "source": [
    "<br><br><br><br>"
   ]
  },
  {
   "cell_type": "markdown",
   "id": "e3d184a9-7fad-4e34-8fa7-b10443d83911",
   "metadata": {},
   "source": [
    "## Exercise 3: Short answer questions\n",
    "<hr>\n",
    "\n",
    "rubric={points:5}\n",
    "\n",
    "Answer the following short-answer questions: \n",
    "\n",
    "1. What's the main difference between unsupervised and supervised learning?\n",
    "2. When choosing $k$ in K-Means, why not just choose the $k$ that leads to the smallest inertia (sum of squared distances within clusters)?\n",
    "3. You decide to use clustering for _outlier detection_; that is, to detect instances that are very atypical compared to all the rest. How might you do this with $k$-means?\n",
    "4. You decide to use clustering for _outlier detection_; that is, to detect instances that are very atypical compared to all the rest. How might you do this with DBSCAN?\n",
    "5. How might you apply clustering to recommendation systems? "
   ]
  },
  {
   "cell_type": "markdown",
   "id": "ef60d746-29e7-4295-8426-2373711b9511",
   "metadata": {},
   "source": [
    "**1. The main difference between supervised and unsupervised learning is that the training data have no corresponding targets in unsupervised learning whereas there are targets in supervised learning. Additionally unsupervised learning is used to group similarities in the data together.**\n",
    "\\\n",
    "**2. We don't choose the k that leads to the smallest intertia because that would lead to choosing k equals the number of data points which will lead to inertia of 0. We choose the K at the elbow point because that is possibly the k which groups the data point together the best (additional increase in K has little change relatively on inertia)**\n",
    "\\\n",
    "**3. Optimize for k using the elbow/silhouette method. Set a threshold distance between the point and is corresponding distance. If the distance between the cluster center and the point exceeds the threshold, it is considered an outlier.**\n",
    "\\\n",
    "**4. Modify the eps value (used as a threshold for grouping points together in a cluster.**\n",
    "\\\n",
    "**5. Clustering can be used by recommendation systems by grouping similar things together. For example, if a person likes a certain movie and wants to seek out a similar movie, we can use a clustering algorithm to find similar movies to the one that the user selects.**"
   ]
  },
  {
   "cell_type": "markdown",
   "id": "43410bc8-d121-4da6-997b-b84cbf419e16",
   "metadata": {},
   "source": []
  },
  {
   "cell_type": "markdown",
   "id": "87ea9c37-34c9-4b3e-a2df-e00cedd3e8ae",
   "metadata": {},
   "source": [
    "<br><br><br><br>"
   ]
  },
  {
   "cell_type": "markdown",
   "id": "ab723dc5-4ea6-4c44-ace9-bf345bf8c120",
   "metadata": {},
   "source": [
    "## Submission instructions \n",
    "\n",
    "**PLEASE READ:** When you are ready to submit your assignment do the following:\n",
    "\n",
    "1. Run all cells in your notebook to make sure there are no errors by doing `Kernel -> Restart Kernel and Clear All Outputs` and then `Run -> Run All Cells`. \n",
    "2. Notebooks with cell execution numbers out of order or not starting from “1” will have marks deducted. Notebooks without the output displayed may not be graded at all (because we need to see the output in order to grade your work).\n",
    "3. Upload the assignment using Gradescope's drag and drop tool. Check out this [Gradescope Student Guide](https://lthub.ubc.ca/guides/gradescope-student-guide/) if you need help with Gradescope submission. "
   ]
  }
 ],
 "metadata": {
  "kernelspec": {
   "display_name": "Python [conda env:cpsc330]",
   "language": "python",
   "name": "conda-env-cpsc330-py"
  },
  "language_info": {
   "codemirror_mode": {
    "name": "ipython",
    "version": 3
   },
   "file_extension": ".py",
   "mimetype": "text/x-python",
   "name": "python",
   "nbconvert_exporter": "python",
   "pygments_lexer": "ipython3",
   "version": "3.9.7"
  }
 },
 "nbformat": 4,
 "nbformat_minor": 5
}
